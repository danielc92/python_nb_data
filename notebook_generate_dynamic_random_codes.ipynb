{
 "cells": [
  {
   "cell_type": "code",
   "execution_count": 1,
   "metadata": {},
   "outputs": [],
   "source": [
    "import random"
   ]
  },
  {
   "cell_type": "code",
   "execution_count": 2,
   "metadata": {},
   "outputs": [],
   "source": [
    "def generate_dynamic_random_code(code_length):\n",
    "    \n",
    "    characters_string = \"abcdefghijklmnopqrstuvwxyz1234567890ABCDEFGHIJKLMNOPQRSTUVWXYZ\"\n",
    "    \n",
    "    listchar = list(characters_string)\n",
    "    \n",
    "    placeholder_string = \"-\" * code_length\n",
    "    \n",
    "    placeholders = list(placeholder_string)\n",
    "    \n",
    "    for index in range(len(placeholders)):\n",
    "    \n",
    "        random_index = random.randint(0,len(listchar) - 1)\n",
    "    \n",
    "        character = listchar[random_index]\n",
    "    \n",
    "        placeholders[index] = character\n",
    "    \n",
    "    code = \"\".join(placeholders)\n",
    "    \n",
    "    return code"
   ]
  },
  {
   "cell_type": "code",
   "execution_count": 8,
   "metadata": {},
   "outputs": [
    {
     "name": "stdout",
     "output_type": "stream",
     "text": [
      "DQkSaqi62mSdRtcHgqYY\n",
      "EmwPOV9KFSCMgLlQ1p7b\n",
      "jT08b3gvuuKzZG5Vd1ZF\n",
      "kYUT3TFFvql9Vwvqa9fI\n",
      "c3eW04T4UYO3S0xV9v5f\n",
      "qgWYbmnC2OIgPbEGLspq\n",
      "5dqoGzq20Lh4jmiUruJE\n",
      "xQIjtrMdCQUMYRSkh7Xd\n",
      "sypKaBXMnz5l9YXvHdHm\n",
      "H0zNdcu4tkbKae7JQSUz\n",
      "ofg9xeijZumTpVXtAU4l\n",
      "r3icBBUmAB4nOEUN7YXr\n",
      "hoTFzdKeAnImgC1FryMA\n",
      "EOMoKYZVvP1ohAtPcsTm\n",
      "UXuwvT8Q7sjHbxC9nBTZ\n",
      "tOxAkaFkAQ3eZR92KcBP\n",
      "HLRNh4cQwaCsEMUzIeeV\n",
      "tRfORoNdehSIyFtG2JTo\n",
      "hSTfjxTteIxt8Z5P06mM\n",
      "JPiomcTyXpVJNnUYNIJr\n"
     ]
    }
   ],
   "source": [
    "for number in range(20):\n",
    "    print(generate_dynamic_random_code(20))"
   ]
  },
  {
   "cell_type": "code",
   "execution_count": null,
   "metadata": {},
   "outputs": [],
   "source": []
  }
 ],
 "metadata": {
  "kernelspec": {
   "display_name": "Python 3",
   "language": "python",
   "name": "python3"
  },
  "language_info": {
   "codemirror_mode": {
    "name": "ipython",
    "version": 3
   },
   "file_extension": ".py",
   "mimetype": "text/x-python",
   "name": "python",
   "nbconvert_exporter": "python",
   "pygments_lexer": "ipython3",
   "version": "3.6.5"
  }
 },
 "nbformat": 4,
 "nbformat_minor": 2
}
