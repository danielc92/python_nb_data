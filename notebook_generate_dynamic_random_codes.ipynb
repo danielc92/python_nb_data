{
 "cells": [
  {
   "cell_type": "markdown",
   "metadata": {},
   "source": [
    "## Generate Random Codes "
   ]
  },
  {
   "cell_type": "code",
   "execution_count": 1,
   "metadata": {},
   "outputs": [],
   "source": [
    "import random"
   ]
  },
  {
   "cell_type": "code",
   "execution_count": 2,
   "metadata": {},
   "outputs": [],
   "source": [
    "def generate_dynamic_random_code(code_length):\n",
    "    \n",
    "    characters_string = \"abcdefghijklmnopqrstuvwxyz1234567890ABCDEFGHIJKLMNOPQRSTUVWXYZ\"\n",
    "    \n",
    "    listchar = list(characters_string)\n",
    "    \n",
    "    placeholder_string = \"-\" * code_length\n",
    "    \n",
    "    placeholders = list(placeholder_string)\n",
    "    \n",
    "    for index in range(len(placeholders)):\n",
    "    \n",
    "        random_index = random.randint(0,len(listchar) - 1)\n",
    "    \n",
    "        character = listchar[random_index]\n",
    "    \n",
    "        placeholders[index] = character\n",
    "    \n",
    "    code = \"\".join(placeholders)\n",
    "    \n",
    "    return code"
   ]
  },
  {
   "cell_type": "code",
   "execution_count": 8,
   "metadata": {},
   "outputs": [
    {
     "name": "stdout",
     "output_type": "stream",
     "text": [
      "DQkSaqi62mSdRtcHgqYY\n",
      "EmwPOV9KFSCMgLlQ1p7b\n",
      "jT08b3gvuuKzZG5Vd1ZF\n",
      "kYUT3TFFvql9Vwvqa9fI\n",
      "c3eW04T4UYO3S0xV9v5f\n",
      "qgWYbmnC2OIgPbEGLspq\n",
      "5dqoGzq20Lh4jmiUruJE\n",
      "xQIjtrMdCQUMYRSkh7Xd\n",
      "sypKaBXMnz5l9YXvHdHm\n",
      "H0zNdcu4tkbKae7JQSUz\n",
      "ofg9xeijZumTpVXtAU4l\n",
      "r3icBBUmAB4nOEUN7YXr\n",
      "hoTFzdKeAnImgC1FryMA\n",
      "EOMoKYZVvP1ohAtPcsTm\n",
      "UXuwvT8Q7sjHbxC9nBTZ\n",
      "tOxAkaFkAQ3eZR92KcBP\n",
      "HLRNh4cQwaCsEMUzIeeV\n",
      "tRfORoNdehSIyFtG2JTo\n",
      "hSTfjxTteIxt8Z5P06mM\n",
      "JPiomcTyXpVJNnUYNIJr\n"
     ]
    }
   ],
   "source": [
    "for number in range(20):\n",
    "    print(generate_dynamic_random_code(20))"
   ]
  },
  {
   "cell_type": "markdown",
   "metadata": {},
   "source": [
    "## Generate Random Data"
   ]
  },
  {
   "cell_type": "code",
   "execution_count": null,
   "metadata": {},
   "outputs": [],
   "source": [
    "def generate_dynamic_random_code(code_length):\n",
    "    \n",
    "    characters_string = \"abcdefghijklmnopqrstuvwxyz1234567890ABCDEFGHIJKLMNOPQRSTUVWXYZ\"\n",
    "    \n",
    "    listchar = list(characters_string)\n",
    "    \n",
    "    placeholder_string = \"-\" * code_length\n",
    "    \n",
    "    placeholders = list(placeholder_string)\n",
    "    \n",
    "    for index in range(len(placeholders)):\n",
    "    \n",
    "        random_index = random.randint(0,len(listchar) - 1)\n",
    "    \n",
    "        character = listchar[random_index]\n",
    "    \n",
    "        placeholders[index] = character\n",
    "    \n",
    "    code = \"\".join(placeholders)\n",
    "    \n",
    "    return code\n",
    "\n",
    "def generate_float_frame(row_count, column_count, assign_col_names = False, nullperc = 0.04):\n",
    "    \n",
    "    data = pandas.DataFrame(numpy.random.random((row_count, column_count)))\n",
    "    \n",
    "    if assign_col_names == True:\n",
    "        \n",
    "        columns = []\n",
    "        while len(columns) < column_count:\n",
    "            \n",
    "            columns.append(generate_dynamic_random_code(8))\n",
    "            \n",
    "        data.columns = columns\n",
    "    \n",
    "    if nullperc < 0 or nullperc >100:\n",
    "        nullperc = 0.2\n",
    "        print(\"percentage of nulls defaulted to 0.2\")\n",
    "    \n",
    "    total_cells = data.shape[0] * data.shape[1]\n",
    "    \n",
    "    null_cells = int(total_cells * nullperc)\n",
    "    \n",
    "    for iteration in range(null_cells):\n",
    "        \n",
    "        r_index = random.randint(0,row_count - 1)\n",
    "        c_index = random.randint(0, column_count - 1)\n",
    "        data.iloc[r_index, c_index] = None\n",
    "    \n",
    "    return data\n",
    "\n",
    "\n",
    "\n",
    "'''\n",
    "data = generate_float_frame(row_count = 400, #dataframe to have 400 rows\n",
    "                            column_count = 6, # dataframe to have 6 columns\n",
    "                            assign_col_names = True, # assign random strings as column names\n",
    "                            nullperc = 0.05) # approx 5% dataframe has null cells\n",
    "'''"
   ]
  }
 ],
 "metadata": {
  "kernelspec": {
   "display_name": "Python 3",
   "language": "python",
   "name": "python3"
  },
  "language_info": {
   "codemirror_mode": {
    "name": "ipython",
    "version": 3
   },
   "file_extension": ".py",
   "mimetype": "text/x-python",
   "name": "python",
   "nbconvert_exporter": "python",
   "pygments_lexer": "ipython3",
   "version": "3.6.5"
  },
  "toc": {
   "base_numbering": 1,
   "nav_menu": {},
   "number_sections": true,
   "sideBar": true,
   "skip_h1_title": false,
   "title_cell": "Table of Contents",
   "title_sidebar": "Contents",
   "toc_cell": false,
   "toc_position": {},
   "toc_section_display": true,
   "toc_window_display": false
  },
  "varInspector": {
   "cols": {
    "lenName": 16,
    "lenType": 16,
    "lenVar": 40
   },
   "kernels_config": {
    "python": {
     "delete_cmd_postfix": "",
     "delete_cmd_prefix": "del ",
     "library": "var_list.py",
     "varRefreshCmd": "print(var_dic_list())"
    },
    "r": {
     "delete_cmd_postfix": ") ",
     "delete_cmd_prefix": "rm(",
     "library": "var_list.r",
     "varRefreshCmd": "cat(var_dic_list()) "
    }
   },
   "types_to_exclude": [
    "module",
    "function",
    "builtin_function_or_method",
    "instance",
    "_Feature"
   ],
   "window_display": false
  }
 },
 "nbformat": 4,
 "nbformat_minor": 2
}
