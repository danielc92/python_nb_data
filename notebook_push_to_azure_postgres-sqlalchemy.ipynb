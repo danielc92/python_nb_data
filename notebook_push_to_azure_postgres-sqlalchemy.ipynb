{
 "cells": [
  {
   "cell_type": "markdown",
   "metadata": {},
   "source": [
    "# Bringing in Data from local to jupyter lab"
   ]
  },
  {
   "cell_type": "markdown",
   "metadata": {},
   "source": [
    "### Import pandas module"
   ]
  },
  {
   "cell_type": "code",
   "execution_count": 1,
   "metadata": {},
   "outputs": [],
   "source": [
    "import pandas\n",
    "import numpy"
   ]
  },
  {
   "cell_type": "markdown",
   "metadata": {},
   "source": [
    "### Create test data"
   ]
  },
  {
   "cell_type": "code",
   "execution_count": 2,
   "metadata": {},
   "outputs": [
    {
     "data": {
      "text/plain": [
       "(1500000, 15)"
      ]
     },
     "execution_count": 2,
     "metadata": {},
     "output_type": "execute_result"
    }
   ],
   "source": [
    "data = pandas.DataFrame(numpy.random.random((1500000,15)))\n",
    "data.columns = list(map(lambda x: \"column_\" + str(x), data.columns))\n",
    "data.shape"
   ]
  },
  {
   "cell_type": "markdown",
   "metadata": {},
   "source": [
    "### Store column headers and stringed list of column headers, this will be used for the create table and insert string statement"
   ]
  },
  {
   "cell_type": "code",
   "execution_count": 3,
   "metadata": {},
   "outputs": [],
   "source": [
    "column_headers = list(data.columns)\n",
    "str_column_headers = str(column_headers)"
   ]
  },
  {
   "cell_type": "code",
   "execution_count": 4,
   "metadata": {},
   "outputs": [
    {
     "data": {
      "text/plain": [
       "Index(['column_0', 'column_1', 'column_2', 'column_3', 'column_4', 'column_5',\n",
       "       'column_6', 'column_7', 'column_8', 'column_9', 'column_10',\n",
       "       'column_11', 'column_12', 'column_13', 'column_14'],\n",
       "      dtype='object')"
      ]
     },
     "execution_count": 4,
     "metadata": {},
     "output_type": "execute_result"
    }
   ],
   "source": [
    "data.columns"
   ]
  },
  {
   "cell_type": "markdown",
   "metadata": {},
   "source": [
    "### Preview Data using `head()`"
   ]
  },
  {
   "cell_type": "code",
   "execution_count": 5,
   "metadata": {},
   "outputs": [
    {
     "data": {
      "text/html": [
       "<div>\n",
       "<style scoped>\n",
       "    .dataframe tbody tr th:only-of-type {\n",
       "        vertical-align: middle;\n",
       "    }\n",
       "\n",
       "    .dataframe tbody tr th {\n",
       "        vertical-align: top;\n",
       "    }\n",
       "\n",
       "    .dataframe thead th {\n",
       "        text-align: right;\n",
       "    }\n",
       "</style>\n",
       "<table border=\"1\" class=\"dataframe\">\n",
       "  <thead>\n",
       "    <tr style=\"text-align: right;\">\n",
       "      <th></th>\n",
       "      <th>column_0</th>\n",
       "      <th>column_1</th>\n",
       "      <th>column_2</th>\n",
       "      <th>column_3</th>\n",
       "      <th>column_4</th>\n",
       "      <th>column_5</th>\n",
       "      <th>column_6</th>\n",
       "      <th>column_7</th>\n",
       "      <th>column_8</th>\n",
       "      <th>column_9</th>\n",
       "      <th>column_10</th>\n",
       "      <th>column_11</th>\n",
       "      <th>column_12</th>\n",
       "      <th>column_13</th>\n",
       "      <th>column_14</th>\n",
       "    </tr>\n",
       "  </thead>\n",
       "  <tbody>\n",
       "    <tr>\n",
       "      <th>0</th>\n",
       "      <td>0.819488</td>\n",
       "      <td>0.450859</td>\n",
       "      <td>0.196155</td>\n",
       "      <td>0.243797</td>\n",
       "      <td>0.066023</td>\n",
       "      <td>0.928607</td>\n",
       "      <td>0.432842</td>\n",
       "      <td>0.599661</td>\n",
       "      <td>0.733865</td>\n",
       "      <td>0.708273</td>\n",
       "      <td>0.212042</td>\n",
       "      <td>0.234705</td>\n",
       "      <td>0.248776</td>\n",
       "      <td>0.354679</td>\n",
       "      <td>0.088534</td>\n",
       "    </tr>\n",
       "    <tr>\n",
       "      <th>1</th>\n",
       "      <td>0.997210</td>\n",
       "      <td>0.018708</td>\n",
       "      <td>0.365672</td>\n",
       "      <td>0.102139</td>\n",
       "      <td>0.083723</td>\n",
       "      <td>0.997455</td>\n",
       "      <td>0.216228</td>\n",
       "      <td>0.415498</td>\n",
       "      <td>0.635426</td>\n",
       "      <td>0.614981</td>\n",
       "      <td>0.068651</td>\n",
       "      <td>0.817596</td>\n",
       "      <td>0.017903</td>\n",
       "      <td>0.454197</td>\n",
       "      <td>0.016334</td>\n",
       "    </tr>\n",
       "    <tr>\n",
       "      <th>2</th>\n",
       "      <td>0.801925</td>\n",
       "      <td>0.703716</td>\n",
       "      <td>0.202838</td>\n",
       "      <td>0.316367</td>\n",
       "      <td>0.262624</td>\n",
       "      <td>0.738596</td>\n",
       "      <td>0.382407</td>\n",
       "      <td>0.012787</td>\n",
       "      <td>0.741975</td>\n",
       "      <td>0.147594</td>\n",
       "      <td>0.881965</td>\n",
       "      <td>0.225401</td>\n",
       "      <td>0.920552</td>\n",
       "      <td>0.432822</td>\n",
       "      <td>0.657287</td>\n",
       "    </tr>\n",
       "    <tr>\n",
       "      <th>3</th>\n",
       "      <td>0.208031</td>\n",
       "      <td>0.353359</td>\n",
       "      <td>0.802278</td>\n",
       "      <td>0.507176</td>\n",
       "      <td>0.333599</td>\n",
       "      <td>0.953790</td>\n",
       "      <td>0.195700</td>\n",
       "      <td>0.430857</td>\n",
       "      <td>0.267356</td>\n",
       "      <td>0.461204</td>\n",
       "      <td>0.393286</td>\n",
       "      <td>0.508555</td>\n",
       "      <td>0.262098</td>\n",
       "      <td>0.241340</td>\n",
       "      <td>0.317473</td>\n",
       "    </tr>\n",
       "    <tr>\n",
       "      <th>4</th>\n",
       "      <td>0.644049</td>\n",
       "      <td>0.153404</td>\n",
       "      <td>0.102444</td>\n",
       "      <td>0.918676</td>\n",
       "      <td>0.337622</td>\n",
       "      <td>0.284506</td>\n",
       "      <td>0.272867</td>\n",
       "      <td>0.251775</td>\n",
       "      <td>0.285069</td>\n",
       "      <td>0.451261</td>\n",
       "      <td>0.210539</td>\n",
       "      <td>0.363574</td>\n",
       "      <td>0.443225</td>\n",
       "      <td>0.074742</td>\n",
       "      <td>0.612883</td>\n",
       "    </tr>\n",
       "  </tbody>\n",
       "</table>\n",
       "</div>"
      ],
      "text/plain": [
       "   column_0  column_1  column_2  column_3  column_4  column_5  column_6  \\\n",
       "0  0.819488  0.450859  0.196155  0.243797  0.066023  0.928607  0.432842   \n",
       "1  0.997210  0.018708  0.365672  0.102139  0.083723  0.997455  0.216228   \n",
       "2  0.801925  0.703716  0.202838  0.316367  0.262624  0.738596  0.382407   \n",
       "3  0.208031  0.353359  0.802278  0.507176  0.333599  0.953790  0.195700   \n",
       "4  0.644049  0.153404  0.102444  0.918676  0.337622  0.284506  0.272867   \n",
       "\n",
       "   column_7  column_8  column_9  column_10  column_11  column_12  column_13  \\\n",
       "0  0.599661  0.733865  0.708273   0.212042   0.234705   0.248776   0.354679   \n",
       "1  0.415498  0.635426  0.614981   0.068651   0.817596   0.017903   0.454197   \n",
       "2  0.012787  0.741975  0.147594   0.881965   0.225401   0.920552   0.432822   \n",
       "3  0.430857  0.267356  0.461204   0.393286   0.508555   0.262098   0.241340   \n",
       "4  0.251775  0.285069  0.451261   0.210539   0.363574   0.443225   0.074742   \n",
       "\n",
       "   column_14  \n",
       "0   0.088534  \n",
       "1   0.016334  \n",
       "2   0.657287  \n",
       "3   0.317473  \n",
       "4   0.612883  "
      ]
     },
     "execution_count": 5,
     "metadata": {},
     "output_type": "execute_result"
    }
   ],
   "source": [
    "data.head()"
   ]
  },
  {
   "cell_type": "markdown",
   "metadata": {},
   "source": [
    "### View nulls, record counts, data types (OPTIONAL)"
   ]
  },
  {
   "cell_type": "code",
   "execution_count": 6,
   "metadata": {},
   "outputs": [
    {
     "name": "stdout",
     "output_type": "stream",
     "text": [
      "<class 'pandas.core.frame.DataFrame'>\n",
      "RangeIndex: 1500000 entries, 0 to 1499999\n",
      "Data columns (total 15 columns):\n",
      "column_0     1500000 non-null float64\n",
      "column_1     1500000 non-null float64\n",
      "column_2     1500000 non-null float64\n",
      "column_3     1500000 non-null float64\n",
      "column_4     1500000 non-null float64\n",
      "column_5     1500000 non-null float64\n",
      "column_6     1500000 non-null float64\n",
      "column_7     1500000 non-null float64\n",
      "column_8     1500000 non-null float64\n",
      "column_9     1500000 non-null float64\n",
      "column_10    1500000 non-null float64\n",
      "column_11    1500000 non-null float64\n",
      "column_12    1500000 non-null float64\n",
      "column_13    1500000 non-null float64\n",
      "column_14    1500000 non-null float64\n",
      "dtypes: float64(15)\n",
      "memory usage: 171.7 MB\n"
     ]
    }
   ],
   "source": [
    "data.info()"
   ]
  },
  {
   "cell_type": "code",
   "execution_count": 7,
   "metadata": {},
   "outputs": [
    {
     "data": {
      "text/plain": [
       "column_0     float64\n",
       "column_1     float64\n",
       "column_2     float64\n",
       "column_3     float64\n",
       "column_4     float64\n",
       "column_5     float64\n",
       "column_6     float64\n",
       "column_7     float64\n",
       "column_8     float64\n",
       "column_9     float64\n",
       "column_10    float64\n",
       "column_11    float64\n",
       "column_12    float64\n",
       "column_13    float64\n",
       "column_14    float64\n",
       "dtype: object"
      ]
     },
     "execution_count": 7,
     "metadata": {},
     "output_type": "execute_result"
    }
   ],
   "source": [
    "data.dtypes"
   ]
  },
  {
   "cell_type": "code",
   "execution_count": 8,
   "metadata": {},
   "outputs": [
    {
     "data": {
      "text/html": [
       "<div>\n",
       "<style scoped>\n",
       "    .dataframe tbody tr th:only-of-type {\n",
       "        vertical-align: middle;\n",
       "    }\n",
       "\n",
       "    .dataframe tbody tr th {\n",
       "        vertical-align: top;\n",
       "    }\n",
       "\n",
       "    .dataframe thead th {\n",
       "        text-align: right;\n",
       "    }\n",
       "</style>\n",
       "<table border=\"1\" class=\"dataframe\">\n",
       "  <thead>\n",
       "    <tr style=\"text-align: right;\">\n",
       "      <th></th>\n",
       "      <th>column_0</th>\n",
       "      <th>column_1</th>\n",
       "      <th>column_2</th>\n",
       "      <th>column_3</th>\n",
       "      <th>column_4</th>\n",
       "      <th>column_5</th>\n",
       "      <th>column_6</th>\n",
       "      <th>column_7</th>\n",
       "      <th>column_8</th>\n",
       "      <th>column_9</th>\n",
       "      <th>column_10</th>\n",
       "      <th>column_11</th>\n",
       "      <th>column_12</th>\n",
       "      <th>column_13</th>\n",
       "      <th>column_14</th>\n",
       "    </tr>\n",
       "  </thead>\n",
       "  <tbody>\n",
       "    <tr>\n",
       "      <th>count</th>\n",
       "      <td>1.500000e+06</td>\n",
       "      <td>1.500000e+06</td>\n",
       "      <td>1.500000e+06</td>\n",
       "      <td>1.500000e+06</td>\n",
       "      <td>1.500000e+06</td>\n",
       "      <td>1.500000e+06</td>\n",
       "      <td>1.500000e+06</td>\n",
       "      <td>1.500000e+06</td>\n",
       "      <td>1.500000e+06</td>\n",
       "      <td>1.500000e+06</td>\n",
       "      <td>1.500000e+06</td>\n",
       "      <td>1.500000e+06</td>\n",
       "      <td>1.500000e+06</td>\n",
       "      <td>1.500000e+06</td>\n",
       "      <td>1.500000e+06</td>\n",
       "    </tr>\n",
       "    <tr>\n",
       "      <th>mean</th>\n",
       "      <td>4.997524e-01</td>\n",
       "      <td>5.000459e-01</td>\n",
       "      <td>4.997502e-01</td>\n",
       "      <td>4.997542e-01</td>\n",
       "      <td>5.001176e-01</td>\n",
       "      <td>4.994023e-01</td>\n",
       "      <td>5.002283e-01</td>\n",
       "      <td>5.002050e-01</td>\n",
       "      <td>4.997998e-01</td>\n",
       "      <td>4.996814e-01</td>\n",
       "      <td>5.002229e-01</td>\n",
       "      <td>4.996751e-01</td>\n",
       "      <td>4.998075e-01</td>\n",
       "      <td>4.998782e-01</td>\n",
       "      <td>4.998318e-01</td>\n",
       "    </tr>\n",
       "    <tr>\n",
       "      <th>std</th>\n",
       "      <td>2.887587e-01</td>\n",
       "      <td>2.889125e-01</td>\n",
       "      <td>2.885478e-01</td>\n",
       "      <td>2.887467e-01</td>\n",
       "      <td>2.885466e-01</td>\n",
       "      <td>2.886784e-01</td>\n",
       "      <td>2.887687e-01</td>\n",
       "      <td>2.886714e-01</td>\n",
       "      <td>2.886862e-01</td>\n",
       "      <td>2.885735e-01</td>\n",
       "      <td>2.887036e-01</td>\n",
       "      <td>2.887935e-01</td>\n",
       "      <td>2.887127e-01</td>\n",
       "      <td>2.884556e-01</td>\n",
       "      <td>2.885787e-01</td>\n",
       "    </tr>\n",
       "    <tr>\n",
       "      <th>min</th>\n",
       "      <td>1.841688e-07</td>\n",
       "      <td>1.585019e-06</td>\n",
       "      <td>8.127546e-07</td>\n",
       "      <td>1.027961e-06</td>\n",
       "      <td>6.550512e-08</td>\n",
       "      <td>1.424598e-07</td>\n",
       "      <td>6.876375e-07</td>\n",
       "      <td>2.671631e-06</td>\n",
       "      <td>3.935920e-07</td>\n",
       "      <td>9.181753e-07</td>\n",
       "      <td>6.442542e-07</td>\n",
       "      <td>1.169348e-06</td>\n",
       "      <td>6.454211e-07</td>\n",
       "      <td>1.482122e-07</td>\n",
       "      <td>1.789391e-07</td>\n",
       "    </tr>\n",
       "    <tr>\n",
       "      <th>25%</th>\n",
       "      <td>2.496337e-01</td>\n",
       "      <td>2.493686e-01</td>\n",
       "      <td>2.498302e-01</td>\n",
       "      <td>2.495828e-01</td>\n",
       "      <td>2.503162e-01</td>\n",
       "      <td>2.493055e-01</td>\n",
       "      <td>2.501599e-01</td>\n",
       "      <td>2.503655e-01</td>\n",
       "      <td>2.496831e-01</td>\n",
       "      <td>2.498913e-01</td>\n",
       "      <td>2.502656e-01</td>\n",
       "      <td>2.495536e-01</td>\n",
       "      <td>2.499088e-01</td>\n",
       "      <td>2.500544e-01</td>\n",
       "      <td>2.499365e-01</td>\n",
       "    </tr>\n",
       "    <tr>\n",
       "      <th>50%</th>\n",
       "      <td>4.996744e-01</td>\n",
       "      <td>5.001412e-01</td>\n",
       "      <td>4.998787e-01</td>\n",
       "      <td>4.996898e-01</td>\n",
       "      <td>4.999824e-01</td>\n",
       "      <td>4.991250e-01</td>\n",
       "      <td>5.001650e-01</td>\n",
       "      <td>5.000156e-01</td>\n",
       "      <td>4.995079e-01</td>\n",
       "      <td>4.989926e-01</td>\n",
       "      <td>5.000936e-01</td>\n",
       "      <td>4.997100e-01</td>\n",
       "      <td>4.997475e-01</td>\n",
       "      <td>5.001158e-01</td>\n",
       "      <td>4.995762e-01</td>\n",
       "    </tr>\n",
       "    <tr>\n",
       "      <th>75%</th>\n",
       "      <td>7.499829e-01</td>\n",
       "      <td>7.504984e-01</td>\n",
       "      <td>7.496383e-01</td>\n",
       "      <td>7.497816e-01</td>\n",
       "      <td>7.498976e-01</td>\n",
       "      <td>7.492122e-01</td>\n",
       "      <td>7.507346e-01</td>\n",
       "      <td>7.506833e-01</td>\n",
       "      <td>7.496217e-01</td>\n",
       "      <td>7.495640e-01</td>\n",
       "      <td>7.507291e-01</td>\n",
       "      <td>7.498200e-01</td>\n",
       "      <td>7.495729e-01</td>\n",
       "      <td>7.493433e-01</td>\n",
       "      <td>7.497265e-01</td>\n",
       "    </tr>\n",
       "    <tr>\n",
       "      <th>max</th>\n",
       "      <td>9.999998e-01</td>\n",
       "      <td>9.999999e-01</td>\n",
       "      <td>9.999993e-01</td>\n",
       "      <td>9.999988e-01</td>\n",
       "      <td>1.000000e+00</td>\n",
       "      <td>9.999999e-01</td>\n",
       "      <td>9.999995e-01</td>\n",
       "      <td>9.999992e-01</td>\n",
       "      <td>9.999996e-01</td>\n",
       "      <td>1.000000e+00</td>\n",
       "      <td>9.999993e-01</td>\n",
       "      <td>9.999973e-01</td>\n",
       "      <td>1.000000e+00</td>\n",
       "      <td>9.999998e-01</td>\n",
       "      <td>9.999994e-01</td>\n",
       "    </tr>\n",
       "  </tbody>\n",
       "</table>\n",
       "</div>"
      ],
      "text/plain": [
       "           column_0      column_1      column_2      column_3      column_4  \\\n",
       "count  1.500000e+06  1.500000e+06  1.500000e+06  1.500000e+06  1.500000e+06   \n",
       "mean   4.997524e-01  5.000459e-01  4.997502e-01  4.997542e-01  5.001176e-01   \n",
       "std    2.887587e-01  2.889125e-01  2.885478e-01  2.887467e-01  2.885466e-01   \n",
       "min    1.841688e-07  1.585019e-06  8.127546e-07  1.027961e-06  6.550512e-08   \n",
       "25%    2.496337e-01  2.493686e-01  2.498302e-01  2.495828e-01  2.503162e-01   \n",
       "50%    4.996744e-01  5.001412e-01  4.998787e-01  4.996898e-01  4.999824e-01   \n",
       "75%    7.499829e-01  7.504984e-01  7.496383e-01  7.497816e-01  7.498976e-01   \n",
       "max    9.999998e-01  9.999999e-01  9.999993e-01  9.999988e-01  1.000000e+00   \n",
       "\n",
       "           column_5      column_6      column_7      column_8      column_9  \\\n",
       "count  1.500000e+06  1.500000e+06  1.500000e+06  1.500000e+06  1.500000e+06   \n",
       "mean   4.994023e-01  5.002283e-01  5.002050e-01  4.997998e-01  4.996814e-01   \n",
       "std    2.886784e-01  2.887687e-01  2.886714e-01  2.886862e-01  2.885735e-01   \n",
       "min    1.424598e-07  6.876375e-07  2.671631e-06  3.935920e-07  9.181753e-07   \n",
       "25%    2.493055e-01  2.501599e-01  2.503655e-01  2.496831e-01  2.498913e-01   \n",
       "50%    4.991250e-01  5.001650e-01  5.000156e-01  4.995079e-01  4.989926e-01   \n",
       "75%    7.492122e-01  7.507346e-01  7.506833e-01  7.496217e-01  7.495640e-01   \n",
       "max    9.999999e-01  9.999995e-01  9.999992e-01  9.999996e-01  1.000000e+00   \n",
       "\n",
       "          column_10     column_11     column_12     column_13     column_14  \n",
       "count  1.500000e+06  1.500000e+06  1.500000e+06  1.500000e+06  1.500000e+06  \n",
       "mean   5.002229e-01  4.996751e-01  4.998075e-01  4.998782e-01  4.998318e-01  \n",
       "std    2.887036e-01  2.887935e-01  2.887127e-01  2.884556e-01  2.885787e-01  \n",
       "min    6.442542e-07  1.169348e-06  6.454211e-07  1.482122e-07  1.789391e-07  \n",
       "25%    2.502656e-01  2.495536e-01  2.499088e-01  2.500544e-01  2.499365e-01  \n",
       "50%    5.000936e-01  4.997100e-01  4.997475e-01  5.001158e-01  4.995762e-01  \n",
       "75%    7.507291e-01  7.498200e-01  7.495729e-01  7.493433e-01  7.497265e-01  \n",
       "max    9.999993e-01  9.999973e-01  1.000000e+00  9.999998e-01  9.999994e-01  "
      ]
     },
     "execution_count": 8,
     "metadata": {},
     "output_type": "execute_result"
    }
   ],
   "source": [
    "data.describe()"
   ]
  },
  {
   "cell_type": "markdown",
   "metadata": {},
   "source": [
    "# Pushing Data out to Azure Postgres Database\n",
    "Adapted from https://docs.microsoft.com/en-us/azure/postgresql/connect-python"
   ]
  },
  {
   "cell_type": "markdown",
   "metadata": {},
   "source": [
    "### Import psycopg2 module "
   ]
  },
  {
   "cell_type": "code",
   "execution_count": 9,
   "metadata": {},
   "outputs": [
    {
     "name": "stderr",
     "output_type": "stream",
     "text": [
      "/Library/Frameworks/Python.framework/Versions/3.6/lib/python3.6/site-packages/psycopg2/__init__.py:144: UserWarning: The psycopg2 wheel package will be renamed from release 2.8; in order to keep installing from binary please use \"pip install psycopg2-binary\" instead. For details see: <http://initd.org/psycopg/docs/install.html#binary-install-from-pypi>.\n",
      "  \"\"\")\n"
     ]
    }
   ],
   "source": [
    "import psycopg2"
   ]
  },
  {
   "cell_type": "markdown",
   "metadata": {},
   "source": [
    "### Set parameters for connection string"
   ]
  },
  {
   "cell_type": "code",
   "execution_count": 10,
   "metadata": {},
   "outputs": [],
   "source": [
    "host = \"mydemoserver.postgres.database.azure.com\"\n",
    "user = \"mylogin@mydemoserver\"\n",
    "dbname = \"mypgsqldb\"\n",
    "password = \"<server_admin_password>\"\n",
    "sslmode = \"require\""
   ]
  },
  {
   "cell_type": "markdown",
   "metadata": {},
   "source": [
    "### Construct Connection string"
   ]
  },
  {
   "cell_type": "code",
   "execution_count": 11,
   "metadata": {},
   "outputs": [
    {
     "name": "stdout",
     "output_type": "stream",
     "text": [
      "Connection established\n"
     ]
    }
   ],
   "source": [
    "#connection_string = \"host={0} user={1} dbname={2} password={3} sslmode={4}\".format(host, user, dbname, password, sslmode)\n",
    "connection_string_placeholder = \"host=localhost dbname=test_db user=danielcorcoran\"\n",
    "\n",
    "conn = psycopg2.connect(connection_string_placeholder) \n",
    "print(\"Connection established\")"
   ]
  },
  {
   "cell_type": "markdown",
   "metadata": {},
   "source": [
    "### Instantiate `cursor()` object"
   ]
  },
  {
   "cell_type": "code",
   "execution_count": 12,
   "metadata": {},
   "outputs": [],
   "source": [
    "cursor = conn.cursor()"
   ]
  },
  {
   "cell_type": "markdown",
   "metadata": {},
   "source": [
    "### Set Table Name to be created in postgres"
   ]
  },
  {
   "cell_type": "code",
   "execution_count": 13,
   "metadata": {},
   "outputs": [],
   "source": [
    "table_name = \"test_data\""
   ]
  },
  {
   "cell_type": "markdown",
   "metadata": {},
   "source": [
    "### Drop table if it exists"
   ]
  },
  {
   "cell_type": "code",
   "execution_count": 14,
   "metadata": {},
   "outputs": [
    {
     "name": "stdout",
     "output_type": "stream",
     "text": [
      "Finished dropping table (if existed)\n"
     ]
    }
   ],
   "source": [
    "cursor.execute(\"DROP TABLE IF EXISTS {};\".format(table_name))\n",
    "\n",
    "print(\"Finished dropping table (if existed)\")"
   ]
  },
  {
   "cell_type": "code",
   "execution_count": 15,
   "metadata": {},
   "outputs": [],
   "source": [
    "import datetime\n",
    "s = datetime.datetime.now()"
   ]
  },
  {
   "cell_type": "markdown",
   "metadata": {},
   "source": [
    "### Build Create Table query string"
   ]
  },
  {
   "cell_type": "code",
   "execution_count": 16,
   "metadata": {},
   "outputs": [],
   "source": [
    "full_string = \"CREATE TABLE {} ({});\"\n",
    "\n",
    "partial_string = \"\"\n",
    "\n",
    "for index in range(len(column_headers)):\n",
    "    \n",
    "    column_name = column_headers[index]\n",
    "\n",
    "    if \" \" in column_name:\n",
    "        column_name = column_name.replace(\" \",\"_\")\n",
    "    \n",
    "\n",
    "    partial_string = partial_string + str(column_name) + \" VARCHAR(255),\"\n",
    "        \n",
    "partial_string = partial_string[:len(partial_string) - 1]"
   ]
  },
  {
   "cell_type": "markdown",
   "metadata": {},
   "source": [
    "### Create Table "
   ]
  },
  {
   "cell_type": "code",
   "execution_count": 17,
   "metadata": {},
   "outputs": [
    {
     "name": "stdout",
     "output_type": "stream",
     "text": [
      "Finished creating table\n"
     ]
    }
   ],
   "source": [
    "create_table_string = full_string.format(table_name, partial_string)\n",
    "\n",
    "cursor.execute(create_table_string)\n",
    "\n",
    "print(\"Finished creating table\")"
   ]
  },
  {
   "cell_type": "markdown",
   "metadata": {},
   "source": [
    "### Insert "
   ]
  },
  {
   "cell_type": "code",
   "execution_count": 18,
   "metadata": {},
   "outputs": [],
   "source": [
    "insert_string_skeleton = \"INSERT INTO {} VALUES {};\"\n",
    "partial_insert_string = \"\""
   ]
  },
  {
   "cell_type": "code",
   "execution_count": 19,
   "metadata": {},
   "outputs": [],
   "source": [
    "for index in range(data.shape[0]):\n",
    "\n",
    "    single_record_list = list(data.loc[index])\n",
    "\n",
    "    single_record_list_strings = list(map(lambda item: str(item),single_record_list))\n",
    "\n",
    "    row_to_insert = str(single_record_list_strings).replace(\"[\",\"(\").replace(\"]\",\")\") + \",\"\n",
    "\n",
    "    partial_insert_string = partial_insert_string + row_to_insert\n",
    "\n",
    "partial_insert_string = partial_insert_string[:len(partial_insert_string)-1]"
   ]
  },
  {
   "cell_type": "code",
   "execution_count": 20,
   "metadata": {},
   "outputs": [],
   "source": [
    "complete_insert_string = insert_string_skeleton.format(table_name, partial_insert_string)"
   ]
  },
  {
   "cell_type": "code",
   "execution_count": 21,
   "metadata": {},
   "outputs": [],
   "source": [
    "cursor.execute(complete_insert_string)"
   ]
  },
  {
   "cell_type": "markdown",
   "metadata": {},
   "source": [
    "### Cleanup"
   ]
  },
  {
   "cell_type": "code",
   "execution_count": 22,
   "metadata": {},
   "outputs": [
    {
     "name": "stdout",
     "output_type": "stream",
     "text": [
      "0:09:10.868493\n"
     ]
    }
   ],
   "source": [
    "conn.commit()\n",
    "cursor.close()\n",
    "conn.close()\n",
    "\n",
    "print(datetime.datetime.now() - s)"
   ]
  }
 ],
 "metadata": {
  "kernelspec": {
   "display_name": "Python 3",
   "language": "python",
   "name": "python3"
  },
  "language_info": {
   "codemirror_mode": {
    "name": "ipython",
    "version": 3
   },
   "file_extension": ".py",
   "mimetype": "text/x-python",
   "name": "python",
   "nbconvert_exporter": "python",
   "pygments_lexer": "ipython3",
   "version": "3.6.5"
  },
  "toc": {
   "base_numbering": 1,
   "nav_menu": {},
   "number_sections": true,
   "sideBar": true,
   "skip_h1_title": false,
   "title_cell": "Table of Contents",
   "title_sidebar": "Contents",
   "toc_cell": false,
   "toc_position": {
    "height": "calc(100% - 180px)",
    "left": "10px",
    "top": "150px",
    "width": "285px"
   },
   "toc_section_display": true,
   "toc_window_display": false
  },
  "varInspector": {
   "cols": {
    "lenName": 16,
    "lenType": 16,
    "lenVar": 40
   },
   "kernels_config": {
    "python": {
     "delete_cmd_postfix": "",
     "delete_cmd_prefix": "del ",
     "library": "var_list.py",
     "varRefreshCmd": "print(var_dic_list())"
    },
    "r": {
     "delete_cmd_postfix": ") ",
     "delete_cmd_prefix": "rm(",
     "library": "var_list.r",
     "varRefreshCmd": "cat(var_dic_list()) "
    }
   },
   "types_to_exclude": [
    "module",
    "function",
    "builtin_function_or_method",
    "instance",
    "_Feature"
   ],
   "window_display": false
  }
 },
 "nbformat": 4,
 "nbformat_minor": 2
}
