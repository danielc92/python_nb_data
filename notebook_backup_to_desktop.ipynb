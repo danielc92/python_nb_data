{
 "cells": [
  {
   "cell_type": "markdown",
   "metadata": {},
   "source": [
    "# Backup Script\n",
    "\n",
    "- Copies entire directory contents into another location\n",
    "- Can be adjusted for windows or mac system\n",
    "- Appends timestamp to copied file"
   ]
  },
  {
   "cell_type": "code",
   "execution_count": 1,
   "metadata": {},
   "outputs": [
    {
     "data": {
      "text/plain": [
       "'/Users/danielcorcoran/Desktop/Python__06-06-2018_11-14-13-AM/'"
      ]
     },
     "execution_count": 1,
     "metadata": {},
     "output_type": "execute_result"
    }
   ],
   "source": [
    "import shutil\n",
    "import datetime as dt\n",
    "\n",
    "stamp = dt.datetime.now().strftime(\"_%d-%m-%Y_%H-%M-%S-%p\")\n",
    "\n",
    "#windows\n",
    "# backup_folder_path = \"C:/Users/admin-vicvphq/Desktop/PYTHON_BACKUP\"+ stamp +\"/\"\n",
    "# pycharm_project_path = 'C:/Users/admin-vicvphq/danielc_pycharm_project/'\n",
    "\n",
    "#mac\n",
    "backup_folder_path = \"/Users/danielcorcoran/Desktop/Python_\"+ stamp +\"/\"\n",
    "pycharm_project_path = '/Users/danielcorcoran/PycharmProjects/daniels_mac_proj/'\n",
    "\n",
    "shutil.copytree(pycharm_project_path, backup_folder_path)"
   ]
  },
  {
   "cell_type": "code",
   "execution_count": null,
   "metadata": {},
   "outputs": [],
   "source": []
  }
 ],
 "metadata": {
  "kernelspec": {
   "display_name": "Python 3",
   "language": "python",
   "name": "python3"
  },
  "language_info": {
   "codemirror_mode": {
    "name": "ipython",
    "version": 3
   },
   "file_extension": ".py",
   "mimetype": "text/x-python",
   "name": "python",
   "nbconvert_exporter": "python",
   "pygments_lexer": "ipython3",
   "version": "3.6.5"
  },
  "toc": {
   "base_numbering": 1,
   "nav_menu": {},
   "number_sections": true,
   "sideBar": true,
   "skip_h1_title": false,
   "title_cell": "Table of Contents",
   "title_sidebar": "Contents",
   "toc_cell": false,
   "toc_position": {},
   "toc_section_display": true,
   "toc_window_display": false
  },
  "varInspector": {
   "cols": {
    "lenName": 16,
    "lenType": 16,
    "lenVar": 40
   },
   "kernels_config": {
    "python": {
     "delete_cmd_postfix": "",
     "delete_cmd_prefix": "del ",
     "library": "var_list.py",
     "varRefreshCmd": "print(var_dic_list())"
    },
    "r": {
     "delete_cmd_postfix": ") ",
     "delete_cmd_prefix": "rm(",
     "library": "var_list.r",
     "varRefreshCmd": "cat(var_dic_list()) "
    }
   },
   "types_to_exclude": [
    "module",
    "function",
    "builtin_function_or_method",
    "instance",
    "_Feature"
   ],
   "window_display": false
  }
 },
 "nbformat": 4,
 "nbformat_minor": 2
}
