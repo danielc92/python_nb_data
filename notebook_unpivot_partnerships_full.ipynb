{
 "cells": [
  {
   "cell_type": "markdown",
   "metadata": {},
   "source": [
    "# Unpivot Partnerships Data"
   ]
  },
  {
   "cell_type": "markdown",
   "metadata": {},
   "source": [
    "## High level steps:\n",
    "    1. Unpivot LGA_DATA\n",
    "    2. Unpivot REGION_DATA\n",
    "    3. Export both dataframes to new excel file, as well as relevant tabs."
   ]
  },
  {
   "cell_type": "markdown",
   "metadata": {},
   "source": [
    "## Setup "
   ]
  },
  {
   "cell_type": "code",
   "execution_count": 1,
   "metadata": {},
   "outputs": [],
   "source": [
    "import pandas as pd\n",
    "import numpy as np"
   ]
  },
  {
   "cell_type": "code",
   "execution_count": 2,
   "metadata": {},
   "outputs": [],
   "source": [
    "input_path = \"/Users/danielcorcoran/Desktop/partner/input/Partnerships_dashboard_data_21_06_2018.xlsx\""
   ]
  },
  {
   "cell_type": "code",
   "execution_count": 3,
   "metadata": {},
   "outputs": [],
   "source": [
    "dataframe_dictionary = {}"
   ]
  },
  {
   "cell_type": "markdown",
   "metadata": {},
   "source": [
    "## 1. Unpivot LGA_DATA"
   ]
  },
  {
   "cell_type": "code",
   "execution_count": 4,
   "metadata": {},
   "outputs": [],
   "source": [
    "#IMPORT LGA_DATA FROM INPUT FOLDER\n",
    "\n",
    "lga_data = pd.read_excel(input_path, sheet_name= \"LGA_DATA\")"
   ]
  },
  {
   "cell_type": "code",
   "execution_count": 5,
   "metadata": {},
   "outputs": [
    {
     "data": {
      "text/html": [
       "<div>\n",
       "<style scoped>\n",
       "    .dataframe tbody tr th:only-of-type {\n",
       "        vertical-align: middle;\n",
       "    }\n",
       "\n",
       "    .dataframe tbody tr th {\n",
       "        vertical-align: top;\n",
       "    }\n",
       "\n",
       "    .dataframe thead th {\n",
       "        text-align: right;\n",
       "    }\n",
       "</style>\n",
       "<table border=\"1\" class=\"dataframe\">\n",
       "  <thead>\n",
       "    <tr style=\"text-align: right;\">\n",
       "      <th></th>\n",
       "      <th>LGA_CODE</th>\n",
       "      <th>LGA_NAME</th>\n",
       "      <th>LGA_NAME_DHHS</th>\n",
       "      <th>PARTNERSHIP_REGION_KEY</th>\n",
       "      <th>1.1</th>\n",
       "      <th>1.2</th>\n",
       "      <th>1.3</th>\n",
       "      <th>2.1</th>\n",
       "      <th>3.1</th>\n",
       "      <th>3.2</th>\n",
       "      <th>...</th>\n",
       "      <th>7.3</th>\n",
       "      <th>7.4</th>\n",
       "      <th>8.1</th>\n",
       "      <th>8.2</th>\n",
       "      <th>8.3</th>\n",
       "      <th>8.4</th>\n",
       "      <th>9.1</th>\n",
       "      <th>9.2</th>\n",
       "      <th>9.3</th>\n",
       "      <th>9.4</th>\n",
       "    </tr>\n",
       "  </thead>\n",
       "  <tbody>\n",
       "    <tr>\n",
       "      <th>0</th>\n",
       "      <td>20110</td>\n",
       "      <td>Alpine</td>\n",
       "      <td>Alpine (S)</td>\n",
       "      <td>12</td>\n",
       "      <td>74.701087</td>\n",
       "      <td>82.844201</td>\n",
       "      <td>2.576705</td>\n",
       "      <td>1.692334</td>\n",
       "      <td>3.0</td>\n",
       "      <td>64.856101</td>\n",
       "      <td>...</td>\n",
       "      <td>45.4</td>\n",
       "      <td>8.2</td>\n",
       "      <td>15.898899</td>\n",
       "      <td>88.008351</td>\n",
       "      <td>169.247694</td>\n",
       "      <td>99.009901</td>\n",
       "      <td>16.9</td>\n",
       "      <td>7.438017</td>\n",
       "      <td>0.000000</td>\n",
       "      <td>96.3636</td>\n",
       "    </tr>\n",
       "    <tr>\n",
       "      <th>1</th>\n",
       "      <td>20260</td>\n",
       "      <td>Ararat</td>\n",
       "      <td>Ararat (RC)</td>\n",
       "      <td>2</td>\n",
       "      <td>66.086468</td>\n",
       "      <td>91.489694</td>\n",
       "      <td>5.623100</td>\n",
       "      <td>1.811430</td>\n",
       "      <td>48.3</td>\n",
       "      <td>172.428658</td>\n",
       "      <td>...</td>\n",
       "      <td>47.6</td>\n",
       "      <td>10.1</td>\n",
       "      <td>20.319931</td>\n",
       "      <td>244.388596</td>\n",
       "      <td>408.857038</td>\n",
       "      <td>294.009555</td>\n",
       "      <td>33.0</td>\n",
       "      <td>9.302326</td>\n",
       "      <td>0.000000</td>\n",
       "      <td>96.0630</td>\n",
       "    </tr>\n",
       "    <tr>\n",
       "      <th>2</th>\n",
       "      <td>20570</td>\n",
       "      <td>Ballarat</td>\n",
       "      <td>Ballarat (C)</td>\n",
       "      <td>2</td>\n",
       "      <td>69.178760</td>\n",
       "      <td>92.182789</td>\n",
       "      <td>4.206614</td>\n",
       "      <td>1.051857</td>\n",
       "      <td>67.4</td>\n",
       "      <td>51.136308</td>\n",
       "      <td>...</td>\n",
       "      <td>43.8</td>\n",
       "      <td>11.9</td>\n",
       "      <td>24.434234</td>\n",
       "      <td>183.111857</td>\n",
       "      <td>661.771001</td>\n",
       "      <td>178.070334</td>\n",
       "      <td>24.7</td>\n",
       "      <td>10.813076</td>\n",
       "      <td>6.959153</td>\n",
       "      <td>92.0930</td>\n",
       "    </tr>\n",
       "    <tr>\n",
       "      <th>3</th>\n",
       "      <td>20660</td>\n",
       "      <td>Banyule</td>\n",
       "      <td>Banyule (C)</td>\n",
       "      <td>11</td>\n",
       "      <td>74.929728</td>\n",
       "      <td>83.884555</td>\n",
       "      <td>4.293148</td>\n",
       "      <td>2.191137</td>\n",
       "      <td>90.4</td>\n",
       "      <td>40.207108</td>\n",
       "      <td>...</td>\n",
       "      <td>43.3</td>\n",
       "      <td>9.6</td>\n",
       "      <td>5.748648</td>\n",
       "      <td>101.269338</td>\n",
       "      <td>453.183258</td>\n",
       "      <td>94.964544</td>\n",
       "      <td>17.3</td>\n",
       "      <td>7.658643</td>\n",
       "      <td>0.000000</td>\n",
       "      <td>94.6839</td>\n",
       "    </tr>\n",
       "  </tbody>\n",
       "</table>\n",
       "<p>4 rows × 32 columns</p>\n",
       "</div>"
      ],
      "text/plain": [
       "   LGA_CODE   LGA_NAME LGA_NAME_DHHS  PARTNERSHIP_REGION_KEY        1.1  \\\n",
       "0     20110    Alpine     Alpine (S)                      12  74.701087   \n",
       "1     20260    Ararat    Ararat (RC)                       2  66.086468   \n",
       "2     20570  Ballarat   Ballarat (C)                       2  69.178760   \n",
       "3     20660   Banyule    Banyule (C)                      11  74.929728   \n",
       "\n",
       "         1.2       1.3       2.1   3.1         3.2   ...      7.3   7.4  \\\n",
       "0  82.844201  2.576705  1.692334   3.0   64.856101   ...     45.4   8.2   \n",
       "1  91.489694  5.623100  1.811430  48.3  172.428658   ...     47.6  10.1   \n",
       "2  92.182789  4.206614  1.051857  67.4   51.136308   ...     43.8  11.9   \n",
       "3  83.884555  4.293148  2.191137  90.4   40.207108   ...     43.3   9.6   \n",
       "\n",
       "         8.1         8.2         8.3         8.4   9.1        9.2       9.3  \\\n",
       "0  15.898899   88.008351  169.247694   99.009901  16.9   7.438017  0.000000   \n",
       "1  20.319931  244.388596  408.857038  294.009555  33.0   9.302326  0.000000   \n",
       "2  24.434234  183.111857  661.771001  178.070334  24.7  10.813076  6.959153   \n",
       "3   5.748648  101.269338  453.183258   94.964544  17.3   7.658643  0.000000   \n",
       "\n",
       "       9.4  \n",
       "0  96.3636  \n",
       "1  96.0630  \n",
       "2  92.0930  \n",
       "3  94.6839  \n",
       "\n",
       "[4 rows x 32 columns]"
      ]
     },
     "execution_count": 5,
     "metadata": {},
     "output_type": "execute_result"
    }
   ],
   "source": [
    "#CHECK DATA\n",
    "\n",
    "lga_data.head(4)"
   ]
  },
  {
   "cell_type": "code",
   "execution_count": 6,
   "metadata": {},
   "outputs": [
    {
     "data": {
      "text/plain": [
       "Index([              'LGA_CODE',               'LGA_NAME',\n",
       "                'LGA_NAME_DHHS', 'PARTNERSHIP_REGION_KEY',\n",
       "                          '1.1',                    '1.2',\n",
       "                          '1.3',                      2.1,\n",
       "                          '3.1',                    '3.2',\n",
       "                          '4.1',                    '4.2',\n",
       "                          '4.3',                    '4.4',\n",
       "                          '5.1',                    '5.2',\n",
       "                          '5.3',                    '6.1',\n",
       "                          '6.2',                    '6.3',\n",
       "                          '7.1',                    '7.2',\n",
       "                          '7.3',                    '7.4',\n",
       "                          '8.1',                    '8.2',\n",
       "                          '8.3',                    '8.4',\n",
       "                          '9.1',                    '9.2',\n",
       "                          '9.3',                    '9.4'],\n",
       "      dtype='object')"
      ]
     },
     "execution_count": 6,
     "metadata": {},
     "output_type": "execute_result"
    }
   ],
   "source": [
    "lga_data.columns"
   ]
  },
  {
   "cell_type": "code",
   "execution_count": 7,
   "metadata": {},
   "outputs": [],
   "source": [
    "lga_data.columns = list(map(lambda x: str(x), list(lga_data.columns)))"
   ]
  },
  {
   "cell_type": "code",
   "execution_count": 8,
   "metadata": {},
   "outputs": [
    {
     "data": {
      "text/plain": [
       "Index(['LGA_CODE', 'LGA_NAME', 'LGA_NAME_DHHS', 'PARTNERSHIP_REGION_KEY',\n",
       "       '1.1', '1.2', '1.3', '2.1', '3.1', '3.2', '4.1', '4.2', '4.3', '4.4',\n",
       "       '5.1', '5.2', '5.3', '6.1', '6.2', '6.3', '7.1', '7.2', '7.3', '7.4',\n",
       "       '8.1', '8.2', '8.3', '8.4', '9.1', '9.2', '9.3', '9.4'],\n",
       "      dtype='object')"
      ]
     },
     "execution_count": 8,
     "metadata": {},
     "output_type": "execute_result"
    }
   ],
   "source": [
    "#CHECK COLUMN HEADERS\n",
    "\n",
    "lga_data.columns"
   ]
  },
  {
   "cell_type": "code",
   "execution_count": 9,
   "metadata": {},
   "outputs": [
    {
     "data": {
      "text/plain": [
       "(79, 32)"
      ]
     },
     "execution_count": 9,
     "metadata": {},
     "output_type": "execute_result"
    }
   ],
   "source": [
    "#CHECK DATA SHAPE\n",
    "\n",
    "lga_data.shape"
   ]
  },
  {
   "cell_type": "code",
   "execution_count": 10,
   "metadata": {},
   "outputs": [
    {
     "data": {
      "text/plain": [
       "['LGA_CODE', 'LGA_NAME', 'LGA_NAME_DHHS', 'PARTNERSHIP_REGION_KEY']"
      ]
     },
     "execution_count": 10,
     "metadata": {},
     "output_type": "execute_result"
    }
   ],
   "source": [
    "#SEPARATE ID COLUMNS FROM VALUE COLUMNS\n",
    "\n",
    "id_columns = ['LGA_CODE', 'LGA_NAME', 'LGA_NAME_DHHS', 'PARTNERSHIP_REGION_KEY']\n",
    "id_columns"
   ]
  },
  {
   "cell_type": "code",
   "execution_count": 11,
   "metadata": {},
   "outputs": [
    {
     "data": {
      "text/plain": [
       "['1.1',\n",
       " '1.2',\n",
       " '1.3',\n",
       " '2.1',\n",
       " '3.1',\n",
       " '3.2',\n",
       " '4.1',\n",
       " '4.2',\n",
       " '4.3',\n",
       " '4.4',\n",
       " '5.1',\n",
       " '5.2',\n",
       " '5.3',\n",
       " '6.1',\n",
       " '6.2',\n",
       " '6.3',\n",
       " '7.1',\n",
       " '7.2',\n",
       " '7.3',\n",
       " '7.4',\n",
       " '8.1',\n",
       " '8.2',\n",
       " '8.3',\n",
       " '8.4',\n",
       " '9.1',\n",
       " '9.2',\n",
       " '9.3',\n",
       " '9.4']"
      ]
     },
     "execution_count": 11,
     "metadata": {},
     "output_type": "execute_result"
    }
   ],
   "source": [
    "#SEPARATE ID COLUMNS FROM VALUE COLUMNS\n",
    "\n",
    "value_columns = ['1.1',                    '1.2',\n",
    "                          '1.3',                    '2.1',\n",
    "                          '3.1',                    '3.2',\n",
    "                          '4.1',                    '4.2',\n",
    "                          '4.3',                    '4.4',\n",
    "                          '5.1',                    '5.2',\n",
    "                          '5.3',                    '6.1',\n",
    "                          '6.2',                    '6.3',\n",
    "                          '7.1',                    '7.2',\n",
    "                          '7.3',                    '7.4',\n",
    "                          '8.1',                    '8.2',\n",
    "                          '8.3',                    '8.4',\n",
    "                          '9.1',                    '9.2',\n",
    "                          '9.3',                    '9.4']\n",
    "value_columns"
   ]
  },
  {
   "cell_type": "code",
   "execution_count": 12,
   "metadata": {},
   "outputs": [],
   "source": [
    "#UNPIVOT THE LGA_DATA, PASSING IN ID COLUMNS AND VALUE COLUMNS AS PARAMETERS\n",
    "\n",
    "lga_data_melted = pd.melt(lga_data, id_vars = id_columns, value_vars = value_columns)"
   ]
  },
  {
   "cell_type": "code",
   "execution_count": 13,
   "metadata": {},
   "outputs": [
    {
     "data": {
      "text/plain": [
       "(2212, 6)"
      ]
     },
     "execution_count": 13,
     "metadata": {},
     "output_type": "execute_result"
    }
   ],
   "source": [
    "#CHECK SHAPE OF NEW DATA\n",
    "\n",
    "lga_data_melted.shape"
   ]
  },
  {
   "cell_type": "code",
   "execution_count": 14,
   "metadata": {},
   "outputs": [],
   "source": [
    "#CREATE PANDAS SERIES TO STORE JUNCTION KEY\n",
    "\n",
    "indicator_region_code = lga_data_melted[\"PARTNERSHIP_REGION_KEY\"].astype(str).str.strip() + \"_\" + lga_data_melted[\"variable\"].str.strip()"
   ]
  },
  {
   "cell_type": "code",
   "execution_count": 15,
   "metadata": {},
   "outputs": [
    {
     "data": {
      "text/plain": [
       "0    12_1.1\n",
       "1     2_1.1\n",
       "2     2_1.1\n",
       "3    11_1.1\n",
       "4     4_1.1\n",
       "dtype: object"
      ]
     },
     "execution_count": 15,
     "metadata": {},
     "output_type": "execute_result"
    }
   ],
   "source": [
    "#CHECK SERIES ABOVE\n",
    "\n",
    "indicator_region_code.head()"
   ]
  },
  {
   "cell_type": "code",
   "execution_count": 16,
   "metadata": {},
   "outputs": [],
   "source": [
    "#RENAME COLUMNS\n",
    "\n",
    "lga_data_melted.rename(columns = {\"variable\":\"INDICATOR_CODE\", \"value\":\"LGA_VALUE\"}, inplace = True)"
   ]
  },
  {
   "cell_type": "code",
   "execution_count": 17,
   "metadata": {},
   "outputs": [],
   "source": [
    "#MERGE UNPIVOTTED DATA WITH JUNCTION KEY SERIES AND RENAME THE NEW COLUMN\n",
    "\n",
    "lga_data_melted2 = pd.concat([lga_data_melted, indicator_region_code.rename(\"INDICATOR_REGION_CODE\")], axis = 1)"
   ]
  },
  {
   "cell_type": "code",
   "execution_count": 18,
   "metadata": {},
   "outputs": [
    {
     "data": {
      "text/html": [
       "<div>\n",
       "<style scoped>\n",
       "    .dataframe tbody tr th:only-of-type {\n",
       "        vertical-align: middle;\n",
       "    }\n",
       "\n",
       "    .dataframe tbody tr th {\n",
       "        vertical-align: top;\n",
       "    }\n",
       "\n",
       "    .dataframe thead th {\n",
       "        text-align: right;\n",
       "    }\n",
       "</style>\n",
       "<table border=\"1\" class=\"dataframe\">\n",
       "  <thead>\n",
       "    <tr style=\"text-align: right;\">\n",
       "      <th></th>\n",
       "      <th>LGA_CODE</th>\n",
       "      <th>LGA_NAME</th>\n",
       "      <th>LGA_NAME_DHHS</th>\n",
       "      <th>PARTNERSHIP_REGION_KEY</th>\n",
       "      <th>INDICATOR_CODE</th>\n",
       "      <th>LGA_VALUE</th>\n",
       "      <th>INDICATOR_REGION_CODE</th>\n",
       "    </tr>\n",
       "  </thead>\n",
       "  <tbody>\n",
       "    <tr>\n",
       "      <th>0</th>\n",
       "      <td>20110</td>\n",
       "      <td>Alpine</td>\n",
       "      <td>Alpine (S)</td>\n",
       "      <td>12</td>\n",
       "      <td>1.1</td>\n",
       "      <td>74.701087</td>\n",
       "      <td>12_1.1</td>\n",
       "    </tr>\n",
       "    <tr>\n",
       "      <th>1</th>\n",
       "      <td>20260</td>\n",
       "      <td>Ararat</td>\n",
       "      <td>Ararat (RC)</td>\n",
       "      <td>2</td>\n",
       "      <td>1.1</td>\n",
       "      <td>66.086468</td>\n",
       "      <td>2_1.1</td>\n",
       "    </tr>\n",
       "    <tr>\n",
       "      <th>2</th>\n",
       "      <td>20570</td>\n",
       "      <td>Ballarat</td>\n",
       "      <td>Ballarat (C)</td>\n",
       "      <td>2</td>\n",
       "      <td>1.1</td>\n",
       "      <td>69.178760</td>\n",
       "      <td>2_1.1</td>\n",
       "    </tr>\n",
       "    <tr>\n",
       "      <th>3</th>\n",
       "      <td>20660</td>\n",
       "      <td>Banyule</td>\n",
       "      <td>Banyule (C)</td>\n",
       "      <td>11</td>\n",
       "      <td>1.1</td>\n",
       "      <td>74.929728</td>\n",
       "      <td>11_1.1</td>\n",
       "    </tr>\n",
       "    <tr>\n",
       "      <th>4</th>\n",
       "      <td>20740</td>\n",
       "      <td>Bass Coast</td>\n",
       "      <td>Bass Coast (S)</td>\n",
       "      <td>4</td>\n",
       "      <td>1.1</td>\n",
       "      <td>68.299194</td>\n",
       "      <td>4_1.1</td>\n",
       "    </tr>\n",
       "  </tbody>\n",
       "</table>\n",
       "</div>"
      ],
      "text/plain": [
       "   LGA_CODE     LGA_NAME   LGA_NAME_DHHS  PARTNERSHIP_REGION_KEY  \\\n",
       "0     20110      Alpine       Alpine (S)                      12   \n",
       "1     20260      Ararat      Ararat (RC)                       2   \n",
       "2     20570    Ballarat     Ballarat (C)                       2   \n",
       "3     20660     Banyule      Banyule (C)                      11   \n",
       "4     20740  Bass Coast   Bass Coast (S)                       4   \n",
       "\n",
       "  INDICATOR_CODE  LGA_VALUE INDICATOR_REGION_CODE  \n",
       "0            1.1  74.701087                12_1.1  \n",
       "1            1.1  66.086468                 2_1.1  \n",
       "2            1.1  69.178760                 2_1.1  \n",
       "3            1.1  74.929728                11_1.1  \n",
       "4            1.1  68.299194                 4_1.1  "
      ]
     },
     "execution_count": 18,
     "metadata": {},
     "output_type": "execute_result"
    }
   ],
   "source": [
    "#CHECK FINAL DATA\n",
    "\n",
    "lga_data_melted2.head()"
   ]
  },
  {
   "cell_type": "code",
   "execution_count": 19,
   "metadata": {},
   "outputs": [],
   "source": [
    "#REPLCE NULLS IN VALUE COLUMN\n",
    "\n",
    "lga_data_melted2[\"LGA_VALUE\"].replace(0,np.nan, inplace = True)"
   ]
  },
  {
   "cell_type": "code",
   "execution_count": 20,
   "metadata": {},
   "outputs": [],
   "source": [
    "#STORE final data in dictionary\n",
    "\n",
    "dataframe_dictionary[\"LGA_DATA_UNPIVOTTED\"] = lga_data_melted2"
   ]
  },
  {
   "cell_type": "markdown",
   "metadata": {},
   "source": [
    "## 1. Unpivot REGION_DATA"
   ]
  },
  {
   "cell_type": "code",
   "execution_count": 21,
   "metadata": {},
   "outputs": [],
   "source": [
    "#IMPORT DATA AND LOOKUP TABLE\n",
    "\n",
    "region_data = pd.read_excel(input_path, sheet_name= \"REGION_DATA\")\n",
    "region_lookup_data = pd.read_excel(input_path, sheet_name= \"REGIONS\")"
   ]
  },
  {
   "cell_type": "code",
   "execution_count": 22,
   "metadata": {},
   "outputs": [
    {
     "data": {
      "text/html": [
       "<div>\n",
       "<style scoped>\n",
       "    .dataframe tbody tr th:only-of-type {\n",
       "        vertical-align: middle;\n",
       "    }\n",
       "\n",
       "    .dataframe tbody tr th {\n",
       "        vertical-align: top;\n",
       "    }\n",
       "\n",
       "    .dataframe thead th {\n",
       "        text-align: right;\n",
       "    }\n",
       "</style>\n",
       "<table border=\"1\" class=\"dataframe\">\n",
       "  <thead>\n",
       "    <tr style=\"text-align: right;\">\n",
       "      <th></th>\n",
       "      <th>INDICATOR_NAME</th>\n",
       "      <th>INDICATOR_CODE</th>\n",
       "      <th>YEAR_DATA_PUBLISHED</th>\n",
       "      <th>COLOUR_SCALE_DIRECTION</th>\n",
       "      <th>Barwon</th>\n",
       "      <th>Central Highlands</th>\n",
       "      <th>Eastern</th>\n",
       "      <th>Gippsland</th>\n",
       "      <th>Goulburn</th>\n",
       "      <th>Great South Coast</th>\n",
       "      <th>Inner</th>\n",
       "      <th>Inner South-East</th>\n",
       "      <th>Loddon Campaspe</th>\n",
       "      <th>Mallee</th>\n",
       "      <th>Northern Metro</th>\n",
       "      <th>Ovens Murray</th>\n",
       "      <th>Southern</th>\n",
       "      <th>Western</th>\n",
       "      <th>Wimmera Southern Mallee</th>\n",
       "    </tr>\n",
       "  </thead>\n",
       "  <tbody>\n",
       "    <tr>\n",
       "      <th>0</th>\n",
       "      <td>Employment (% of working age population)</td>\n",
       "      <td>1.1</td>\n",
       "      <td>2016</td>\n",
       "      <td>1</td>\n",
       "      <td>71.207099</td>\n",
       "      <td>69.680891</td>\n",
       "      <td>72.143474</td>\n",
       "      <td>67.795715</td>\n",
       "      <td>69.296058</td>\n",
       "      <td>74.014850</td>\n",
       "      <td>65.825160</td>\n",
       "      <td>74.685254</td>\n",
       "      <td>70.504069</td>\n",
       "      <td>68.074461</td>\n",
       "      <td>68.479356</td>\n",
       "      <td>73.630701</td>\n",
       "      <td>69.845107</td>\n",
       "      <td>66.811540</td>\n",
       "      <td>73.531288</td>\n",
       "    </tr>\n",
       "    <tr>\n",
       "      <th>1</th>\n",
       "      <td>Labour productivity ($000 per worker)</td>\n",
       "      <td>1.2</td>\n",
       "      <td>2015</td>\n",
       "      <td>1</td>\n",
       "      <td>99.565466</td>\n",
       "      <td>89.046715</td>\n",
       "      <td>96.010700</td>\n",
       "      <td>131.286286</td>\n",
       "      <td>91.299568</td>\n",
       "      <td>112.304432</td>\n",
       "      <td>142.817609</td>\n",
       "      <td>107.726317</td>\n",
       "      <td>98.934028</td>\n",
       "      <td>94.585677</td>\n",
       "      <td>89.230980</td>\n",
       "      <td>91.249853</td>\n",
       "      <td>88.015346</td>\n",
       "      <td>90.459250</td>\n",
       "      <td>105.982798</td>\n",
       "    </tr>\n",
       "    <tr>\n",
       "      <th>2</th>\n",
       "      <td>Unemployment (% of labour force)</td>\n",
       "      <td>1.3</td>\n",
       "      <td>2017</td>\n",
       "      <td>-1</td>\n",
       "      <td>5.709137</td>\n",
       "      <td>4.430555</td>\n",
       "      <td>4.506457</td>\n",
       "      <td>6.585084</td>\n",
       "      <td>5.853682</td>\n",
       "      <td>3.739437</td>\n",
       "      <td>4.723937</td>\n",
       "      <td>3.745407</td>\n",
       "      <td>5.918335</td>\n",
       "      <td>5.805436</td>\n",
       "      <td>6.851721</td>\n",
       "      <td>3.313709</td>\n",
       "      <td>6.910634</td>\n",
       "      <td>8.374421</td>\n",
       "      <td>4.510919</td>\n",
       "    </tr>\n",
       "    <tr>\n",
       "      <th>3</th>\n",
       "      <td>New patents (applied per 10,000 population)</td>\n",
       "      <td>2.1</td>\n",
       "      <td>2016</td>\n",
       "      <td>1</td>\n",
       "      <td>2.415064</td>\n",
       "      <td>1.125651</td>\n",
       "      <td>4.371418</td>\n",
       "      <td>1.327975</td>\n",
       "      <td>0.810165</td>\n",
       "      <td>0.520530</td>\n",
       "      <td>14.346925</td>\n",
       "      <td>4.944013</td>\n",
       "      <td>1.826084</td>\n",
       "      <td>0.700207</td>\n",
       "      <td>2.918467</td>\n",
       "      <td>0.937670</td>\n",
       "      <td>3.181628</td>\n",
       "      <td>1.830045</td>\n",
       "      <td>0.889363</td>\n",
       "    </tr>\n",
       "    <tr>\n",
       "      <th>4</th>\n",
       "      <td>Access to public transport (% population livin...</td>\n",
       "      <td>3.1</td>\n",
       "      <td>2014</td>\n",
       "      <td>1</td>\n",
       "      <td>69.655496</td>\n",
       "      <td>45.596119</td>\n",
       "      <td>88.528132</td>\n",
       "      <td>34.034393</td>\n",
       "      <td>34.911315</td>\n",
       "      <td>39.704353</td>\n",
       "      <td>99.052588</td>\n",
       "      <td>99.349742</td>\n",
       "      <td>38.653680</td>\n",
       "      <td>41.434982</td>\n",
       "      <td>81.930596</td>\n",
       "      <td>33.886365</td>\n",
       "      <td>70.071150</td>\n",
       "      <td>80.765858</td>\n",
       "      <td>36.584843</td>\n",
       "    </tr>\n",
       "  </tbody>\n",
       "</table>\n",
       "</div>"
      ],
      "text/plain": [
       "                                      INDICATOR_NAME  INDICATOR_CODE  \\\n",
       "0           Employment (% of working age population)             1.1   \n",
       "1              Labour productivity ($000 per worker)             1.2   \n",
       "2                   Unemployment (% of labour force)             1.3   \n",
       "3        New patents (applied per 10,000 population)             2.1   \n",
       "4  Access to public transport (% population livin...             3.1   \n",
       "\n",
       "   YEAR_DATA_PUBLISHED  COLOUR_SCALE_DIRECTION     Barwon  Central Highlands  \\\n",
       "0                 2016                       1  71.207099          69.680891   \n",
       "1                 2015                       1  99.565466          89.046715   \n",
       "2                 2017                      -1   5.709137           4.430555   \n",
       "3                 2016                       1   2.415064           1.125651   \n",
       "4                 2014                       1  69.655496          45.596119   \n",
       "\n",
       "     Eastern   Gippsland   Goulburn  Great South Coast       Inner  \\\n",
       "0  72.143474   67.795715  69.296058          74.014850   65.825160   \n",
       "1  96.010700  131.286286  91.299568         112.304432  142.817609   \n",
       "2   4.506457    6.585084   5.853682           3.739437    4.723937   \n",
       "3   4.371418    1.327975   0.810165           0.520530   14.346925   \n",
       "4  88.528132   34.034393  34.911315          39.704353   99.052588   \n",
       "\n",
       "   Inner South-East  Loddon Campaspe     Mallee  Northern Metro  Ovens Murray  \\\n",
       "0         74.685254        70.504069  68.074461       68.479356     73.630701   \n",
       "1        107.726317        98.934028  94.585677       89.230980     91.249853   \n",
       "2          3.745407         5.918335   5.805436        6.851721      3.313709   \n",
       "3          4.944013         1.826084   0.700207        2.918467      0.937670   \n",
       "4         99.349742        38.653680  41.434982       81.930596     33.886365   \n",
       "\n",
       "    Southern    Western  Wimmera Southern Mallee  \n",
       "0  69.845107  66.811540                73.531288  \n",
       "1  88.015346  90.459250               105.982798  \n",
       "2   6.910634   8.374421                 4.510919  \n",
       "3   3.181628   1.830045                 0.889363  \n",
       "4  70.071150  80.765858                36.584843  "
      ]
     },
     "execution_count": 22,
     "metadata": {},
     "output_type": "execute_result"
    }
   ],
   "source": [
    "#CHECK REGION DATA\n",
    "\n",
    "region_data.head()"
   ]
  },
  {
   "cell_type": "code",
   "execution_count": 23,
   "metadata": {},
   "outputs": [
    {
     "data": {
      "text/html": [
       "<div>\n",
       "<style scoped>\n",
       "    .dataframe tbody tr th:only-of-type {\n",
       "        vertical-align: middle;\n",
       "    }\n",
       "\n",
       "    .dataframe tbody tr th {\n",
       "        vertical-align: top;\n",
       "    }\n",
       "\n",
       "    .dataframe thead th {\n",
       "        text-align: right;\n",
       "    }\n",
       "</style>\n",
       "<table border=\"1\" class=\"dataframe\">\n",
       "  <thead>\n",
       "    <tr style=\"text-align: right;\">\n",
       "      <th></th>\n",
       "      <th>PARTNERSHIP_REGION_NAME</th>\n",
       "      <th>PARTNERSHIP_REGION_KEY</th>\n",
       "      <th>SECTION_OF_STATE</th>\n",
       "    </tr>\n",
       "  </thead>\n",
       "  <tbody>\n",
       "    <tr>\n",
       "      <th>0</th>\n",
       "      <td>Barwon</td>\n",
       "      <td>1</td>\n",
       "      <td>Regional Victoria</td>\n",
       "    </tr>\n",
       "    <tr>\n",
       "      <th>1</th>\n",
       "      <td>Central Highlands</td>\n",
       "      <td>2</td>\n",
       "      <td>Regional Victoria</td>\n",
       "    </tr>\n",
       "    <tr>\n",
       "      <th>2</th>\n",
       "      <td>Eastern</td>\n",
       "      <td>3</td>\n",
       "      <td>Metropolitan Melbourne</td>\n",
       "    </tr>\n",
       "    <tr>\n",
       "      <th>3</th>\n",
       "      <td>Gippsland</td>\n",
       "      <td>4</td>\n",
       "      <td>Regional Victoria</td>\n",
       "    </tr>\n",
       "    <tr>\n",
       "      <th>4</th>\n",
       "      <td>Goulburn</td>\n",
       "      <td>5</td>\n",
       "      <td>Regional Victoria</td>\n",
       "    </tr>\n",
       "  </tbody>\n",
       "</table>\n",
       "</div>"
      ],
      "text/plain": [
       "  PARTNERSHIP_REGION_NAME  PARTNERSHIP_REGION_KEY        SECTION_OF_STATE\n",
       "0                  Barwon                       1       Regional Victoria\n",
       "1       Central Highlands                       2       Regional Victoria\n",
       "2                 Eastern                       3  Metropolitan Melbourne\n",
       "3               Gippsland                       4       Regional Victoria\n",
       "4                Goulburn                       5       Regional Victoria"
      ]
     },
     "execution_count": 23,
     "metadata": {},
     "output_type": "execute_result"
    }
   ],
   "source": [
    "#CHECK LOOKUP DATA\n",
    "\n",
    "region_lookup_data.head()"
   ]
  },
  {
   "cell_type": "code",
   "execution_count": 24,
   "metadata": {},
   "outputs": [
    {
     "data": {
      "text/plain": [
       "(28, 19)"
      ]
     },
     "execution_count": 24,
     "metadata": {},
     "output_type": "execute_result"
    }
   ],
   "source": [
    "#CHECK SHAPE OF DATA\n",
    "\n",
    "region_data.shape"
   ]
  },
  {
   "cell_type": "code",
   "execution_count": 25,
   "metadata": {},
   "outputs": [
    {
     "data": {
      "text/plain": [
       "Index(['INDICATOR_NAME', 'INDICATOR_CODE', 'YEAR_DATA_PUBLISHED',\n",
       "       'COLOUR_SCALE_DIRECTION', 'Barwon', 'Central Highlands', 'Eastern',\n",
       "       'Gippsland', 'Goulburn', 'Great South Coast', 'Inner',\n",
       "       'Inner South-East', 'Loddon Campaspe', 'Mallee', 'Northern Metro',\n",
       "       'Ovens Murray', 'Southern', 'Western', 'Wimmera Southern Mallee'],\n",
       "      dtype='object')"
      ]
     },
     "execution_count": 25,
     "metadata": {},
     "output_type": "execute_result"
    }
   ],
   "source": [
    "#LOAD COLUMN NAMES\n",
    "\n",
    "region_data.columns"
   ]
  },
  {
   "cell_type": "code",
   "execution_count": 26,
   "metadata": {},
   "outputs": [
    {
     "data": {
      "text/plain": [
       "['INDICATOR_NAME',\n",
       " 'INDICATOR_CODE',\n",
       " 'YEAR_DATA_PUBLISHED',\n",
       " 'COLOUR_SCALE_DIRECTION']"
      ]
     },
     "execution_count": 26,
     "metadata": {},
     "output_type": "execute_result"
    }
   ],
   "source": [
    "#SEPERATE ID AND VALUE COLUMNS FOR THE MELT\n",
    "\n",
    "id_columns = ['INDICATOR_NAME', 'INDICATOR_CODE', 'YEAR_DATA_PUBLISHED',\n",
    "       'COLOUR_SCALE_DIRECTION']\n",
    "id_columns"
   ]
  },
  {
   "cell_type": "code",
   "execution_count": 27,
   "metadata": {},
   "outputs": [
    {
     "data": {
      "text/plain": [
       "['Barwon',\n",
       " 'Central Highlands',\n",
       " 'Eastern',\n",
       " 'Gippsland',\n",
       " 'Goulburn',\n",
       " 'Great South Coast',\n",
       " 'Inner',\n",
       " 'Inner South-East',\n",
       " 'Loddon Campaspe',\n",
       " 'Mallee',\n",
       " 'Northern Metro',\n",
       " 'Ovens Murray',\n",
       " 'Southern',\n",
       " 'Western',\n",
       " 'Wimmera Southern Mallee']"
      ]
     },
     "execution_count": 27,
     "metadata": {},
     "output_type": "execute_result"
    }
   ],
   "source": [
    "#SEPERATE ID AND VALUE COLUMNS FOR THE MELT\n",
    "\n",
    "value_columns = ['Barwon', 'Central Highlands', 'Eastern',\n",
    "       'Gippsland', 'Goulburn', 'Great South Coast', 'Inner',\n",
    "       'Inner South-East', 'Loddon Campaspe', 'Mallee', 'Northern Metro',\n",
    "       'Ovens Murray', 'Southern', 'Western', 'Wimmera Southern Mallee']\n",
    "value_columns"
   ]
  },
  {
   "cell_type": "code",
   "execution_count": 28,
   "metadata": {},
   "outputs": [],
   "source": [
    "#MELT (UNPIVOT)\n",
    "\n",
    "region_data_melted = pd.melt(region_data, id_vars = id_columns, value_vars = value_columns)"
   ]
  },
  {
   "cell_type": "code",
   "execution_count": 29,
   "metadata": {},
   "outputs": [
    {
     "data": {
      "text/html": [
       "<div>\n",
       "<style scoped>\n",
       "    .dataframe tbody tr th:only-of-type {\n",
       "        vertical-align: middle;\n",
       "    }\n",
       "\n",
       "    .dataframe tbody tr th {\n",
       "        vertical-align: top;\n",
       "    }\n",
       "\n",
       "    .dataframe thead th {\n",
       "        text-align: right;\n",
       "    }\n",
       "</style>\n",
       "<table border=\"1\" class=\"dataframe\">\n",
       "  <thead>\n",
       "    <tr style=\"text-align: right;\">\n",
       "      <th></th>\n",
       "      <th>INDICATOR_NAME</th>\n",
       "      <th>INDICATOR_CODE</th>\n",
       "      <th>YEAR_DATA_PUBLISHED</th>\n",
       "      <th>COLOUR_SCALE_DIRECTION</th>\n",
       "      <th>variable</th>\n",
       "      <th>value</th>\n",
       "    </tr>\n",
       "  </thead>\n",
       "  <tbody>\n",
       "    <tr>\n",
       "      <th>0</th>\n",
       "      <td>Employment (% of working age population)</td>\n",
       "      <td>1.1</td>\n",
       "      <td>2016</td>\n",
       "      <td>1</td>\n",
       "      <td>Barwon</td>\n",
       "      <td>71.207099</td>\n",
       "    </tr>\n",
       "    <tr>\n",
       "      <th>1</th>\n",
       "      <td>Labour productivity ($000 per worker)</td>\n",
       "      <td>1.2</td>\n",
       "      <td>2015</td>\n",
       "      <td>1</td>\n",
       "      <td>Barwon</td>\n",
       "      <td>99.565466</td>\n",
       "    </tr>\n",
       "    <tr>\n",
       "      <th>2</th>\n",
       "      <td>Unemployment (% of labour force)</td>\n",
       "      <td>1.3</td>\n",
       "      <td>2017</td>\n",
       "      <td>-1</td>\n",
       "      <td>Barwon</td>\n",
       "      <td>5.709137</td>\n",
       "    </tr>\n",
       "    <tr>\n",
       "      <th>3</th>\n",
       "      <td>New patents (applied per 10,000 population)</td>\n",
       "      <td>2.1</td>\n",
       "      <td>2016</td>\n",
       "      <td>1</td>\n",
       "      <td>Barwon</td>\n",
       "      <td>2.415064</td>\n",
       "    </tr>\n",
       "    <tr>\n",
       "      <th>4</th>\n",
       "      <td>Access to public transport (% population livin...</td>\n",
       "      <td>3.1</td>\n",
       "      <td>2014</td>\n",
       "      <td>1</td>\n",
       "      <td>Barwon</td>\n",
       "      <td>69.655496</td>\n",
       "    </tr>\n",
       "  </tbody>\n",
       "</table>\n",
       "</div>"
      ],
      "text/plain": [
       "                                      INDICATOR_NAME  INDICATOR_CODE  \\\n",
       "0           Employment (% of working age population)             1.1   \n",
       "1              Labour productivity ($000 per worker)             1.2   \n",
       "2                   Unemployment (% of labour force)             1.3   \n",
       "3        New patents (applied per 10,000 population)             2.1   \n",
       "4  Access to public transport (% population livin...             3.1   \n",
       "\n",
       "   YEAR_DATA_PUBLISHED  COLOUR_SCALE_DIRECTION variable      value  \n",
       "0                 2016                       1   Barwon  71.207099  \n",
       "1                 2015                       1   Barwon  99.565466  \n",
       "2                 2017                      -1   Barwon   5.709137  \n",
       "3                 2016                       1   Barwon   2.415064  \n",
       "4                 2014                       1   Barwon  69.655496  "
      ]
     },
     "execution_count": 29,
     "metadata": {},
     "output_type": "execute_result"
    }
   ],
   "source": [
    "region_data_melted.head()"
   ]
  },
  {
   "cell_type": "code",
   "execution_count": 30,
   "metadata": {},
   "outputs": [],
   "source": [
    "#JOIN UNPIVOTTED DATA TO LOOKUP DATA\n",
    "\n",
    "region_data_melted2 = region_data_melted.merge(region_lookup_data, \n",
    "                                       left_on = \"variable\", \n",
    "                                       right_on = \"PARTNERSHIP_REGION_NAME\", \n",
    "                                       how = \"left\")"
   ]
  },
  {
   "cell_type": "code",
   "execution_count": 31,
   "metadata": {},
   "outputs": [
    {
     "data": {
      "text/html": [
       "<div>\n",
       "<style scoped>\n",
       "    .dataframe tbody tr th:only-of-type {\n",
       "        vertical-align: middle;\n",
       "    }\n",
       "\n",
       "    .dataframe tbody tr th {\n",
       "        vertical-align: top;\n",
       "    }\n",
       "\n",
       "    .dataframe thead th {\n",
       "        text-align: right;\n",
       "    }\n",
       "</style>\n",
       "<table border=\"1\" class=\"dataframe\">\n",
       "  <thead>\n",
       "    <tr style=\"text-align: right;\">\n",
       "      <th></th>\n",
       "      <th>INDICATOR_NAME</th>\n",
       "      <th>INDICATOR_CODE</th>\n",
       "      <th>YEAR_DATA_PUBLISHED</th>\n",
       "      <th>COLOUR_SCALE_DIRECTION</th>\n",
       "      <th>variable</th>\n",
       "      <th>value</th>\n",
       "      <th>PARTNERSHIP_REGION_NAME</th>\n",
       "      <th>PARTNERSHIP_REGION_KEY</th>\n",
       "      <th>SECTION_OF_STATE</th>\n",
       "    </tr>\n",
       "  </thead>\n",
       "  <tbody>\n",
       "    <tr>\n",
       "      <th>0</th>\n",
       "      <td>Employment (% of working age population)</td>\n",
       "      <td>1.1</td>\n",
       "      <td>2016</td>\n",
       "      <td>1</td>\n",
       "      <td>Barwon</td>\n",
       "      <td>71.207099</td>\n",
       "      <td>Barwon</td>\n",
       "      <td>1</td>\n",
       "      <td>Regional Victoria</td>\n",
       "    </tr>\n",
       "    <tr>\n",
       "      <th>1</th>\n",
       "      <td>Labour productivity ($000 per worker)</td>\n",
       "      <td>1.2</td>\n",
       "      <td>2015</td>\n",
       "      <td>1</td>\n",
       "      <td>Barwon</td>\n",
       "      <td>99.565466</td>\n",
       "      <td>Barwon</td>\n",
       "      <td>1</td>\n",
       "      <td>Regional Victoria</td>\n",
       "    </tr>\n",
       "    <tr>\n",
       "      <th>2</th>\n",
       "      <td>Unemployment (% of labour force)</td>\n",
       "      <td>1.3</td>\n",
       "      <td>2017</td>\n",
       "      <td>-1</td>\n",
       "      <td>Barwon</td>\n",
       "      <td>5.709137</td>\n",
       "      <td>Barwon</td>\n",
       "      <td>1</td>\n",
       "      <td>Regional Victoria</td>\n",
       "    </tr>\n",
       "    <tr>\n",
       "      <th>3</th>\n",
       "      <td>New patents (applied per 10,000 population)</td>\n",
       "      <td>2.1</td>\n",
       "      <td>2016</td>\n",
       "      <td>1</td>\n",
       "      <td>Barwon</td>\n",
       "      <td>2.415064</td>\n",
       "      <td>Barwon</td>\n",
       "      <td>1</td>\n",
       "      <td>Regional Victoria</td>\n",
       "    </tr>\n",
       "    <tr>\n",
       "      <th>4</th>\n",
       "      <td>Access to public transport (% population livin...</td>\n",
       "      <td>3.1</td>\n",
       "      <td>2014</td>\n",
       "      <td>1</td>\n",
       "      <td>Barwon</td>\n",
       "      <td>69.655496</td>\n",
       "      <td>Barwon</td>\n",
       "      <td>1</td>\n",
       "      <td>Regional Victoria</td>\n",
       "    </tr>\n",
       "  </tbody>\n",
       "</table>\n",
       "</div>"
      ],
      "text/plain": [
       "                                      INDICATOR_NAME  INDICATOR_CODE  \\\n",
       "0           Employment (% of working age population)             1.1   \n",
       "1              Labour productivity ($000 per worker)             1.2   \n",
       "2                   Unemployment (% of labour force)             1.3   \n",
       "3        New patents (applied per 10,000 population)             2.1   \n",
       "4  Access to public transport (% population livin...             3.1   \n",
       "\n",
       "   YEAR_DATA_PUBLISHED  COLOUR_SCALE_DIRECTION variable      value  \\\n",
       "0                 2016                       1   Barwon  71.207099   \n",
       "1                 2015                       1   Barwon  99.565466   \n",
       "2                 2017                      -1   Barwon   5.709137   \n",
       "3                 2016                       1   Barwon   2.415064   \n",
       "4                 2014                       1   Barwon  69.655496   \n",
       "\n",
       "  PARTNERSHIP_REGION_NAME  PARTNERSHIP_REGION_KEY   SECTION_OF_STATE  \n",
       "0                  Barwon                       1  Regional Victoria  \n",
       "1                  Barwon                       1  Regional Victoria  \n",
       "2                  Barwon                       1  Regional Victoria  \n",
       "3                  Barwon                       1  Regional Victoria  \n",
       "4                  Barwon                       1  Regional Victoria  "
      ]
     },
     "execution_count": 31,
     "metadata": {},
     "output_type": "execute_result"
    }
   ],
   "source": [
    "#CHECK RESULT\n",
    "\n",
    "region_data_melted2.head()"
   ]
  },
  {
   "cell_type": "code",
   "execution_count": 32,
   "metadata": {},
   "outputs": [],
   "source": [
    "#DROP DUPLICATE COLUMN\n",
    "\n",
    "region_data_melted3 = region_data_melted2.drop([\"variable\"], axis = 1)"
   ]
  },
  {
   "cell_type": "code",
   "execution_count": 33,
   "metadata": {},
   "outputs": [
    {
     "data": {
      "text/html": [
       "<div>\n",
       "<style scoped>\n",
       "    .dataframe tbody tr th:only-of-type {\n",
       "        vertical-align: middle;\n",
       "    }\n",
       "\n",
       "    .dataframe tbody tr th {\n",
       "        vertical-align: top;\n",
       "    }\n",
       "\n",
       "    .dataframe thead th {\n",
       "        text-align: right;\n",
       "    }\n",
       "</style>\n",
       "<table border=\"1\" class=\"dataframe\">\n",
       "  <thead>\n",
       "    <tr style=\"text-align: right;\">\n",
       "      <th></th>\n",
       "      <th>INDICATOR_NAME</th>\n",
       "      <th>INDICATOR_CODE</th>\n",
       "      <th>YEAR_DATA_PUBLISHED</th>\n",
       "      <th>COLOUR_SCALE_DIRECTION</th>\n",
       "      <th>value</th>\n",
       "      <th>PARTNERSHIP_REGION_NAME</th>\n",
       "      <th>PARTNERSHIP_REGION_KEY</th>\n",
       "      <th>SECTION_OF_STATE</th>\n",
       "    </tr>\n",
       "  </thead>\n",
       "  <tbody>\n",
       "    <tr>\n",
       "      <th>0</th>\n",
       "      <td>Employment (% of working age population)</td>\n",
       "      <td>1.1</td>\n",
       "      <td>2016</td>\n",
       "      <td>1</td>\n",
       "      <td>71.207099</td>\n",
       "      <td>Barwon</td>\n",
       "      <td>1</td>\n",
       "      <td>Regional Victoria</td>\n",
       "    </tr>\n",
       "    <tr>\n",
       "      <th>1</th>\n",
       "      <td>Labour productivity ($000 per worker)</td>\n",
       "      <td>1.2</td>\n",
       "      <td>2015</td>\n",
       "      <td>1</td>\n",
       "      <td>99.565466</td>\n",
       "      <td>Barwon</td>\n",
       "      <td>1</td>\n",
       "      <td>Regional Victoria</td>\n",
       "    </tr>\n",
       "    <tr>\n",
       "      <th>2</th>\n",
       "      <td>Unemployment (% of labour force)</td>\n",
       "      <td>1.3</td>\n",
       "      <td>2017</td>\n",
       "      <td>-1</td>\n",
       "      <td>5.709137</td>\n",
       "      <td>Barwon</td>\n",
       "      <td>1</td>\n",
       "      <td>Regional Victoria</td>\n",
       "    </tr>\n",
       "    <tr>\n",
       "      <th>3</th>\n",
       "      <td>New patents (applied per 10,000 population)</td>\n",
       "      <td>2.1</td>\n",
       "      <td>2016</td>\n",
       "      <td>1</td>\n",
       "      <td>2.415064</td>\n",
       "      <td>Barwon</td>\n",
       "      <td>1</td>\n",
       "      <td>Regional Victoria</td>\n",
       "    </tr>\n",
       "    <tr>\n",
       "      <th>4</th>\n",
       "      <td>Access to public transport (% population livin...</td>\n",
       "      <td>3.1</td>\n",
       "      <td>2014</td>\n",
       "      <td>1</td>\n",
       "      <td>69.655496</td>\n",
       "      <td>Barwon</td>\n",
       "      <td>1</td>\n",
       "      <td>Regional Victoria</td>\n",
       "    </tr>\n",
       "  </tbody>\n",
       "</table>\n",
       "</div>"
      ],
      "text/plain": [
       "                                      INDICATOR_NAME  INDICATOR_CODE  \\\n",
       "0           Employment (% of working age population)             1.1   \n",
       "1              Labour productivity ($000 per worker)             1.2   \n",
       "2                   Unemployment (% of labour force)             1.3   \n",
       "3        New patents (applied per 10,000 population)             2.1   \n",
       "4  Access to public transport (% population livin...             3.1   \n",
       "\n",
       "   YEAR_DATA_PUBLISHED  COLOUR_SCALE_DIRECTION      value  \\\n",
       "0                 2016                       1  71.207099   \n",
       "1                 2015                       1  99.565466   \n",
       "2                 2017                      -1   5.709137   \n",
       "3                 2016                       1   2.415064   \n",
       "4                 2014                       1  69.655496   \n",
       "\n",
       "  PARTNERSHIP_REGION_NAME  PARTNERSHIP_REGION_KEY   SECTION_OF_STATE  \n",
       "0                  Barwon                       1  Regional Victoria  \n",
       "1                  Barwon                       1  Regional Victoria  \n",
       "2                  Barwon                       1  Regional Victoria  \n",
       "3                  Barwon                       1  Regional Victoria  \n",
       "4                  Barwon                       1  Regional Victoria  "
      ]
     },
     "execution_count": 33,
     "metadata": {},
     "output_type": "execute_result"
    }
   ],
   "source": [
    "region_data_melted3.head()"
   ]
  },
  {
   "cell_type": "code",
   "execution_count": 34,
   "metadata": {},
   "outputs": [],
   "source": [
    "#RENAME VALUE COLUMN\n",
    "\n",
    "region_data_melted4 = region_data_melted3.rename(columns = {\"value\":\"PARTNERSHIP_REGION_VALUE\"})"
   ]
  },
  {
   "cell_type": "code",
   "execution_count": 35,
   "metadata": {},
   "outputs": [
    {
     "data": {
      "text/html": [
       "<div>\n",
       "<style scoped>\n",
       "    .dataframe tbody tr th:only-of-type {\n",
       "        vertical-align: middle;\n",
       "    }\n",
       "\n",
       "    .dataframe tbody tr th {\n",
       "        vertical-align: top;\n",
       "    }\n",
       "\n",
       "    .dataframe thead th {\n",
       "        text-align: right;\n",
       "    }\n",
       "</style>\n",
       "<table border=\"1\" class=\"dataframe\">\n",
       "  <thead>\n",
       "    <tr style=\"text-align: right;\">\n",
       "      <th></th>\n",
       "      <th>INDICATOR_NAME</th>\n",
       "      <th>INDICATOR_CODE</th>\n",
       "      <th>YEAR_DATA_PUBLISHED</th>\n",
       "      <th>COLOUR_SCALE_DIRECTION</th>\n",
       "      <th>PARTNERSHIP_REGION_VALUE</th>\n",
       "      <th>PARTNERSHIP_REGION_NAME</th>\n",
       "      <th>PARTNERSHIP_REGION_KEY</th>\n",
       "      <th>SECTION_OF_STATE</th>\n",
       "    </tr>\n",
       "  </thead>\n",
       "  <tbody>\n",
       "    <tr>\n",
       "      <th>0</th>\n",
       "      <td>Employment (% of working age population)</td>\n",
       "      <td>1.1</td>\n",
       "      <td>2016</td>\n",
       "      <td>1</td>\n",
       "      <td>71.207099</td>\n",
       "      <td>Barwon</td>\n",
       "      <td>1</td>\n",
       "      <td>Regional Victoria</td>\n",
       "    </tr>\n",
       "    <tr>\n",
       "      <th>1</th>\n",
       "      <td>Labour productivity ($000 per worker)</td>\n",
       "      <td>1.2</td>\n",
       "      <td>2015</td>\n",
       "      <td>1</td>\n",
       "      <td>99.565466</td>\n",
       "      <td>Barwon</td>\n",
       "      <td>1</td>\n",
       "      <td>Regional Victoria</td>\n",
       "    </tr>\n",
       "    <tr>\n",
       "      <th>2</th>\n",
       "      <td>Unemployment (% of labour force)</td>\n",
       "      <td>1.3</td>\n",
       "      <td>2017</td>\n",
       "      <td>-1</td>\n",
       "      <td>5.709137</td>\n",
       "      <td>Barwon</td>\n",
       "      <td>1</td>\n",
       "      <td>Regional Victoria</td>\n",
       "    </tr>\n",
       "    <tr>\n",
       "      <th>3</th>\n",
       "      <td>New patents (applied per 10,000 population)</td>\n",
       "      <td>2.1</td>\n",
       "      <td>2016</td>\n",
       "      <td>1</td>\n",
       "      <td>2.415064</td>\n",
       "      <td>Barwon</td>\n",
       "      <td>1</td>\n",
       "      <td>Regional Victoria</td>\n",
       "    </tr>\n",
       "    <tr>\n",
       "      <th>4</th>\n",
       "      <td>Access to public transport (% population livin...</td>\n",
       "      <td>3.1</td>\n",
       "      <td>2014</td>\n",
       "      <td>1</td>\n",
       "      <td>69.655496</td>\n",
       "      <td>Barwon</td>\n",
       "      <td>1</td>\n",
       "      <td>Regional Victoria</td>\n",
       "    </tr>\n",
       "  </tbody>\n",
       "</table>\n",
       "</div>"
      ],
      "text/plain": [
       "                                      INDICATOR_NAME  INDICATOR_CODE  \\\n",
       "0           Employment (% of working age population)             1.1   \n",
       "1              Labour productivity ($000 per worker)             1.2   \n",
       "2                   Unemployment (% of labour force)             1.3   \n",
       "3        New patents (applied per 10,000 population)             2.1   \n",
       "4  Access to public transport (% population livin...             3.1   \n",
       "\n",
       "   YEAR_DATA_PUBLISHED  COLOUR_SCALE_DIRECTION  PARTNERSHIP_REGION_VALUE  \\\n",
       "0                 2016                       1                 71.207099   \n",
       "1                 2015                       1                 99.565466   \n",
       "2                 2017                      -1                  5.709137   \n",
       "3                 2016                       1                  2.415064   \n",
       "4                 2014                       1                 69.655496   \n",
       "\n",
       "  PARTNERSHIP_REGION_NAME  PARTNERSHIP_REGION_KEY   SECTION_OF_STATE  \n",
       "0                  Barwon                       1  Regional Victoria  \n",
       "1                  Barwon                       1  Regional Victoria  \n",
       "2                  Barwon                       1  Regional Victoria  \n",
       "3                  Barwon                       1  Regional Victoria  \n",
       "4                  Barwon                       1  Regional Victoria  "
      ]
     },
     "execution_count": 35,
     "metadata": {},
     "output_type": "execute_result"
    }
   ],
   "source": [
    "region_data_melted4.head()"
   ]
  },
  {
   "cell_type": "code",
   "execution_count": 36,
   "metadata": {},
   "outputs": [],
   "source": [
    "#CREATE JUNCTION KEY SERIES\n",
    "\n",
    "indicator_region_code = region_data_melted4[\"PARTNERSHIP_REGION_KEY\"].astype(str).str.strip() + \"_\" + region_data_melted4[\"INDICATOR_CODE\"].astype(str).str.strip()"
   ]
  },
  {
   "cell_type": "code",
   "execution_count": 37,
   "metadata": {},
   "outputs": [],
   "source": [
    "#JOIN MERGED DATA WITH JUNCTION KEY SERIES AND RENAME TO 'REGION_INDICATOR_CODE'\n",
    "\n",
    "region_data_melted5 = pd.concat([region_data_melted4, indicator_region_code.rename(\"REGION_INDICATOR_CODE\")], axis = 1)"
   ]
  },
  {
   "cell_type": "code",
   "execution_count": 38,
   "metadata": {},
   "outputs": [],
   "source": [
    "#REPLACE 0s WITH NULLS\n",
    "\n",
    "region_data_melted5[\"PARTNERSHIP_REGION_VALUE\"].replace(0,np.nan, inplace = True)"
   ]
  },
  {
   "cell_type": "code",
   "execution_count": 39,
   "metadata": {},
   "outputs": [],
   "source": [
    "dataframe_dictionary[\"REGION_DATA_UNPIVOTTED\"] = region_data_melted5"
   ]
  },
  {
   "cell_type": "markdown",
   "metadata": {},
   "source": [
    "## Step 3. Export LGA/REGION Unpivotted data along with relevant original excel tabs, to output folder"
   ]
  },
  {
   "cell_type": "code",
   "execution_count": 40,
   "metadata": {},
   "outputs": [],
   "source": [
    "output_path = \"/Users/danielcorcoran/Desktop/partner/output/Partnerships_dashboard_data_21_06_2018_unpivotted.xlsx\""
   ]
  },
  {
   "cell_type": "code",
   "execution_count": 41,
   "metadata": {},
   "outputs": [],
   "source": [
    "#CREATE ExcelFile OBJECT USING INPUT_PATH\n",
    "\n",
    "excelfile_object = pd.ExcelFile(input_path)"
   ]
  },
  {
   "cell_type": "code",
   "execution_count": 42,
   "metadata": {},
   "outputs": [],
   "source": [
    "# STORE SHEET NAMES IN LIST\n",
    "\n",
    "sheet_name_list = excelfile_object.sheet_names"
   ]
  },
  {
   "cell_type": "code",
   "execution_count": 43,
   "metadata": {},
   "outputs": [
    {
     "data": {
      "text/plain": [
       "['DOMAINS',\n",
       " 'LGA_DATA',\n",
       " 'REGION_DATA',\n",
       " 'STATE_AVERAGE',\n",
       " 'LGA_DATA_UNPIVOTTED',\n",
       " 'REGIONS',\n",
       " 'REGION_DATA_UNPIVOTTED',\n",
       " 'SOURCES']"
      ]
     },
     "execution_count": 43,
     "metadata": {},
     "output_type": "execute_result"
    }
   ],
   "source": [
    "sheet_name_list"
   ]
  },
  {
   "cell_type": "code",
   "execution_count": 44,
   "metadata": {},
   "outputs": [],
   "source": [
    "#REMOVE TWO NAMES FROM LIST, THESE ARE OLD AND WILL BE REPLACE BY ONES GENERATED IN STEP 1/2\n",
    "\n",
    "sheet_name_list.remove('LGA_DATA_UNPIVOTTED')\n",
    "sheet_name_list.remove('REGION_DATA_UNPIVOTTED')"
   ]
  },
  {
   "cell_type": "code",
   "execution_count": 45,
   "metadata": {},
   "outputs": [
    {
     "data": {
      "text/plain": [
       "['DOMAINS', 'LGA_DATA', 'REGION_DATA', 'STATE_AVERAGE', 'REGIONS', 'SOURCES']"
      ]
     },
     "execution_count": 45,
     "metadata": {},
     "output_type": "execute_result"
    }
   ],
   "source": [
    "#SHEET NAMES TO KEEP\n",
    "\n",
    "sheet_name_list"
   ]
  },
  {
   "cell_type": "code",
   "execution_count": 46,
   "metadata": {},
   "outputs": [],
   "source": [
    "#FOR EACH SHEET NAME IN LIST STORE A DATAFRAME IN THE DATAFRAME DICTIONARY\n",
    "\n",
    "for name in sheet_name_list:\n",
    "    data = pd.read_excel(input_path, sheet_name = name)\n",
    "    dataframe_dictionary[name] = data"
   ]
  },
  {
   "cell_type": "code",
   "execution_count": 47,
   "metadata": {},
   "outputs": [],
   "source": [
    "#CHECK THAT REQUIRED SHEET NAMES ARE WITHIN THE DICTIONARY AND SORT KEYS\n",
    "\n",
    "dict_key_list = sorted(dataframe_dictionary.keys())"
   ]
  },
  {
   "cell_type": "code",
   "execution_count": 48,
   "metadata": {},
   "outputs": [],
   "source": [
    "#FOR EACH DATAFRAME IN DICTIONARY WRITE TO OUTPUT EXCEL FILE, USING DICTIONARY KEYS AS SHEET TAB NAMES\n",
    "\n",
    "writer = pd.ExcelWriter(output_path)\n",
    "\n",
    "for key in dict_key_list:\n",
    "    dataframe_dictionary[key].to_excel(writer, sheet_name = key, index = False)\n",
    "\n",
    "writer.save()"
   ]
  }
 ],
 "metadata": {
  "kernelspec": {
   "display_name": "Python 3",
   "language": "python",
   "name": "python3"
  },
  "language_info": {
   "codemirror_mode": {
    "name": "ipython",
    "version": 3
   },
   "file_extension": ".py",
   "mimetype": "text/x-python",
   "name": "python",
   "nbconvert_exporter": "python",
   "pygments_lexer": "ipython3",
   "version": "3.6.5"
  },
  "toc": {
   "base_numbering": 1,
   "nav_menu": {},
   "number_sections": true,
   "sideBar": true,
   "skip_h1_title": false,
   "title_cell": "Table of Contents",
   "title_sidebar": "Contents",
   "toc_cell": false,
   "toc_position": {
    "height": "calc(100% - 180px)",
    "left": "10px",
    "top": "150px",
    "width": "283px"
   },
   "toc_section_display": true,
   "toc_window_display": true
  },
  "varInspector": {
   "cols": {
    "lenName": 16,
    "lenType": 16,
    "lenVar": 40
   },
   "kernels_config": {
    "python": {
     "delete_cmd_postfix": "",
     "delete_cmd_prefix": "del ",
     "library": "var_list.py",
     "varRefreshCmd": "print(var_dic_list())"
    },
    "r": {
     "delete_cmd_postfix": ") ",
     "delete_cmd_prefix": "rm(",
     "library": "var_list.r",
     "varRefreshCmd": "cat(var_dic_list()) "
    }
   },
   "types_to_exclude": [
    "module",
    "function",
    "builtin_function_or_method",
    "instance",
    "_Feature"
   ],
   "window_display": false
  }
 },
 "nbformat": 4,
 "nbformat_minor": 2
}
