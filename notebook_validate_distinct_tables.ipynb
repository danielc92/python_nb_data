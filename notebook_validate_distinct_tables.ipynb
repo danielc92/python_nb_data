{
 "cells": [
  {
   "cell_type": "markdown",
   "metadata": {},
   "source": [
    "# Validating distinct tables with ambiguous column names"
   ]
  },
  {
   "cell_type": "code",
   "execution_count": 1,
   "metadata": {},
   "outputs": [],
   "source": [
    "import pandas\n",
    "import datetime\n",
    "import os"
   ]
  },
  {
   "cell_type": "markdown",
   "metadata": {},
   "source": [
    "## Import and check data"
   ]
  },
  {
   "cell_type": "code",
   "execution_count": 2,
   "metadata": {},
   "outputs": [],
   "source": [
    "# A base dataset, will be used to compare against the comparison\n",
    "base = pandas.read_excel(\"/Users/danielcorcoran/Desktop/test_validation.xlsx\", sheet_name = \"ORIGINAL\")\n",
    "\n",
    "# A comparison dataset, similar to the base dataset, with different metadata and a few value variances\n",
    "comparison = pandas.read_excel(\"/Users/danielcorcoran/Desktop/test_validation.xlsx\", sheet_name = \"DUPLICATE\")"
   ]
  },
  {
   "cell_type": "code",
   "execution_count": 3,
   "metadata": {},
   "outputs": [
    {
     "data": {
      "text/html": [
       "<div>\n",
       "<style scoped>\n",
       "    .dataframe tbody tr th:only-of-type {\n",
       "        vertical-align: middle;\n",
       "    }\n",
       "\n",
       "    .dataframe tbody tr th {\n",
       "        vertical-align: top;\n",
       "    }\n",
       "\n",
       "    .dataframe thead th {\n",
       "        text-align: right;\n",
       "    }\n",
       "</style>\n",
       "<table border=\"1\" class=\"dataframe\">\n",
       "  <thead>\n",
       "    <tr style=\"text-align: right;\">\n",
       "      <th></th>\n",
       "      <th>name</th>\n",
       "      <th>score</th>\n",
       "      <th>year</th>\n",
       "    </tr>\n",
       "  </thead>\n",
       "  <tbody>\n",
       "    <tr>\n",
       "      <th>0</th>\n",
       "      <td>a</td>\n",
       "      <td>13</td>\n",
       "      <td>2001</td>\n",
       "    </tr>\n",
       "    <tr>\n",
       "      <th>1</th>\n",
       "      <td>b</td>\n",
       "      <td>13</td>\n",
       "      <td>2001</td>\n",
       "    </tr>\n",
       "    <tr>\n",
       "      <th>2</th>\n",
       "      <td>c</td>\n",
       "      <td>16</td>\n",
       "      <td>2001</td>\n",
       "    </tr>\n",
       "    <tr>\n",
       "      <th>3</th>\n",
       "      <td>d</td>\n",
       "      <td>15</td>\n",
       "      <td>2001</td>\n",
       "    </tr>\n",
       "    <tr>\n",
       "      <th>4</th>\n",
       "      <td>e</td>\n",
       "      <td>17</td>\n",
       "      <td>2001</td>\n",
       "    </tr>\n",
       "  </tbody>\n",
       "</table>\n",
       "</div>"
      ],
      "text/plain": [
       "  name  score  year\n",
       "0    a     13  2001\n",
       "1    b     13  2001\n",
       "2    c     16  2001\n",
       "3    d     15  2001\n",
       "4    e     17  2001"
      ]
     },
     "execution_count": 3,
     "metadata": {},
     "output_type": "execute_result"
    }
   ],
   "source": [
    "base.head()"
   ]
  },
  {
   "cell_type": "code",
   "execution_count": 4,
   "metadata": {},
   "outputs": [
    {
     "data": {
      "text/html": [
       "<div>\n",
       "<style scoped>\n",
       "    .dataframe tbody tr th:only-of-type {\n",
       "        vertical-align: middle;\n",
       "    }\n",
       "\n",
       "    .dataframe tbody tr th {\n",
       "        vertical-align: top;\n",
       "    }\n",
       "\n",
       "    .dataframe thead th {\n",
       "        text-align: right;\n",
       "    }\n",
       "</style>\n",
       "<table border=\"1\" class=\"dataframe\">\n",
       "  <thead>\n",
       "    <tr style=\"text-align: right;\">\n",
       "      <th></th>\n",
       "      <th>name_copy</th>\n",
       "      <th>score_copy</th>\n",
       "      <th>year_copy</th>\n",
       "    </tr>\n",
       "  </thead>\n",
       "  <tbody>\n",
       "    <tr>\n",
       "      <th>0</th>\n",
       "      <td>a</td>\n",
       "      <td>13</td>\n",
       "      <td>2001.0</td>\n",
       "    </tr>\n",
       "    <tr>\n",
       "      <th>1</th>\n",
       "      <td>b</td>\n",
       "      <td>13</td>\n",
       "      <td>2002.0</td>\n",
       "    </tr>\n",
       "    <tr>\n",
       "      <th>2</th>\n",
       "      <td>c</td>\n",
       "      <td>16</td>\n",
       "      <td>2001.0</td>\n",
       "    </tr>\n",
       "    <tr>\n",
       "      <th>3</th>\n",
       "      <td>d</td>\n",
       "      <td>15</td>\n",
       "      <td>2001.0</td>\n",
       "    </tr>\n",
       "    <tr>\n",
       "      <th>4</th>\n",
       "      <td>e</td>\n",
       "      <td>15</td>\n",
       "      <td>2001.0</td>\n",
       "    </tr>\n",
       "  </tbody>\n",
       "</table>\n",
       "</div>"
      ],
      "text/plain": [
       "  name_copy  score_copy  year_copy\n",
       "0         a          13     2001.0\n",
       "1         b          13     2002.0\n",
       "2         c          16     2001.0\n",
       "3         d          15     2001.0\n",
       "4         e          15     2001.0"
      ]
     },
     "execution_count": 4,
     "metadata": {},
     "output_type": "execute_result"
    }
   ],
   "source": [
    "comparison.head()"
   ]
  },
  {
   "cell_type": "code",
   "execution_count": 5,
   "metadata": {},
   "outputs": [
    {
     "data": {
      "text/plain": [
       "['name', 'score', 'year']"
      ]
     },
     "execution_count": 5,
     "metadata": {},
     "output_type": "execute_result"
    }
   ],
   "source": [
    "base_columns = base.columns.tolist()\n",
    "base_columns"
   ]
  },
  {
   "cell_type": "code",
   "execution_count": 6,
   "metadata": {},
   "outputs": [
    {
     "data": {
      "text/plain": [
       "['name_copy', 'score_copy', 'year_copy']"
      ]
     },
     "execution_count": 6,
     "metadata": {},
     "output_type": "execute_result"
    }
   ],
   "source": [
    "comparison_columns = comparison.columns.tolist()\n",
    "comparison_columns"
   ]
  },
  {
   "cell_type": "markdown",
   "metadata": {},
   "source": [
    "Identifying two possible inputs, one where the source data is indexed, and one where the data is not. e.g datetime stamps or names associated with the values."
   ]
  },
  {
   "cell_type": "markdown",
   "metadata": {},
   "source": [
    "## Method 1: without index labels "
   ]
  },
  {
   "cell_type": "code",
   "execution_count": 7,
   "metadata": {
    "hide_input": false
   },
   "outputs": [
    {
     "data": {
      "text/plain": [
       "'\\nThis method will involve taking a copy of each base column and running it against \\nevery column from the comparison dataset.\\n\\nA counter variable will be created and added up for each column in the comparison dataset and with that, \\ncompute a percentage of values contained in the list\\n\\nThis method should accurately identify which base dataset columns reference which comparison dataset columns,\\nhowever will not give great insight as to which cells are incorrect.\\n'"
      ]
     },
     "execution_count": 7,
     "metadata": {},
     "output_type": "execute_result"
    }
   ],
   "source": [
    "'''\n",
    "This method will involve taking a copy of each base column and running it against \n",
    "every column from the comparison dataset.\n",
    "\n",
    "A counter variable will be created and added up for each column in the comparison dataset and with that, \n",
    "compute a percentage of values contained in the list\n",
    "\n",
    "This method should accurately identify which base dataset columns reference which comparison dataset columns,\n",
    "however will not give great insight as to which cells are incorrect.\n",
    "'''"
   ]
  },
  {
   "cell_type": "markdown",
   "metadata": {},
   "source": [
    "### Assumptions"
   ]
  },
  {
   "cell_type": "code",
   "execution_count": 8,
   "metadata": {},
   "outputs": [
    {
     "data": {
      "text/plain": [
       "'\\nBoth data sets have the same amount of columns\\nValues are numeric\\nAssumes data is NOT the the same order across base and comparison.\\n'"
      ]
     },
     "execution_count": 8,
     "metadata": {},
     "output_type": "execute_result"
    }
   ],
   "source": [
    "'''\n",
    "Both data sets have the same amount of columns\n",
    "Values are numeric\n",
    "Assumes data is NOT the the same order across base and comparison.\n",
    "'''"
   ]
  },
  {
   "cell_type": "code",
   "execution_count": 9,
   "metadata": {},
   "outputs": [],
   "source": [
    "def output_percent_match_from_lists(base_list, comparison_list):\n",
    "\n",
    "    item_count = len(base_list)\n",
    "\n",
    "    containing = 0\n",
    "    \n",
    "    anomolies = {}\n",
    "\n",
    "    for index in range(len(comparison_list)):\n",
    "        item = comparison_list[index]\n",
    "        if item in base_list:\n",
    "            base_list.remove(item)\n",
    "            containing = containing + 1\n",
    "        else:\n",
    "            anomolies[index] = item\n",
    "\n",
    "    contains_percent = containing/item_count *100\n",
    "    \n",
    "    return contains_percent"
   ]
  },
  {
   "cell_type": "markdown",
   "metadata": {},
   "source": [
    "### Testing the output_percent_match_from_lists() function"
   ]
  },
  {
   "cell_type": "code",
   "execution_count": 10,
   "metadata": {},
   "outputs": [
    {
     "data": {
      "text/plain": [
       "90.0"
      ]
     },
     "execution_count": 10,
     "metadata": {},
     "output_type": "execute_result"
    }
   ],
   "source": [
    "list1 = [1,2,3,4,5,6,7,9,8,12]\n",
    "list2 = [1,2,3,4,5,6,7,8,9,10]\n",
    "\n",
    "output_percent_match_from_lists(list1, list2)"
   ]
  },
  {
   "cell_type": "markdown",
   "metadata": {},
   "source": [
    "### Start"
   ]
  },
  {
   "cell_type": "code",
   "execution_count": 11,
   "metadata": {},
   "outputs": [
    {
     "data": {
      "text/plain": [
       "{'name': [], 'score': [], 'year': []}"
      ]
     },
     "execution_count": 11,
     "metadata": {},
     "output_type": "execute_result"
    }
   ],
   "source": [
    "#create a dictionary to hold the scores\n",
    "# the keys will be set to the column names of the base dataset, the value will be set to \n",
    "# a list initially to store each score for each column in the comparison dataset\n",
    "\n",
    "storage = {}\n",
    "for column in base_columns:\n",
    "    storage[column] = []\n",
    "\n",
    "storage"
   ]
  },
  {
   "cell_type": "code",
   "execution_count": 12,
   "metadata": {},
   "outputs": [
    {
     "data": {
      "text/plain": [
       "{'name': [], 'score': [], 'year': []}"
      ]
     },
     "execution_count": 12,
     "metadata": {},
     "output_type": "execute_result"
    }
   ],
   "source": [
    "storage"
   ]
  },
  {
   "cell_type": "code",
   "execution_count": 13,
   "metadata": {},
   "outputs": [
    {
     "data": {
      "text/plain": [
       "3"
      ]
     },
     "execution_count": 13,
     "metadata": {},
     "output_type": "execute_result"
    }
   ],
   "source": [
    "#store number of columns\n",
    "number_columns = len(base_columns)\n",
    "number_columns"
   ]
  },
  {
   "cell_type": "markdown",
   "metadata": {},
   "source": [
    "###  Iterate through every combination of base column and comparison column and print/store the results"
   ]
  },
  {
   "cell_type": "code",
   "execution_count": 14,
   "metadata": {},
   "outputs": [
    {
     "name": "stdout",
     "output_type": "stream",
     "text": [
      "THE SIZE OF BASE SERIES LIST IS:  3\n",
      "BASE COLUMN NAME: name\n",
      "['f', 'f', 'a']\n",
      "COMPARISON COLUMN NAME: name_copy\n",
      "['a', 'b', 'c', 'd', 'e', 'f', 'g', 'h', nan, 'b', 'g', 'h', 'd', 'a', 'd', 'h', 'f', 'h', 'f', 'a']\n",
      "MATCH PERCENT: 85.0 \n",
      "\n",
      "THE SIZE OF BASE SERIES LIST IS:  20\n",
      "BASE COLUMN NAME: name\n",
      "['a', 'b', 'c', 'd', 'e', 'f', 'g', 'h', 'f', 'a', 'g', 'h', 'f', 'a', 'd', 'h', 'f', 'h', 'f', 'a']\n",
      "COMPARISON COLUMN NAME: score_copy\n",
      "[13, 13, 16, 15, 15, 12, 16, 20, 15, 12, 16, 14, 12, 11, 12, 14, 11, 14, 16, 18]\n",
      "MATCH PERCENT: 0.0 \n",
      "\n",
      "THE SIZE OF BASE SERIES LIST IS:  20\n",
      "BASE COLUMN NAME: name\n",
      "['a', 'b', 'c', 'd', 'e', 'f', 'g', 'h', 'f', 'a', 'g', 'h', 'f', 'a', 'd', 'h', 'f', 'h', 'f', 'a']\n",
      "COMPARISON COLUMN NAME: year_copy\n",
      "[2001.0, 2002.0, 2001.0, 2001.0, 2001.0, 2001.0, nan, nan, 2001.0, 2001.0, 2001.0, 2001.0, 2001.0, 2001.0, 2002.0, 2002.0, 2002.0, 2002.0, 2002.0, 2002.0]\n",
      "MATCH PERCENT: 0.0 \n",
      "\n",
      "THE SIZE OF BASE SERIES LIST IS:  20\n",
      "BASE COLUMN NAME: score\n",
      "[13, 13, 16, 15, 17, 12, 16, 20, 15, 14, 16, 14, 12, 11, 13, 15, 11, 14, 16, 18]\n",
      "COMPARISON COLUMN NAME: name_copy\n",
      "['a', 'b', 'c', 'd', 'e', 'f', 'g', 'h', nan, 'b', 'g', 'h', 'd', 'a', 'd', 'h', 'f', 'h', 'f', 'a']\n",
      "MATCH PERCENT: 0.0 \n",
      "\n",
      "THE SIZE OF BASE SERIES LIST IS:  2\n",
      "BASE COLUMN NAME: score\n",
      "[17, 13]\n",
      "COMPARISON COLUMN NAME: score_copy\n",
      "[13, 13, 16, 15, 15, 12, 16, 20, 15, 12, 16, 14, 12, 11, 12, 14, 11, 14, 16, 18]\n",
      "MATCH PERCENT: 90.0 \n",
      "\n",
      "THE SIZE OF BASE SERIES LIST IS:  20\n",
      "BASE COLUMN NAME: score\n",
      "[13, 13, 16, 15, 17, 12, 16, 20, 15, 14, 16, 14, 12, 11, 13, 15, 11, 14, 16, 18]\n",
      "COMPARISON COLUMN NAME: year_copy\n",
      "[2001.0, 2002.0, 2001.0, 2001.0, 2001.0, 2001.0, nan, nan, 2001.0, 2001.0, 2001.0, 2001.0, 2001.0, 2001.0, 2002.0, 2002.0, 2002.0, 2002.0, 2002.0, 2002.0]\n",
      "MATCH PERCENT: 0.0 \n",
      "\n",
      "THE SIZE OF BASE SERIES LIST IS:  20\n",
      "BASE COLUMN NAME: year\n",
      "[2001, 2001, 2001, 2001, 2001, 2001, 2001, 2001, 2001, 2001, 2001, 2001, 2001, 2001, 2002, 2002, 2002, 2002, 2002, 2002]\n",
      "COMPARISON COLUMN NAME: name_copy\n",
      "['a', 'b', 'c', 'd', 'e', 'f', 'g', 'h', nan, 'b', 'g', 'h', 'd', 'a', 'd', 'h', 'f', 'h', 'f', 'a']\n",
      "MATCH PERCENT: 0.0 \n",
      "\n",
      "THE SIZE OF BASE SERIES LIST IS:  20\n",
      "BASE COLUMN NAME: year\n",
      "[2001, 2001, 2001, 2001, 2001, 2001, 2001, 2001, 2001, 2001, 2001, 2001, 2001, 2001, 2002, 2002, 2002, 2002, 2002, 2002]\n",
      "COMPARISON COLUMN NAME: score_copy\n",
      "[13, 13, 16, 15, 15, 12, 16, 20, 15, 12, 16, 14, 12, 11, 12, 14, 11, 14, 16, 18]\n",
      "MATCH PERCENT: 0.0 \n",
      "\n",
      "THE SIZE OF BASE SERIES LIST IS:  3\n",
      "BASE COLUMN NAME: year\n",
      "[2001, 2001, 2001]\n",
      "COMPARISON COLUMN NAME: year_copy\n",
      "[2001.0, 2002.0, 2001.0, 2001.0, 2001.0, 2001.0, nan, nan, 2001.0, 2001.0, 2001.0, 2001.0, 2001.0, 2001.0, 2002.0, 2002.0, 2002.0, 2002.0, 2002.0, 2002.0]\n",
      "MATCH PERCENT: 85.0 \n",
      "\n"
     ]
    }
   ],
   "source": [
    "for base_index in range(len(base_columns)):\n",
    "    \n",
    "    for current_comparison_column in comparison_columns:\n",
    "        \n",
    "        current_base_column = base_columns[base_index]\n",
    "        current_base_series = base[current_base_column]\n",
    "        current_base_series_list = current_base_series.tolist()\n",
    "        comparison_series = comparison[current_comparison_column]\n",
    "        comparison_series_list = comparison_series.tolist()\n",
    "        percent = output_percent_match_from_lists(current_base_series_list, comparison_series_list)\n",
    "        \n",
    "        print(\"THE SIZE OF BASE SERIES LIST IS: \", len(current_base_series_list))\n",
    "        print(\"BASE COLUMN NAME:\", current_base_column)\n",
    "        print(current_base_series_list)\n",
    "        print(\"COMPARISON COLUMN NAME:\", current_comparison_column)\n",
    "        print(comparison_series_list)\n",
    "        print(\"MATCH PERCENT:\", percent,\"\\n\")\n",
    "        \n",
    "        storage[current_base_column].append(percent)"
   ]
  },
  {
   "cell_type": "code",
   "execution_count": 15,
   "metadata": {},
   "outputs": [
    {
     "data": {
      "text/plain": [
       "{'name': [85.0, 0.0, 0.0], 'score': [0.0, 90.0, 0.0], 'year': [0.0, 0.0, 85.0]}"
      ]
     },
     "execution_count": 15,
     "metadata": {},
     "output_type": "execute_result"
    }
   ],
   "source": [
    "storage"
   ]
  },
  {
   "cell_type": "markdown",
   "metadata": {},
   "source": [
    "### A function to return the index and value of a maximum value in a python list"
   ]
  },
  {
   "cell_type": "code",
   "execution_count": 16,
   "metadata": {},
   "outputs": [],
   "source": [
    "def find_maximum_values_index(input_list):\n",
    "    \n",
    "    argument_type = type(input_list)\n",
    "    \n",
    "    if argument_type == list:\n",
    "        \n",
    "        current_top_index = None\n",
    "        current_top_value = None\n",
    "\n",
    "        for index in range(len(input_list)):\n",
    "\n",
    "                value = input_list[index]\n",
    "\n",
    "                if current_top_value is None:\n",
    "                   \n",
    "                    current_top_value = value\n",
    "                    current_top_index = index\n",
    "\n",
    "                elif value > current_top_value:\n",
    "                    \n",
    "                    current_top_index = index\n",
    "                    current_top_value = value\n",
    "\n",
    "        return current_top_index, current_top_value\n",
    "    \n",
    "    else:\n",
    "        print(\"You must pass in a list to find_maximum_values_index() function.\")\n",
    "    \n",
    "    \n",
    "    "
   ]
  },
  {
   "cell_type": "code",
   "execution_count": 17,
   "metadata": {},
   "outputs": [
    {
     "data": {
      "text/plain": [
       "{'name': [85.0, 0.0, 0.0], 'score': [0.0, 90.0, 0.0], 'year': [0.0, 0.0, 85.0]}"
      ]
     },
     "execution_count": 17,
     "metadata": {},
     "output_type": "execute_result"
    }
   ],
   "source": [
    "storage"
   ]
  },
  {
   "cell_type": "code",
   "execution_count": 18,
   "metadata": {},
   "outputs": [],
   "source": [
    "predicted_matches = {}\n",
    "\n",
    "for column_name in base_columns:\n",
    "    \n",
    "    current_list = storage[column_name]\n",
    "    tuple_result = find_maximum_values_index(current_list)\n",
    "    \n",
    "    top_index = tuple_result[0]\n",
    "    top_value = tuple_result[1]\n",
    "    \n",
    "    predicted_matches[column_name] = {\"Match column\" : comparison_columns[top_index],\"Match Percent\" : top_value}"
   ]
  },
  {
   "cell_type": "code",
   "execution_count": 19,
   "metadata": {},
   "outputs": [
    {
     "data": {
      "text/plain": [
       "{'name': {'Match column': 'name_copy', 'Match Percent': 85.0},\n",
       " 'score': {'Match column': 'score_copy', 'Match Percent': 90.0},\n",
       " 'year': {'Match column': 'year_copy', 'Match Percent': 85.0}}"
      ]
     },
     "execution_count": 19,
     "metadata": {},
     "output_type": "execute_result"
    }
   ],
   "source": [
    "predicted_matches"
   ]
  }
 ],
 "metadata": {
  "kernelspec": {
   "display_name": "Python 3",
   "language": "python",
   "name": "python3"
  },
  "language_info": {
   "codemirror_mode": {
    "name": "ipython",
    "version": 3
   },
   "file_extension": ".py",
   "mimetype": "text/x-python",
   "name": "python",
   "nbconvert_exporter": "python",
   "pygments_lexer": "ipython3",
   "version": "3.6.5"
  },
  "toc": {
   "base_numbering": 1.0,
   "nav_menu": {},
   "number_sections": true,
   "sideBar": true,
   "skip_h1_title": true,
   "title_cell": "Table of Contents",
   "title_sidebar": "Contents",
   "toc_cell": false,
   "toc_position": {
    "height": "calc(100% - 180px)",
    "left": "10px",
    "top": "150px",
    "width": "331px"
   },
   "toc_section_display": true,
   "toc_window_display": true
  },
  "varInspector": {
   "cols": {
    "lenName": 16.0,
    "lenType": 16.0,
    "lenVar": 40.0
   },
   "kernels_config": {
    "python": {
     "delete_cmd_postfix": "",
     "delete_cmd_prefix": "del ",
     "library": "var_list.py",
     "varRefreshCmd": "print(var_dic_list())"
    },
    "r": {
     "delete_cmd_postfix": ") ",
     "delete_cmd_prefix": "rm(",
     "library": "var_list.r",
     "varRefreshCmd": "cat(var_dic_list()) "
    }
   },
   "types_to_exclude": [
    "module",
    "function",
    "builtin_function_or_method",
    "instance",
    "_Feature"
   ],
   "window_display": false
  }
 },
 "nbformat": 4,
 "nbformat_minor": 1
}
