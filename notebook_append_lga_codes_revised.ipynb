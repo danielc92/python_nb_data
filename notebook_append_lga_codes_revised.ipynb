{
 "cells": [
  {
   "cell_type": "markdown",
   "metadata": {},
   "source": [
    "# Append LGA Codes\n",
    "\n",
    "- Takes input csv/excel containing dirty local government area names\n",
    "- Appends cleaned lga name, lga code and lga name to copy of data\n",
    "- Data can be exported as csv or excel"
   ]
  },
  {
   "cell_type": "markdown",
   "metadata": {},
   "source": [
    "## Import modules"
   ]
  },
  {
   "cell_type": "code",
   "execution_count": null,
   "metadata": {},
   "outputs": [],
   "source": [
    "import datetime as dt\n",
    "import pandas as pd\n",
    "import numpy as np"
   ]
  },
  {
   "cell_type": "markdown",
   "metadata": {},
   "source": [
    "## Define Functions"
   ]
  },
  {
   "cell_type": "markdown",
   "metadata": {},
   "source": [
    "### Dynamically imports data as csv or excel"
   ]
  },
  {
   "cell_type": "code",
   "execution_count": null,
   "metadata": {},
   "outputs": [],
   "source": [
    "def import_csv_or_excel(filepath=\"\",\n",
    "                        sheet_name=\"Sheet1\",\n",
    "                        data_delimeter=\",\",\n",
    "                        lga_col_name=\"\"):\n",
    "\n",
    "    if \".csv\" in filepath:\n",
    "        data = pd.read_csv(filepath, low_memory=False, error_bad_lines=False, delimiter=data_delimeter)\n",
    "\n",
    "    elif \".xlsx\" in filepath:\n",
    "        # excel_data = pd.ExcelFile(filepath)\n",
    "        # data = pd.concat([excel_data.parse(sheet_name)], axis=1)\n",
    "        data = pd.read_excel(filepath, sheet_name = sheet_name)\n",
    "\n",
    "    else:\n",
    "        print(\"File neither .csv or .xlsx\")\n",
    "\n",
    "    data = data.dropna(how=\"all\", axis=1)\n",
    "\n",
    "    return data\n"
   ]
  },
  {
   "cell_type": "markdown",
   "metadata": {},
   "source": [
    "### Clean data\n",
    "\n",
    "**Operations**\n",
    "- Uppercase.\n",
    "- Strip.\n",
    "- Replace anything which is not A-Z with spaces.\n",
    "- Replace all double spaces with single spaces."
   ]
  },
  {
   "cell_type": "code",
   "execution_count": null,
   "metadata": {},
   "outputs": [],
   "source": [
    "def clean_data(data, dirty_lga_column_name):\n",
    "    \n",
    "    acceptable_chars = \"ABCDEFGHIJKLMNOPQRSTUVWXYZ\"\n",
    "    \n",
    "    # Start iterating through data\n",
    "    \n",
    "    for index in range(data.shape[0]):\n",
    "        \n",
    "        dirty_lga = data.loc[index, dirty_lga_column_name]\n",
    "        dirty_lga_upper = str(dirty_lga).upper()\n",
    "        string = dirty_lga_upper\n",
    "        \n",
    "        for string_index in range(len(string)):\n",
    "            if string[string_index] not in acceptable_chars:\n",
    "                string = string.replace(string[string_index], \" \")\n",
    "        \n",
    "        dirty_lga_upper = string\n",
    "        \n",
    "        # Replace all double spaces with single spaces\n",
    "        \n",
    "        while \"  \" in dirty_lga_upper:\n",
    "            dirty_lga_upper = dirty_lga_upper.replace(\"  \", \" \")\n",
    "\n",
    "        # Strip all of the trailing and leading white space\n",
    "        dirty_lga_upper = dirty_lga_upper.strip()\n",
    "        \n",
    "        data.loc[index, \"cleaned_lga\"] = dirty_lga_upper\n",
    "        \n",
    "    return data"
   ]
  },
  {
   "cell_type": "markdown",
   "metadata": {},
   "source": [
    "### Append codes and names"
   ]
  },
  {
   "cell_type": "code",
   "execution_count": null,
   "metadata": {},
   "outputs": [],
   "source": [
    "def append_codes_and_names(data):\n",
    "\n",
    "    lga_dict = {20110: 'ALPINE'\n",
    "    ,20260: 'ARARAT'\n",
    "    ,20570: 'BALLARAT'\n",
    "    ,20660: 'BANYULE'\n",
    "    ,20740: 'BASS COAST'\n",
    "    ,20830: 'BAW BAW'\n",
    "    ,20910: 'BAYSIDE'\n",
    "    ,21010: 'BENALLA'\n",
    "    ,21110: 'BOROONDARA'\n",
    "    ,21180: 'BRIMBANK'\n",
    "    ,21270: 'BULOKE'\n",
    "    ,21370: 'CAMPASPE'\n",
    "    ,21450: 'CARDINIA'\n",
    "    ,21610: 'CASEY'\n",
    "    ,21670: 'CENTRAL GOLDFIELDS'\n",
    "    ,21750: 'COLAC OTWAY'\n",
    "    ,21830: 'CORANGAMITE'\n",
    "    ,21890: 'DAREBIN'\n",
    "    ,22110: 'EAST GIPPSLAND'\n",
    "    ,22170: 'FRANKSTON'\n",
    "    ,22250: 'GANNAWARRA'\n",
    "    ,22310: 'GLEN EIRA'\n",
    "    ,22410: 'GLENELG'\n",
    "    ,22490: 'GOLDEN PLAINS'\n",
    "    ,22620: 'GREATER BENDIGO'\n",
    "    ,22670: 'GREATER DANDENONG'\n",
    "    ,22750: 'GREATER GEELONG'\n",
    "    ,22830: 'GREATER SHEPPARTON'\n",
    "    ,22910: 'HEPBURN'\n",
    "    ,22980: 'HINDMARSH'\n",
    "    ,23110: 'HOBSONS BAY'\n",
    "    ,23190: 'HORSHAM'\n",
    "    ,23270: 'HUME'\n",
    "    ,23350: 'INDIGO'\n",
    "    ,23430: 'KINGSTON'\n",
    "    ,23670: 'KNOX'\n",
    "    ,23810: 'LATROBE'\n",
    "    ,23940: 'LODDON'\n",
    "    ,24130: 'MACEDON RANGES'\n",
    "    ,24210: 'MANNINGHAM'\n",
    "    ,24250: 'MANSFIELD'\n",
    "    ,24330: 'MARIBYRNONG'\n",
    "    ,24410: 'MAROONDAH'\n",
    "    ,24600: 'MELBOURNE'\n",
    "    ,24650: 'MELTON'\n",
    "    ,24780: 'MILDURA'\n",
    "    ,24850: 'MITCHELL'\n",
    "    ,24900: 'MOIRA'\n",
    "    ,24970: 'MONASH'\n",
    "    ,25060: 'MOONEE VALLEY'\n",
    "    ,25150: 'MOORABOOL'\n",
    "    ,25250: 'MORELAND'\n",
    "    ,25340: 'MORNINGTON PENINSULA'\n",
    "    ,25430: 'MOUNT ALEXANDER'\n",
    "    ,25490: 'MOYNE'\n",
    "    ,25620: 'MURRINDINDI'\n",
    "    ,25710: 'NILLUMBIK'\n",
    "    ,25810: 'NORTHERN GRAMPIANS'\n",
    "    ,25900: 'PORT PHILLIP'\n",
    "    ,25990: 'PYRENEES'\n",
    "    ,26080: 'QUEENSCLIFFE'\n",
    "    ,26170: 'SOUTH GIPPSLAND'\n",
    "    ,26260: 'SOUTHERN GRAMPIANS'\n",
    "    ,26350: 'STONNINGTON'\n",
    "    ,26430: 'STRATHBOGIE'\n",
    "    ,26490: 'SURF COAST'\n",
    "    ,26610: 'SWAN HILL'\n",
    "    ,26670: 'TOWONG'\n",
    "    ,29399: 'UNINCORPORATED VIC'\n",
    "    ,26700: 'WANGARATTA'\n",
    "    ,26730: 'WARRNAMBOOL'\n",
    "    ,26810: 'WELLINGTON'\n",
    "    ,26890: 'WEST WIMMERA'\n",
    "    ,26980: 'WHITEHORSE'\n",
    "    ,27070: 'WHITTLESEA'\n",
    "    ,27170: 'WODONGA'\n",
    "    ,27260: 'WYNDHAM'\n",
    "    ,27450: 'YARRA RANGES'\n",
    "    ,27350: 'YARRA'\n",
    "    ,27630: 'YARRIAMBIACK'\n",
    "    ,29499: 'NO USUAL ADDRESS'\n",
    "    ,29799: 'MIGRATORY OFFSHORE SHIPPING'}\n",
    "\n",
    "    \n",
    "    for index in range(data.shape[0]):\n",
    "        cleaned_lga_name = data.loc[index, \"cleaned_lga\"]\n",
    "        for key in lga_dict.keys():\n",
    "            reference_code = key\n",
    "            reference_name = lga_dict[key]\n",
    "            \n",
    "            if reference_name in cleaned_lga_name:\n",
    "                \n",
    "                data.loc[index, \"script_lga_code\"] = reference_code\n",
    "                data.loc[index, \"script_lga_name\"] = reference_name\n",
    "                \n",
    "                break\n",
    "                \n",
    "    return data"
   ]
  },
  {
   "cell_type": "markdown",
   "metadata": {},
   "source": [
    "## Process and export"
   ]
  },
  {
   "cell_type": "code",
   "execution_count": null,
   "metadata": {},
   "outputs": [],
   "source": [
    "data = import_csv_or_excel(filepath = \"test.xlsx\",sheet_name=\"Data\")\n",
    "data2 = clean_data(data, \"Local Government Area\")\n",
    "data3 = append_codes_and_names(data2)\n",
    "data3"
   ]
  },
  {
   "cell_type": "code",
   "execution_count": null,
   "metadata": {},
   "outputs": [],
   "source": [
    "data3.to_excel(\"/users/danielcorcoran/desktop/new.xlsx\")"
   ]
  },
  {
   "cell_type": "code",
   "execution_count": null,
   "metadata": {},
   "outputs": [],
   "source": []
  }
 ],
 "metadata": {
  "kernelspec": {
   "display_name": "Python 3",
   "language": "python",
   "name": "python3"
  },
  "language_info": {
   "codemirror_mode": {
    "name": "ipython",
    "version": 3
   },
   "file_extension": ".py",
   "mimetype": "text/x-python",
   "name": "python",
   "nbconvert_exporter": "python",
   "pygments_lexer": "ipython3",
   "version": "3.6.5"
  },
  "toc": {
   "base_numbering": 1,
   "nav_menu": {},
   "number_sections": true,
   "sideBar": true,
   "skip_h1_title": false,
   "title_cell": "Table of Contents",
   "title_sidebar": "Contents",
   "toc_cell": false,
   "toc_position": {
    "height": "calc(100% - 180px)",
    "left": "10px",
    "top": "150px",
    "width": "195px"
   },
   "toc_section_display": true,
   "toc_window_display": true
  },
  "varInspector": {
   "cols": {
    "lenName": 16,
    "lenType": 16,
    "lenVar": 40
   },
   "kernels_config": {
    "python": {
     "delete_cmd_postfix": "",
     "delete_cmd_prefix": "del ",
     "library": "var_list.py",
     "varRefreshCmd": "print(var_dic_list())"
    },
    "r": {
     "delete_cmd_postfix": ") ",
     "delete_cmd_prefix": "rm(",
     "library": "var_list.r",
     "varRefreshCmd": "cat(var_dic_list()) "
    }
   },
   "types_to_exclude": [
    "module",
    "function",
    "builtin_function_or_method",
    "instance",
    "_Feature"
   ],
   "window_display": false
  }
 },
 "nbformat": 4,
 "nbformat_minor": 2
}
