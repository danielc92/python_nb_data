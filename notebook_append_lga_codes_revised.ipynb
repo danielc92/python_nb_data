{
 "cells": [
  {
   "cell_type": "markdown",
   "metadata": {},
   "source": [
    "# Append LGA Codes\n",
    "\n",
    "- Takes input csv/excel containing dirty local government area names\n",
    "- Appends cleaned lga name, lga code and lga name to copy of data\n",
    "- Data can be exported as csv or excel"
   ]
  },
  {
   "cell_type": "markdown",
   "metadata": {},
   "source": [
    "## Import modules"
   ]
  },
  {
   "cell_type": "code",
   "execution_count": 1,
   "metadata": {},
   "outputs": [],
   "source": [
    "import datetime as dt\n",
    "import pandas as pd\n",
    "import numpy as np"
   ]
  },
  {
   "cell_type": "markdown",
   "metadata": {},
   "source": [
    "## Define Functions"
   ]
  },
  {
   "cell_type": "markdown",
   "metadata": {},
   "source": [
    "### Dynamically imports data as csv or excel"
   ]
  },
  {
   "cell_type": "code",
   "execution_count": 2,
   "metadata": {},
   "outputs": [],
   "source": [
    "def import_csv_or_excel(filepath=\"\",\n",
    "                        sheet_name=\"Sheet1\",\n",
    "                        data_delimeter=\",\",\n",
    "                        lga_col_name=\"\"):\n",
    "\n",
    "    if \".csv\" in filepath:\n",
    "        data = pd.read_csv(filepath, low_memory=False, error_bad_lines=False, delimiter=data_delimeter)\n",
    "\n",
    "    elif \".xlsx\" in filepath:\n",
    "        # excel_data = pd.ExcelFile(filepath)\n",
    "        # data = pd.concat([excel_data.parse(sheet_name)], axis=1)\n",
    "        data = pd.read_excel(filepath, sheet_name = sheet_name)\n",
    "\n",
    "    else:\n",
    "        print(\"File neither .csv or .xlsx\")\n",
    "\n",
    "    data = data.dropna(how=\"all\", axis=1)\n",
    "\n",
    "    return data\n"
   ]
  },
  {
   "cell_type": "markdown",
   "metadata": {},
   "source": [
    "### Clean data\n",
    "\n",
    "**Operations**\n",
    "- Uppercase.\n",
    "- Strip.\n",
    "- Replace anything which is not A-Z with spaces.\n",
    "- Replace all double spaces with single spaces."
   ]
  },
  {
   "cell_type": "code",
   "execution_count": 3,
   "metadata": {},
   "outputs": [],
   "source": [
    "def clean_data(data, dirty_lga_column_name):\n",
    "    \n",
    "    acceptable_chars = \"ABCDEFGHIJKLMNOPQRSTUVWXYZ\"\n",
    "    \n",
    "    # Start iterating through data\n",
    "    \n",
    "    for index in range(data.shape[0]):\n",
    "        \n",
    "        dirty_lga = data.loc[index, dirty_lga_column_name]\n",
    "        dirty_lga_upper = str(dirty_lga).upper()\n",
    "        string = dirty_lga_upper\n",
    "        \n",
    "        for string_index in range(len(string)):\n",
    "            if string[string_index] not in acceptable_chars:\n",
    "                string = string.replace(string[string_index], \" \")\n",
    "        \n",
    "        dirty_lga_upper = string\n",
    "        \n",
    "        # Replace all double spaces with single spaces\n",
    "        \n",
    "        while \"  \" in dirty_lga_upper:\n",
    "            dirty_lga_upper = dirty_lga_upper.replace(\"  \", \" \")\n",
    "\n",
    "        # Strip all of the trailing and leading white space\n",
    "        dirty_lga_upper = dirty_lga_upper.strip()\n",
    "        \n",
    "        data.loc[index, \"cleaned_lga\"] = dirty_lga_upper\n",
    "        \n",
    "    return data"
   ]
  },
  {
   "cell_type": "markdown",
   "metadata": {},
   "source": [
    "### Append codes and names"
   ]
  },
  {
   "cell_type": "code",
   "execution_count": 4,
   "metadata": {},
   "outputs": [],
   "source": [
    "def append_codes_and_names(data):\n",
    "\n",
    "    lga_dict = {20110: ('ALPINE','Alpine (S)')\n",
    "    ,20260: ('ARARAT', 'Ararat (RC)')\n",
    "    ,20570: ('BALLARAT', 'Ballarat (C)')\n",
    "    ,20660: ('BANYULE', 'Banyule (C)')\n",
    "    ,20740: ('BASS COAST','Bass Coast (S)')\n",
    "    ,20830: ('BAW BAW', 'Baw Baw (S)')\n",
    "    ,20910: ('BAYSIDE', 'Bayside (C)')\n",
    "    ,21010: ('BENALLA', 'Benalla (RC)')\n",
    "    ,21110: ('BOROONDARA', 'Boroondara (C)')\n",
    "    ,21180: ('BRIMBANK', 'Brimbank (C)')\n",
    "    ,21270: ('BULOKE', 'Buloke (S)')\n",
    "    ,21370: ('CAMPASPE', 'Campaspe (S)')\n",
    "    ,21450: ('CARDINIA', 'Cardinia (S)')\n",
    "    ,21610: ('CASEY', 'Casey (C)')\n",
    "    ,21670: ('CENTRAL GOLDFIELDS', 'Central Goldfields (S)')\n",
    "    ,21750: ('COLAC OTWAY', 'Colac-Otway (S)')\n",
    "    ,21830: ('CORANGAMITE', 'Corangamite (S)')\n",
    "    ,21890: ('DAREBIN', 'Darebin (C)')\n",
    "    ,22110: ('EAST GIPPSLAND', 'East Gippsland (S)')\n",
    "    ,22170: ('FRANKSTON', 'Frankston (C)')\n",
    "    ,22250: ('GANNAWARRA', 'Gannawarra (S)')\n",
    "    ,22310: ('GLEN EIRA', 'Glen Eira (C)')\n",
    "    ,22410: ('GLENELG', 'Glenelg (S)')\n",
    "    ,22490: ('GOLDEN PLAINS', 'Golden Plains (S)')\n",
    "    ,22620: ('GREATER BENDIGO', 'Greater Bendigo (C)')\n",
    "    ,22670: ('GREATER DANDENONG', 'Greater Dandenong (C)')\n",
    "    ,22750: ('GREATER GEELONG', 'Greater Geelong (C)')\n",
    "    ,22830: ('GREATER SHEPPARTON', 'Greater Shepparton (C)')\n",
    "    ,22910: ('HEPBURN', 'Hepburn (S)')\n",
    "    ,22980: ('HINDMARSH', 'Hindmarsh (S)')\n",
    "    ,23110: ('HOBSONS BAY', 'Hobsons Bay (C)')\n",
    "    ,23190: ('HORSHAM', 'Horsham (RC)')\n",
    "    ,23270: ('HUME', 'Hume (C)')\n",
    "    ,23350: ('INDIGO', 'Indigo (S)')\n",
    "    ,23430: ('KINGSTON', 'Kingston (C)(Vic.)')\n",
    "    ,23670: ('KNOX', 'Knox (C)')\n",
    "    ,23810: ('LATROBE', 'Latrobe (C)(Vic.)')\n",
    "    ,23940: ('LODDON', 'Loddon (S)')\n",
    "    ,24130: ('MACEDON RANGES', 'Macedon Ranges (S)')\n",
    "    ,24210: ('MANNINGHAM', 'Manningham (C')\n",
    "    ,24250: ('MANSFIELD', 'Mansfield (S)')\n",
    "    ,24330: ('MARIBYRNONG', 'Maribyrnong (C)')\n",
    "    ,24410: ('MAROONDAH', 'Maroondah (C)')\n",
    "    ,24600: ('MELBOURNE', 'Melbourne (C)')\n",
    "    ,24650: ('MELTON', 'Melton (C)')\n",
    "    ,24780: ('MILDURA', 'Mildura (RC)')\n",
    "    ,24850: ('MITCHELL', 'Mitchell (S)')\n",
    "    ,24900: ('MOIRA', 'Moira (S)')\n",
    "    ,24970: ('MONASH', 'Monash (C)')\n",
    "    ,25060: ('MOONEE VALLEY', 'Moonee Valley (C)')\n",
    "    ,25150: ('MOORABOOL', 'Moorabool (S)')\n",
    "    ,25250: ('MORELAND', 'Moreland (C)')\n",
    "    ,25340: ('MORNINGTON PENINSULA', 'Mornington Peninsula (S)')\n",
    "    ,25430: ('MOUNT ALEXANDER', 'Mount Alexander (S)')\n",
    "    ,25490: ('MOYNE', 'Moyne (S)')\n",
    "    ,25620: ('MURRINDINDI', 'Murrindindi (S)')\n",
    "    ,25710: ('NILLUMBIK', 'Nillumbik (S)')\n",
    "    ,25810: ('NORTHERN GRAMPIANS', 'Northern Grampians (S)')\n",
    "    ,25900: ('PORT PHILLIP', 'Port Phillip (C)')\n",
    "    ,25990: ('PYRENEES', 'Pyrenees (S)')\n",
    "    ,26080: ('QUEENSCLIFFE', 'Queenscliffe (B)')\n",
    "    ,26170: ('SOUTH GIPPSLAND', 'South Gippsland (S)')\n",
    "    ,26260: ('SOUTHERN GRAMPIANS', 'Southern Grampians (S)')\n",
    "    ,26350: ('STONNINGTON', 'Stonnington (C)')\n",
    "    ,26430: ('STRATHBOGIE', 'Strathbogie (S)')\n",
    "    ,26490: ('SURF COAST', 'Surf Coast (S)')\n",
    "    ,26610: ('SWAN HILL', 'Swan Hill (RC)')\n",
    "    ,26670: ('TOWONG', 'Towong (S)')\n",
    "    ,29399: ('UNINCORPORATED VIC', 'Unincorporated Vic')\n",
    "    ,26700: ('WANGARATTA', 'Wangaratta (RC)')\n",
    "    ,26730: ('WARRNAMBOOL', 'Warrnambool (C)')\n",
    "    ,26810: ('WELLINGTON', 'Wellington (S)')\n",
    "    ,26890: ('WEST WIMMERA', 'West Wimmera (S)')\n",
    "    ,26980: ('WHITEHORSE', 'Whitehorse (C)')\n",
    "    ,27070: ('WHITTLESEA', 'Whittlesea (C)')\n",
    "    ,27170: ('WODONGA', 'Wodonga (C)')\n",
    "    ,27260: ('WYNDHAM', 'Wyndham (C)')\n",
    "    ,27450: ('YARRA RANGES', 'Yarra Ranges (S)')\n",
    "    ,27350: ('YARRA', 'Yarra (C)')\n",
    "    ,27630: ('YARRIAMBIACK', 'Yarriambiack (S)')\n",
    "    ,29499: ('NO USUAL ADDRESS', 'No usual address (Vic.)')\n",
    "    ,29799: ('MIGRATORY OFFSHORE SHIPPING', 'Migratory - Offshore - Shipping (Vic.)')}\n",
    "\n",
    "    \n",
    "    for index in range(data.shape[0]):\n",
    "        cleaned_lga_name = data.loc[index, \"cleaned_lga\"]\n",
    "        for key in lga_dict.keys():\n",
    "            reference_code = key\n",
    "            reference_name = lga_dict[key][0]\n",
    "            lga_abs_name = lga_dict[key][1]\n",
    "            \n",
    "            if reference_name in cleaned_lga_name:\n",
    "                \n",
    "                data.loc[index, \"script_lga_code\"] = reference_code\n",
    "                data.loc[index, \"script_lga_name\"] = lga_abs_name\n",
    "                \n",
    "                break\n",
    "                \n",
    "    return data"
   ]
  },
  {
   "cell_type": "code",
   "execution_count": 10,
   "metadata": {},
   "outputs": [
    {
     "data": {
      "text/plain": [
       "81"
      ]
     },
     "execution_count": 10,
     "metadata": {},
     "output_type": "execute_result"
    }
   ],
   "source": [
    "len(lga_dict.keys())"
   ]
  },
  {
   "cell_type": "markdown",
   "metadata": {},
   "source": [
    "## Process and export"
   ]
  },
  {
   "cell_type": "code",
   "execution_count": 5,
   "metadata": {},
   "outputs": [
    {
     "data": {
      "text/html": [
       "<div>\n",
       "<style scoped>\n",
       "    .dataframe tbody tr th:only-of-type {\n",
       "        vertical-align: middle;\n",
       "    }\n",
       "\n",
       "    .dataframe tbody tr th {\n",
       "        vertical-align: top;\n",
       "    }\n",
       "\n",
       "    .dataframe thead th {\n",
       "        text-align: right;\n",
       "    }\n",
       "</style>\n",
       "<table border=\"1\" class=\"dataframe\">\n",
       "  <thead>\n",
       "    <tr style=\"text-align: right;\">\n",
       "      <th></th>\n",
       "      <th>dirty</th>\n",
       "      <th>cleaned_lga</th>\n",
       "      <th>script_lga_code</th>\n",
       "      <th>script_lga_name</th>\n",
       "    </tr>\n",
       "  </thead>\n",
       "  <tbody>\n",
       "    <tr>\n",
       "      <th>0</th>\n",
       "      <td>banYule</td>\n",
       "      <td>BANYULE</td>\n",
       "      <td>20660.0</td>\n",
       "      <td>Banyule (C)</td>\n",
       "    </tr>\n",
       "    <tr>\n",
       "      <th>1</th>\n",
       "      <td>bass coast</td>\n",
       "      <td>BASS COAST</td>\n",
       "      <td>20740.0</td>\n",
       "      <td>Baw Baw (S)</td>\n",
       "    </tr>\n",
       "    <tr>\n",
       "      <th>2</th>\n",
       "      <td>Yarra</td>\n",
       "      <td>YARRA</td>\n",
       "      <td>27350.0</td>\n",
       "      <td>Yarra (C)</td>\n",
       "    </tr>\n",
       "  </tbody>\n",
       "</table>\n",
       "</div>"
      ],
      "text/plain": [
       "        dirty cleaned_lga  script_lga_code script_lga_name\n",
       "0     banYule     BANYULE          20660.0     Banyule (C)\n",
       "1  bass coast  BASS COAST          20740.0     Baw Baw (S)\n",
       "2       Yarra       YARRA          27350.0       Yarra (C)"
      ]
     },
     "execution_count": 5,
     "metadata": {},
     "output_type": "execute_result"
    }
   ],
   "source": [
    "data = import_csv_or_excel(filepath = \"/users/danielcorcoran/desktop/lga.xlsx\",sheet_name=\"Sheet1\")\n",
    "data2 = clean_data(data, \"dirty\")\n",
    "data3 = append_codes_and_names(data2)\n",
    "data3"
   ]
  },
  {
   "cell_type": "code",
   "execution_count": 6,
   "metadata": {},
   "outputs": [],
   "source": [
    "data3.to_excel(\"/users/danielcorcoran/desktop/clean.xlsx\", index_label = \"row_index\", index = True)"
   ]
  },
  {
   "cell_type": "code",
   "execution_count": null,
   "metadata": {},
   "outputs": [],
   "source": []
  }
 ],
 "metadata": {
  "kernelspec": {
   "display_name": "Python 3",
   "language": "python",
   "name": "python3"
  },
  "language_info": {
   "codemirror_mode": {
    "name": "ipython",
    "version": 3
   },
   "file_extension": ".py",
   "mimetype": "text/x-python",
   "name": "python",
   "nbconvert_exporter": "python",
   "pygments_lexer": "ipython3",
   "version": "3.6.5"
  },
  "toc": {
   "base_numbering": 1,
   "nav_menu": {},
   "number_sections": true,
   "sideBar": true,
   "skip_h1_title": false,
   "title_cell": "Table of Contents",
   "title_sidebar": "Contents",
   "toc_cell": false,
   "toc_position": {
    "height": "calc(100% - 180px)",
    "left": "10px",
    "top": "150px",
    "width": "229px"
   },
   "toc_section_display": true,
   "toc_window_display": true
  },
  "varInspector": {
   "cols": {
    "lenName": 16,
    "lenType": 16,
    "lenVar": 40
   },
   "kernels_config": {
    "python": {
     "delete_cmd_postfix": "",
     "delete_cmd_prefix": "del ",
     "library": "var_list.py",
     "varRefreshCmd": "print(var_dic_list())"
    },
    "r": {
     "delete_cmd_postfix": ") ",
     "delete_cmd_prefix": "rm(",
     "library": "var_list.r",
     "varRefreshCmd": "cat(var_dic_list()) "
    }
   },
   "types_to_exclude": [
    "module",
    "function",
    "builtin_function_or_method",
    "instance",
    "_Feature"
   ],
   "window_display": false
  }
 },
 "nbformat": 4,
 "nbformat_minor": 2
}
