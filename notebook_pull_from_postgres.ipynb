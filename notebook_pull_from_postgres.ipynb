{
 "cells": [
  {
   "cell_type": "markdown",
   "metadata": {},
   "source": [
    "# Reading and inserting data from postgresql using python"
   ]
  },
  {
   "cell_type": "markdown",
   "metadata": {},
   "source": [
    "### Import modules"
   ]
  },
  {
   "cell_type": "code",
   "execution_count": 1,
   "metadata": {},
   "outputs": [
    {
     "name": "stderr",
     "output_type": "stream",
     "text": [
      "/Library/Frameworks/Python.framework/Versions/3.6/lib/python3.6/site-packages/psycopg2/__init__.py:144: UserWarning: The psycopg2 wheel package will be renamed from release 2.8; in order to keep installing from binary please use \"pip install psycopg2-binary\" instead. For details see: <http://initd.org/psycopg/docs/install.html#binary-install-from-pypi>.\n",
      "  \"\"\")\n"
     ]
    }
   ],
   "source": [
    "import psycopg2\n",
    "\n",
    "import pandas"
   ]
  },
  {
   "cell_type": "markdown",
   "metadata": {},
   "source": [
    "## Pulling into pandas dataframe from postgres table"
   ]
  },
  {
   "cell_type": "markdown",
   "metadata": {},
   "source": [
    "### Create connection to database"
   ]
  },
  {
   "cell_type": "code",
   "execution_count": 2,
   "metadata": {},
   "outputs": [],
   "source": [
    "connection = psycopg2.connect(\"host=localhost dbname=test_db user=danielcorcoran\")"
   ]
  },
  {
   "cell_type": "markdown",
   "metadata": {},
   "source": [
    "### Create cursor object"
   ]
  },
  {
   "cell_type": "code",
   "execution_count": 3,
   "metadata": {},
   "outputs": [],
   "source": [
    "cursor = connection.cursor()"
   ]
  },
  {
   "cell_type": "markdown",
   "metadata": {},
   "source": [
    "### `execute()` method can pull data from database"
   ]
  },
  {
   "cell_type": "code",
   "execution_count": 4,
   "metadata": {},
   "outputs": [],
   "source": [
    "cursor.execute(\"SELECT * FROM persons WHERE id > 5\")"
   ]
  },
  {
   "cell_type": "code",
   "execution_count": 5,
   "metadata": {},
   "outputs": [],
   "source": [
    "all_records = cursor.fetchall()"
   ]
  },
  {
   "cell_type": "markdown",
   "metadata": {},
   "source": [
    "### Store metadata"
   ]
  },
  {
   "cell_type": "code",
   "execution_count": 6,
   "metadata": {},
   "outputs": [],
   "source": [
    "columns = []\n",
    "\n",
    "for item in cursor.description:\n",
    "    name = item.name\n",
    "    columns.append(name)"
   ]
  },
  {
   "cell_type": "markdown",
   "metadata": {},
   "source": [
    "### Move data into pandas dataframe"
   ]
  },
  {
   "cell_type": "code",
   "execution_count": 7,
   "metadata": {},
   "outputs": [],
   "source": [
    "data = pandas.DataFrame(all_records)"
   ]
  },
  {
   "cell_type": "code",
   "execution_count": 8,
   "metadata": {},
   "outputs": [
    {
     "data": {
      "text/html": [
       "<div>\n",
       "<style scoped>\n",
       "    .dataframe tbody tr th:only-of-type {\n",
       "        vertical-align: middle;\n",
       "    }\n",
       "\n",
       "    .dataframe tbody tr th {\n",
       "        vertical-align: top;\n",
       "    }\n",
       "\n",
       "    .dataframe thead th {\n",
       "        text-align: right;\n",
       "    }\n",
       "</style>\n",
       "<table border=\"1\" class=\"dataframe\">\n",
       "  <thead>\n",
       "    <tr style=\"text-align: right;\">\n",
       "      <th></th>\n",
       "      <th>0</th>\n",
       "      <th>1</th>\n",
       "    </tr>\n",
       "  </thead>\n",
       "  <tbody>\n",
       "    <tr>\n",
       "      <th>0</th>\n",
       "      <td>34.0</td>\n",
       "      <td>jimmy fred</td>\n",
       "    </tr>\n",
       "    <tr>\n",
       "      <th>1</th>\n",
       "      <td>45.0</td>\n",
       "      <td>tommy grouch</td>\n",
       "    </tr>\n",
       "    <tr>\n",
       "      <th>2</th>\n",
       "      <td>23.0</td>\n",
       "      <td>jane doe</td>\n",
       "    </tr>\n",
       "    <tr>\n",
       "      <th>3</th>\n",
       "      <td>65.0</td>\n",
       "      <td>michael haspen</td>\n",
       "    </tr>\n",
       "    <tr>\n",
       "      <th>4</th>\n",
       "      <td>34.0</td>\n",
       "      <td>jimmy fred</td>\n",
       "    </tr>\n",
       "    <tr>\n",
       "      <th>5</th>\n",
       "      <td>45.0</td>\n",
       "      <td>tommy grouch</td>\n",
       "    </tr>\n",
       "    <tr>\n",
       "      <th>6</th>\n",
       "      <td>23.0</td>\n",
       "      <td>jane doe</td>\n",
       "    </tr>\n",
       "    <tr>\n",
       "      <th>7</th>\n",
       "      <td>65.0</td>\n",
       "      <td>michael haspen</td>\n",
       "    </tr>\n",
       "    <tr>\n",
       "      <th>8</th>\n",
       "      <td>34.0</td>\n",
       "      <td>jimmy fred</td>\n",
       "    </tr>\n",
       "    <tr>\n",
       "      <th>9</th>\n",
       "      <td>45.0</td>\n",
       "      <td>tommy grouch</td>\n",
       "    </tr>\n",
       "    <tr>\n",
       "      <th>10</th>\n",
       "      <td>23.0</td>\n",
       "      <td>jane doe</td>\n",
       "    </tr>\n",
       "    <tr>\n",
       "      <th>11</th>\n",
       "      <td>65.0</td>\n",
       "      <td>michael haspen</td>\n",
       "    </tr>\n",
       "    <tr>\n",
       "      <th>12</th>\n",
       "      <td>34.0</td>\n",
       "      <td>jimmy fred</td>\n",
       "    </tr>\n",
       "    <tr>\n",
       "      <th>13</th>\n",
       "      <td>45.0</td>\n",
       "      <td>tommy grouch</td>\n",
       "    </tr>\n",
       "    <tr>\n",
       "      <th>14</th>\n",
       "      <td>23.0</td>\n",
       "      <td>jane doe</td>\n",
       "    </tr>\n",
       "    <tr>\n",
       "      <th>15</th>\n",
       "      <td>65.0</td>\n",
       "      <td>michael haspen</td>\n",
       "    </tr>\n",
       "  </tbody>\n",
       "</table>\n",
       "</div>"
      ],
      "text/plain": [
       "       0               1\n",
       "0   34.0      jimmy fred\n",
       "1   45.0    tommy grouch\n",
       "2   23.0        jane doe\n",
       "3   65.0  michael haspen\n",
       "4   34.0      jimmy fred\n",
       "5   45.0    tommy grouch\n",
       "6   23.0        jane doe\n",
       "7   65.0  michael haspen\n",
       "8   34.0      jimmy fred\n",
       "9   45.0    tommy grouch\n",
       "10  23.0        jane doe\n",
       "11  65.0  michael haspen\n",
       "12  34.0      jimmy fred\n",
       "13  45.0    tommy grouch\n",
       "14  23.0        jane doe\n",
       "15  65.0  michael haspen"
      ]
     },
     "execution_count": 8,
     "metadata": {},
     "output_type": "execute_result"
    }
   ],
   "source": [
    "data"
   ]
  },
  {
   "cell_type": "markdown",
   "metadata": {},
   "source": [
    "### Rename columns"
   ]
  },
  {
   "cell_type": "code",
   "execution_count": 9,
   "metadata": {},
   "outputs": [],
   "source": [
    "data.columns = columns"
   ]
  },
  {
   "cell_type": "code",
   "execution_count": 10,
   "metadata": {},
   "outputs": [
    {
     "data": {
      "text/html": [
       "<div>\n",
       "<style scoped>\n",
       "    .dataframe tbody tr th:only-of-type {\n",
       "        vertical-align: middle;\n",
       "    }\n",
       "\n",
       "    .dataframe tbody tr th {\n",
       "        vertical-align: top;\n",
       "    }\n",
       "\n",
       "    .dataframe thead th {\n",
       "        text-align: right;\n",
       "    }\n",
       "</style>\n",
       "<table border=\"1\" class=\"dataframe\">\n",
       "  <thead>\n",
       "    <tr style=\"text-align: right;\">\n",
       "      <th></th>\n",
       "      <th>id</th>\n",
       "      <th>name</th>\n",
       "    </tr>\n",
       "  </thead>\n",
       "  <tbody>\n",
       "    <tr>\n",
       "      <th>0</th>\n",
       "      <td>34.0</td>\n",
       "      <td>jimmy fred</td>\n",
       "    </tr>\n",
       "    <tr>\n",
       "      <th>1</th>\n",
       "      <td>45.0</td>\n",
       "      <td>tommy grouch</td>\n",
       "    </tr>\n",
       "    <tr>\n",
       "      <th>2</th>\n",
       "      <td>23.0</td>\n",
       "      <td>jane doe</td>\n",
       "    </tr>\n",
       "    <tr>\n",
       "      <th>3</th>\n",
       "      <td>65.0</td>\n",
       "      <td>michael haspen</td>\n",
       "    </tr>\n",
       "    <tr>\n",
       "      <th>4</th>\n",
       "      <td>34.0</td>\n",
       "      <td>jimmy fred</td>\n",
       "    </tr>\n",
       "    <tr>\n",
       "      <th>5</th>\n",
       "      <td>45.0</td>\n",
       "      <td>tommy grouch</td>\n",
       "    </tr>\n",
       "    <tr>\n",
       "      <th>6</th>\n",
       "      <td>23.0</td>\n",
       "      <td>jane doe</td>\n",
       "    </tr>\n",
       "    <tr>\n",
       "      <th>7</th>\n",
       "      <td>65.0</td>\n",
       "      <td>michael haspen</td>\n",
       "    </tr>\n",
       "    <tr>\n",
       "      <th>8</th>\n",
       "      <td>34.0</td>\n",
       "      <td>jimmy fred</td>\n",
       "    </tr>\n",
       "    <tr>\n",
       "      <th>9</th>\n",
       "      <td>45.0</td>\n",
       "      <td>tommy grouch</td>\n",
       "    </tr>\n",
       "    <tr>\n",
       "      <th>10</th>\n",
       "      <td>23.0</td>\n",
       "      <td>jane doe</td>\n",
       "    </tr>\n",
       "    <tr>\n",
       "      <th>11</th>\n",
       "      <td>65.0</td>\n",
       "      <td>michael haspen</td>\n",
       "    </tr>\n",
       "    <tr>\n",
       "      <th>12</th>\n",
       "      <td>34.0</td>\n",
       "      <td>jimmy fred</td>\n",
       "    </tr>\n",
       "    <tr>\n",
       "      <th>13</th>\n",
       "      <td>45.0</td>\n",
       "      <td>tommy grouch</td>\n",
       "    </tr>\n",
       "    <tr>\n",
       "      <th>14</th>\n",
       "      <td>23.0</td>\n",
       "      <td>jane doe</td>\n",
       "    </tr>\n",
       "    <tr>\n",
       "      <th>15</th>\n",
       "      <td>65.0</td>\n",
       "      <td>michael haspen</td>\n",
       "    </tr>\n",
       "  </tbody>\n",
       "</table>\n",
       "</div>"
      ],
      "text/plain": [
       "      id            name\n",
       "0   34.0      jimmy fred\n",
       "1   45.0    tommy grouch\n",
       "2   23.0        jane doe\n",
       "3   65.0  michael haspen\n",
       "4   34.0      jimmy fred\n",
       "5   45.0    tommy grouch\n",
       "6   23.0        jane doe\n",
       "7   65.0  michael haspen\n",
       "8   34.0      jimmy fred\n",
       "9   45.0    tommy grouch\n",
       "10  23.0        jane doe\n",
       "11  65.0  michael haspen\n",
       "12  34.0      jimmy fred\n",
       "13  45.0    tommy grouch\n",
       "14  23.0        jane doe\n",
       "15  65.0  michael haspen"
      ]
     },
     "execution_count": 10,
     "metadata": {},
     "output_type": "execute_result"
    }
   ],
   "source": [
    "data"
   ]
  },
  {
   "cell_type": "markdown",
   "metadata": {},
   "source": [
    "## Inserting, from pandas dataframe to postgres table"
   ]
  },
  {
   "cell_type": "markdown",
   "metadata": {},
   "source": [
    "### Create connection to database"
   ]
  },
  {
   "cell_type": "code",
   "execution_count": 11,
   "metadata": {},
   "outputs": [],
   "source": [
    "connection = psycopg2.connect(\"host=localhost dbname=test_db user=postgres\")"
   ]
  },
  {
   "cell_type": "markdown",
   "metadata": {},
   "source": [
    "### Create cursor object"
   ]
  },
  {
   "cell_type": "code",
   "execution_count": 12,
   "metadata": {},
   "outputs": [],
   "source": [
    "cursor = connection.cursor()"
   ]
  },
  {
   "cell_type": "markdown",
   "metadata": {},
   "source": [
    "### Go through pandas dataframe and insert values into postgres"
   ]
  },
  {
   "cell_type": "code",
   "execution_count": 13,
   "metadata": {},
   "outputs": [
    {
     "name": "stdout",
     "output_type": "stream",
     "text": [
      "INSERT INTO persons VALUES (34.0, 'jimmy fred')\n",
      "INSERT INTO persons VALUES (45.0, 'tommy grouch')\n",
      "INSERT INTO persons VALUES (23.0, 'jane doe')\n",
      "INSERT INTO persons VALUES (65.0, 'michael haspen')\n",
      "INSERT INTO persons VALUES (34.0, 'jimmy fred')\n",
      "INSERT INTO persons VALUES (45.0, 'tommy grouch')\n",
      "INSERT INTO persons VALUES (23.0, 'jane doe')\n",
      "INSERT INTO persons VALUES (65.0, 'michael haspen')\n",
      "INSERT INTO persons VALUES (34.0, 'jimmy fred')\n",
      "INSERT INTO persons VALUES (45.0, 'tommy grouch')\n",
      "INSERT INTO persons VALUES (23.0, 'jane doe')\n",
      "INSERT INTO persons VALUES (65.0, 'michael haspen')\n",
      "INSERT INTO persons VALUES (34.0, 'jimmy fred')\n",
      "INSERT INTO persons VALUES (45.0, 'tommy grouch')\n",
      "INSERT INTO persons VALUES (23.0, 'jane doe')\n",
      "INSERT INTO persons VALUES (65.0, 'michael haspen')\n"
     ]
    }
   ],
   "source": [
    "table_name = \"persons\"\n",
    "\n",
    "for index in range(data.shape[0]):\n",
    "    \n",
    "    id_value = data.loc[index, \"id\"]\n",
    "    name_value = data.loc[index, \"name\"]\n",
    "    sql_string = \"INSERT INTO {} VALUES ({}, '{}')\".format(table_name,\n",
    "                                                       id_value,\n",
    "                                                       name_value)\n",
    "    print(sql_string)\n",
    "    cursor.execute(sql_string)"
   ]
  },
  {
   "cell_type": "markdown",
   "metadata": {},
   "source": [
    "### Commit connection to confirm changes in postgres"
   ]
  },
  {
   "cell_type": "code",
   "execution_count": 14,
   "metadata": {},
   "outputs": [],
   "source": [
    "connection.commit()"
   ]
  },
  {
   "cell_type": "markdown",
   "metadata": {},
   "source": [
    "### Close connection and cursor"
   ]
  },
  {
   "cell_type": "code",
   "execution_count": 15,
   "metadata": {},
   "outputs": [],
   "source": [
    "cursor.close()"
   ]
  },
  {
   "cell_type": "code",
   "execution_count": 16,
   "metadata": {},
   "outputs": [],
   "source": [
    "connection.close()"
   ]
  },
  {
   "cell_type": "markdown",
   "metadata": {},
   "source": [
    "## Testing Insert Speeds"
   ]
  },
  {
   "cell_type": "markdown",
   "metadata": {},
   "source": [
    "### Create test table"
   ]
  },
  {
   "cell_type": "code",
   "execution_count": 17,
   "metadata": {},
   "outputs": [],
   "source": [
    "connection = psycopg2.connect(\"host=localhost dbname=test_db user=postgres\")"
   ]
  },
  {
   "cell_type": "code",
   "execution_count": 18,
   "metadata": {},
   "outputs": [],
   "source": [
    "cursor = connection.cursor()"
   ]
  },
  {
   "cell_type": "code",
   "execution_count": 19,
   "metadata": {},
   "outputs": [],
   "source": [
    "cursor.execute(\"\"\"CREATE TABLE numbers(\n",
    "              column1 FLOAT8,\n",
    "              column2 FLOAT8,\n",
    "              column3 FLOAT8,\n",
    "              column4 FLOAT8,\n",
    "              column5 FLOAT8)\n",
    "              \"\"\")"
   ]
  },
  {
   "cell_type": "code",
   "execution_count": 20,
   "metadata": {},
   "outputs": [],
   "source": [
    "connection.commit()"
   ]
  },
  {
   "cell_type": "markdown",
   "metadata": {},
   "source": [
    "### Create test data 1million records by 5 columns"
   ]
  },
  {
   "cell_type": "code",
   "execution_count": 21,
   "metadata": {},
   "outputs": [],
   "source": [
    "import numpy; import pandas"
   ]
  },
  {
   "cell_type": "code",
   "execution_count": 22,
   "metadata": {},
   "outputs": [],
   "source": [
    "randomdata = numpy.random.random((1000000,5))"
   ]
  },
  {
   "cell_type": "code",
   "execution_count": 23,
   "metadata": {},
   "outputs": [],
   "source": [
    "data = pandas.DataFrame(randomdata)"
   ]
  },
  {
   "cell_type": "code",
   "execution_count": 24,
   "metadata": {},
   "outputs": [
    {
     "name": "stdout",
     "output_type": "stream",
     "text": [
      "<class 'pandas.core.frame.DataFrame'>\n",
      "RangeIndex: 1000000 entries, 0 to 999999\n",
      "Data columns (total 5 columns):\n",
      "0    1000000 non-null float64\n",
      "1    1000000 non-null float64\n",
      "2    1000000 non-null float64\n",
      "3    1000000 non-null float64\n",
      "4    1000000 non-null float64\n",
      "dtypes: float64(5)\n",
      "memory usage: 38.1 MB\n"
     ]
    }
   ],
   "source": [
    "data.info()\n"
   ]
  },
  {
   "cell_type": "code",
   "execution_count": 25,
   "metadata": {},
   "outputs": [],
   "source": [
    "data.columns = [\"column1\", \"column2\",\n",
    "               \"column3\", \"column4\",\n",
    "               \"column5\"]"
   ]
  },
  {
   "cell_type": "code",
   "execution_count": 26,
   "metadata": {},
   "outputs": [
    {
     "data": {
      "text/html": [
       "<div>\n",
       "<style scoped>\n",
       "    .dataframe tbody tr th:only-of-type {\n",
       "        vertical-align: middle;\n",
       "    }\n",
       "\n",
       "    .dataframe tbody tr th {\n",
       "        vertical-align: top;\n",
       "    }\n",
       "\n",
       "    .dataframe thead th {\n",
       "        text-align: right;\n",
       "    }\n",
       "</style>\n",
       "<table border=\"1\" class=\"dataframe\">\n",
       "  <thead>\n",
       "    <tr style=\"text-align: right;\">\n",
       "      <th></th>\n",
       "      <th>column1</th>\n",
       "      <th>column2</th>\n",
       "      <th>column3</th>\n",
       "      <th>column4</th>\n",
       "      <th>column5</th>\n",
       "    </tr>\n",
       "  </thead>\n",
       "  <tbody>\n",
       "    <tr>\n",
       "      <th>0</th>\n",
       "      <td>0.257530</td>\n",
       "      <td>0.256080</td>\n",
       "      <td>0.306458</td>\n",
       "      <td>0.463369</td>\n",
       "      <td>0.668492</td>\n",
       "    </tr>\n",
       "    <tr>\n",
       "      <th>1</th>\n",
       "      <td>0.586905</td>\n",
       "      <td>0.933924</td>\n",
       "      <td>0.430284</td>\n",
       "      <td>0.764037</td>\n",
       "      <td>0.936063</td>\n",
       "    </tr>\n",
       "    <tr>\n",
       "      <th>2</th>\n",
       "      <td>0.232172</td>\n",
       "      <td>0.422021</td>\n",
       "      <td>0.325718</td>\n",
       "      <td>0.956890</td>\n",
       "      <td>0.547270</td>\n",
       "    </tr>\n",
       "    <tr>\n",
       "      <th>3</th>\n",
       "      <td>0.934145</td>\n",
       "      <td>0.089804</td>\n",
       "      <td>0.368024</td>\n",
       "      <td>0.028631</td>\n",
       "      <td>0.158348</td>\n",
       "    </tr>\n",
       "    <tr>\n",
       "      <th>4</th>\n",
       "      <td>0.476079</td>\n",
       "      <td>0.214360</td>\n",
       "      <td>0.573140</td>\n",
       "      <td>0.109177</td>\n",
       "      <td>0.457492</td>\n",
       "    </tr>\n",
       "  </tbody>\n",
       "</table>\n",
       "</div>"
      ],
      "text/plain": [
       "    column1   column2   column3   column4   column5\n",
       "0  0.257530  0.256080  0.306458  0.463369  0.668492\n",
       "1  0.586905  0.933924  0.430284  0.764037  0.936063\n",
       "2  0.232172  0.422021  0.325718  0.956890  0.547270\n",
       "3  0.934145  0.089804  0.368024  0.028631  0.158348\n",
       "4  0.476079  0.214360  0.573140  0.109177  0.457492"
      ]
     },
     "execution_count": 26,
     "metadata": {},
     "output_type": "execute_result"
    }
   ],
   "source": [
    "data.head()"
   ]
  },
  {
   "cell_type": "code",
   "execution_count": 27,
   "metadata": {},
   "outputs": [],
   "source": [
    "from datetime import datetime"
   ]
  },
  {
   "cell_type": "code",
   "execution_count": 28,
   "metadata": {},
   "outputs": [
    {
     "name": "stdout",
     "output_type": "stream",
     "text": [
      "processsing index  0\n",
      "processsing index  10000\n",
      "processsing index  20000\n",
      "processsing index  30000\n",
      "processsing index  40000\n",
      "processsing index  50000\n",
      "processsing index  60000\n",
      "processsing index  70000\n",
      "processsing index  80000\n",
      "processsing index  90000\n",
      "processsing index  100000\n",
      "processsing index  110000\n",
      "processsing index  120000\n",
      "processsing index  130000\n",
      "processsing index  140000\n",
      "processsing index  150000\n",
      "processsing index  160000\n",
      "processsing index  170000\n",
      "processsing index  180000\n",
      "processsing index  190000\n",
      "processsing index  200000\n",
      "processsing index  210000\n",
      "processsing index  220000\n",
      "processsing index  230000\n",
      "processsing index  240000\n",
      "processsing index  250000\n",
      "processsing index  260000\n",
      "processsing index  270000\n",
      "processsing index  280000\n",
      "processsing index  290000\n",
      "processsing index  300000\n",
      "processsing index  310000\n",
      "processsing index  320000\n",
      "processsing index  330000\n",
      "processsing index  340000\n",
      "processsing index  350000\n",
      "processsing index  360000\n",
      "processsing index  370000\n",
      "processsing index  380000\n",
      "processsing index  390000\n",
      "processsing index  400000\n",
      "processsing index  410000\n",
      "processsing index  420000\n",
      "processsing index  430000\n",
      "processsing index  440000\n",
      "processsing index  450000\n",
      "processsing index  460000\n",
      "processsing index  470000\n",
      "processsing index  480000\n",
      "processsing index  490000\n",
      "processsing index  500000\n",
      "processsing index  510000\n",
      "processsing index  520000\n",
      "processsing index  530000\n",
      "processsing index  540000\n",
      "processsing index  550000\n",
      "processsing index  560000\n",
      "processsing index  570000\n",
      "processsing index  580000\n",
      "processsing index  590000\n",
      "processsing index  600000\n",
      "processsing index  610000\n",
      "processsing index  620000\n",
      "processsing index  630000\n",
      "processsing index  640000\n",
      "processsing index  650000\n",
      "processsing index  660000\n",
      "processsing index  670000\n",
      "processsing index  680000\n",
      "processsing index  690000\n",
      "processsing index  700000\n",
      "processsing index  710000\n",
      "processsing index  720000\n",
      "processsing index  730000\n",
      "processsing index  740000\n",
      "processsing index  750000\n",
      "processsing index  760000\n",
      "processsing index  770000\n",
      "processsing index  780000\n",
      "processsing index  790000\n",
      "processsing index  800000\n",
      "processsing index  810000\n",
      "processsing index  820000\n",
      "processsing index  830000\n",
      "processsing index  840000\n",
      "processsing index  850000\n",
      "processsing index  860000\n",
      "processsing index  870000\n",
      "processsing index  880000\n",
      "processsing index  890000\n",
      "processsing index  900000\n",
      "processsing index  910000\n",
      "processsing index  920000\n",
      "processsing index  930000\n",
      "processsing index  940000\n",
      "processsing index  950000\n",
      "processsing index  960000\n",
      "processsing index  970000\n",
      "processsing index  980000\n",
      "processsing index  990000\n",
      "0:07:47.701800\n"
     ]
    }
   ],
   "source": [
    "s = datetime.now()\n",
    "\n",
    "\n",
    "#process\n",
    "for index in range(data.shape[0]):\n",
    "    \n",
    "    if index % 10000 ==0:\n",
    "        print(\"processsing index \", index)\n",
    "\n",
    "    values_tuple_string = str(tuple(data.loc[index]))\n",
    "    cursor.execute(\"INSERT INTO numbers VALUES {}\".format(values_tuple_string))\n",
    "\n",
    "print(datetime.now() - s)"
   ]
  },
  {
   "cell_type": "code",
   "execution_count": 29,
   "metadata": {},
   "outputs": [],
   "source": [
    "connection.commit()"
   ]
  },
  {
   "cell_type": "code",
   "execution_count": 30,
   "metadata": {},
   "outputs": [],
   "source": [
    "cursor.execute(\"SELECT * FROM numbers\")"
   ]
  },
  {
   "cell_type": "code",
   "execution_count": 31,
   "metadata": {},
   "outputs": [],
   "source": [
    "numpytable_records = cursor.fetchall()"
   ]
  },
  {
   "cell_type": "code",
   "execution_count": 32,
   "metadata": {},
   "outputs": [],
   "source": [
    "data = pandas.DataFrame(numpytable_records)"
   ]
  }
 ],
 "metadata": {
  "kernelspec": {
   "display_name": "Python 3",
   "language": "python",
   "name": "python3"
  },
  "language_info": {
   "codemirror_mode": {
    "name": "ipython",
    "version": 3
   },
   "file_extension": ".py",
   "mimetype": "text/x-python",
   "name": "python",
   "nbconvert_exporter": "python",
   "pygments_lexer": "ipython3",
   "version": "3.6.5"
  },
  "toc": {
   "base_numbering": 1,
   "nav_menu": {},
   "number_sections": true,
   "sideBar": true,
   "skip_h1_title": false,
   "title_cell": "Table of Contents",
   "title_sidebar": "Contents",
   "toc_cell": false,
   "toc_position": {},
   "toc_section_display": true,
   "toc_window_display": true
  },
  "varInspector": {
   "cols": {
    "lenName": 16,
    "lenType": 16,
    "lenVar": 40
   },
   "kernels_config": {
    "python": {
     "delete_cmd_postfix": "",
     "delete_cmd_prefix": "del ",
     "library": "var_list.py",
     "varRefreshCmd": "print(var_dic_list())"
    },
    "r": {
     "delete_cmd_postfix": ") ",
     "delete_cmd_prefix": "rm(",
     "library": "var_list.r",
     "varRefreshCmd": "cat(var_dic_list()) "
    }
   },
   "types_to_exclude": [
    "module",
    "function",
    "builtin_function_or_method",
    "instance",
    "_Feature"
   ],
   "window_display": false
  }
 },
 "nbformat": 4,
 "nbformat_minor": 2
}
