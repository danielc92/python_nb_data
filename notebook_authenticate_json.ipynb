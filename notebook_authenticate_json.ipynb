{
 "cells": [
  {
   "cell_type": "markdown",
   "metadata": {},
   "source": [
    "## Authenticate users from a dictionary/json file "
   ]
  },
  {
   "cell_type": "markdown",
   "metadata": {},
   "source": [
    "### Example hashing/salt passwords\n",
    "```python\n",
    "import hashlib, uuid\n",
    "salt = uuid.uuid4().hex\n",
    "hashed_password = hashlib.sha512(password + salt).hexdigest()\n",
    "```"
   ]
  },
  {
   "cell_type": "markdown",
   "metadata": {},
   "source": [
    "### Users Raw"
   ]
  },
  {
   "cell_type": "code",
   "execution_count": 1,
   "metadata": {},
   "outputs": [],
   "source": [
    "users_raw = [{'barry':'young1'},\n",
    "         {'daniel':'potting4'},\n",
    "        {'henry':'young1'}]"
   ]
  },
  {
   "cell_type": "markdown",
   "metadata": {},
   "source": [
    "### Users Encrypted"
   ]
  },
  {
   "cell_type": "code",
   "execution_count": 2,
   "metadata": {},
   "outputs": [],
   "source": [
    "import hashlib, uuid\n",
    "salt = uuid.uuid4().hex"
   ]
  },
  {
   "cell_type": "code",
   "execution_count": 3,
   "metadata": {},
   "outputs": [],
   "source": [
    "users_encrypted = users_raw\n",
    "\n",
    "for record in users_encrypted:\n",
    "    username = list(record.keys())[0]\n",
    "    password = record[username]\n",
    "    encrypted = hashlib.sha512(password.encode('utf-8') + salt.encode('utf-8')).hexdigest()\n",
    "    record[username] = encrypted"
   ]
  },
  {
   "cell_type": "code",
   "execution_count": 4,
   "metadata": {},
   "outputs": [
    {
     "data": {
      "text/plain": [
       "[{'barry': 'd7c085cabc47ab7351587404aa549e5734f963643c30839ac4baf113302bd0b3a6b9264dddc339edcd89ca127612d50b4039143a71c98819b1f134c7592b7cea'},\n",
       " {'daniel': 'd442ae0b94805ce870911ba4659b9a583f3b1e0b072697d4af402c3c558ef72e1b52c079027a92de1c61549b851b59895b84f49ddebff6c79129f79c0451d023'},\n",
       " {'henry': 'd7c085cabc47ab7351587404aa549e5734f963643c30839ac4baf113302bd0b3a6b9264dddc339edcd89ca127612d50b4039143a71c98819b1f134c7592b7cea'}]"
      ]
     },
     "execution_count": 4,
     "metadata": {},
     "output_type": "execute_result"
    }
   ],
   "source": [
    "users_encrypted"
   ]
  },
  {
   "cell_type": "code",
   "execution_count": 5,
   "metadata": {},
   "outputs": [],
   "source": [
    "def authenticate(username, password):\n",
    "    \n",
    "    valid_user = False\n",
    "    encrypted_password = hashlib.sha512(password.encode('utf-8') + salt.encode('utf-8')).hexdigest()\n",
    "    \n",
    "    # Check if user is in dictionary and check is password is in same dict\n",
    "    for dictionary in users_encrypted:\n",
    "        if username in dictionary.keys():\n",
    "            if dictionary[username] == encrypted_password:\n",
    "                valid_user = True\n",
    "                break\n",
    "                \n",
    "    # Return result\n",
    "    return valid_user"
   ]
  },
  {
   "cell_type": "markdown",
   "metadata": {},
   "source": [
    "### Examples"
   ]
  },
  {
   "cell_type": "code",
   "execution_count": 8,
   "metadata": {},
   "outputs": [
    {
     "data": {
      "text/plain": [
       "True"
      ]
     },
     "execution_count": 8,
     "metadata": {},
     "output_type": "execute_result"
    }
   ],
   "source": [
    "authenticate('henry','young1')"
   ]
  },
  {
   "cell_type": "code",
   "execution_count": 10,
   "metadata": {},
   "outputs": [
    {
     "data": {
      "text/plain": [
       "True"
      ]
     },
     "execution_count": 10,
     "metadata": {},
     "output_type": "execute_result"
    }
   ],
   "source": [
    "authenticate('daniel','potting4')"
   ]
  },
  {
   "cell_type": "code",
   "execution_count": 9,
   "metadata": {},
   "outputs": [
    {
     "data": {
      "text/plain": [
       "False"
      ]
     },
     "execution_count": 9,
     "metadata": {},
     "output_type": "execute_result"
    }
   ],
   "source": [
    "authenticate('henr2','young45')"
   ]
  },
  {
   "cell_type": "code",
   "execution_count": 11,
   "metadata": {},
   "outputs": [
    {
     "data": {
      "text/plain": [
       "False"
      ]
     },
     "execution_count": 11,
     "metadata": {},
     "output_type": "execute_result"
    }
   ],
   "source": [
    "authenticate('daniel1','potting4')"
   ]
  }
 ],
 "metadata": {
  "kernelspec": {
   "display_name": "Python 3",
   "language": "python",
   "name": "python3"
  },
  "language_info": {
   "codemirror_mode": {
    "name": "ipython",
    "version": 3
   },
   "file_extension": ".py",
   "mimetype": "text/x-python",
   "name": "python",
   "nbconvert_exporter": "python",
   "pygments_lexer": "ipython3",
   "version": "3.6.5"
  },
  "toc": {
   "base_numbering": 1,
   "nav_menu": {},
   "number_sections": true,
   "sideBar": true,
   "skip_h1_title": false,
   "title_cell": "Table of Contents",
   "title_sidebar": "Contents",
   "toc_cell": false,
   "toc_position": {},
   "toc_section_display": true,
   "toc_window_display": false
  },
  "varInspector": {
   "cols": {
    "lenName": 16,
    "lenType": 16,
    "lenVar": 40
   },
   "kernels_config": {
    "python": {
     "delete_cmd_postfix": "",
     "delete_cmd_prefix": "del ",
     "library": "var_list.py",
     "varRefreshCmd": "print(var_dic_list())"
    },
    "r": {
     "delete_cmd_postfix": ") ",
     "delete_cmd_prefix": "rm(",
     "library": "var_list.r",
     "varRefreshCmd": "cat(var_dic_list()) "
    }
   },
   "types_to_exclude": [
    "module",
    "function",
    "builtin_function_or_method",
    "instance",
    "_Feature"
   ],
   "window_display": false
  }
 },
 "nbformat": 4,
 "nbformat_minor": 2
}
