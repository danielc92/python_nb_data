{
 "cells": [
  {
   "cell_type": "markdown",
   "metadata": {},
   "source": [
    "# Append LGA Codes\n",
    "\n",
    "- Takes input csv/excel containing dirty local government area names\n",
    "- Appends local government area code (ABS) to copy of data\n",
    "- Data can be exported as csv or excel"
   ]
  },
  {
   "cell_type": "markdown",
   "metadata": {},
   "source": [
    "## Import modules"
   ]
  },
  {
   "cell_type": "code",
   "execution_count": 1,
   "metadata": {},
   "outputs": [],
   "source": [
    "import datetime as dt\n",
    "import pandas as pd\n",
    "import numpy as np"
   ]
  },
  {
   "cell_type": "markdown",
   "metadata": {},
   "source": [
    "## Define Functions"
   ]
  },
  {
   "cell_type": "markdown",
   "metadata": {},
   "source": [
    "### Retrieves relevant column as pandas.Series object"
   ]
  },
  {
   "cell_type": "code",
   "execution_count": 2,
   "metadata": {},
   "outputs": [],
   "source": [
    "def get_lga_name_column_as_series(data, dirty_lga_col_name=\"\"):\n",
    "    try:\n",
    "        series = data[dirty_lga_col_name]\n",
    "        return series\n",
    "    except:\n",
    "        print(\"error: could not create series using the column name specified.\")\n"
   ]
  },
  {
   "cell_type": "markdown",
   "metadata": {},
   "source": [
    "### Dynamically imports data as csv or excel"
   ]
  },
  {
   "cell_type": "code",
   "execution_count": 3,
   "metadata": {},
   "outputs": [],
   "source": [
    "def import_csv_or_excel(filepath=\"\",\n",
    "                        sheet_name=\"Sheet1\",\n",
    "                        data_delimeter=\",\",\n",
    "                        lga_col_name=\"\"):\n",
    "\n",
    "    if \".csv\" in filepath:\n",
    "        data = pd.read_csv(filepath, low_memory=False, error_bad_lines=False, delimiter=data_delimeter)\n",
    "\n",
    "    elif \".xlsx\" in filepath:\n",
    "        # excel_data = pd.ExcelFile(filepath)\n",
    "        # data = pd.concat([excel_data.parse(sheet_name)], axis=1)\n",
    "        data = pd.read_excel(filepath, sheet_name = sheet_name)\n",
    "\n",
    "    else:\n",
    "        print(\"File neither .csv or .xlsx\")\n",
    "\n",
    "    data = data.dropna(how=\"all\", axis=1)\n",
    "\n",
    "    return data\n"
   ]
  },
  {
   "cell_type": "markdown",
   "metadata": {},
   "source": [
    "### Cleans the series containing the dirty LGA names\n",
    "\n",
    "\n",
    "**Operations**\n",
    "- Uppercase.\n",
    "- Strip.\n",
    "- Replace anything which is not A-Z with spaces.\n",
    "- Replace all double spaces with single spaces."
   ]
  },
  {
   "cell_type": "code",
   "execution_count": 11,
   "metadata": {},
   "outputs": [],
   "source": [
    "def clean_lga_name_list(series):\n",
    "    \n",
    "    dirty_lga_list = series.tolist()\n",
    "    '''\n",
    "        steps\n",
    "        1. uppercase\n",
    "        2. strip\n",
    "        3. replace anything which is not A-Z with spaces\n",
    "        4. replace all double spaces with single spaces\n",
    "    '''\n",
    "    # Change all case to uppercase\n",
    "    for n in range(len(dirty_lga_list)):\n",
    "        dirty_lga_list[n] = str(dirty_lga_list[n]).upper()\n",
    "\n",
    "    # Any chars included in this string will not be replaced by spaces\n",
    "    acceptable_chars = \"ABCDEFGHIJKLMNOPQRSTUVWXYZ\"\n",
    "\n",
    "    for index in range(len(dirty_lga_list)):\n",
    "        string = dirty_lga_list[index]\n",
    "        for index2 in range(len(string)):\n",
    "            if string[index2] in acceptable_chars:\n",
    "                pass\n",
    "            else:\n",
    "                string = string.replace(string[index2], \" \")\n",
    "        dirty_lga_list[index] = string\n",
    "\n",
    "    # Replace all double spaces with single spaces\n",
    "    for index in range(len(dirty_lga_list)):\n",
    "        while \"  \" in dirty_lga_list[index]:\n",
    "            dirty_lga_list[index] = dirty_lga_list[index].replace(\"  \", \" \")\n",
    "\n",
    "    # Strip all of the trailing and leading white space\n",
    "    for index in range(len(dirty_lga_list)):\n",
    "        dirty_lga_list[index] = dirty_lga_list[index].strip()\n",
    "\n",
    "    cleaned_lga_list = dirty_lga_list\n",
    "\n",
    "    return cleaned_lga_list"
   ]
  },
  {
   "cell_type": "markdown",
   "metadata": {},
   "source": [
    "### Creates new series containing the found LGA codes"
   ]
  },
  {
   "cell_type": "code",
   "execution_count": 5,
   "metadata": {},
   "outputs": [],
   "source": [
    "def create_lga_code_series_from_list(my_lga_list):\n",
    "\n",
    "    lga_dict = {20110: 'ALPINE'\n",
    "    ,20260: 'ARARAT'\n",
    "    ,20570: 'BALLARAT'\n",
    "    ,20660: 'BANYULE'\n",
    "    ,20740: 'BASS COAST'\n",
    "    ,20830: 'BAW BAW'\n",
    "    ,20910: 'BAYSIDE'\n",
    "    ,21010: 'BENALLA'\n",
    "    ,21110: 'BOROONDARA'\n",
    "    ,21180: 'BRIMBANK'\n",
    "    ,21270: 'BULOKE'\n",
    "    ,21370: 'CAMPASPE'\n",
    "    ,21450: 'CARDINIA'\n",
    "    ,21610: 'CASEY'\n",
    "    ,21670: 'CENTRAL GOLDFIELDS'\n",
    "    ,21750: 'COLAC OTWAY'\n",
    "    ,21830: 'CORANGAMITE'\n",
    "    ,21890: 'DAREBIN'\n",
    "    ,22110: 'EAST GIPPSLAND'\n",
    "    ,22170: 'FRANKSTON'\n",
    "    ,22250: 'GANNAWARRA'\n",
    "    ,22310: 'GLEN EIRA'\n",
    "    ,22410: 'GLENELG'\n",
    "    ,22490: 'GOLDEN PLAINS'\n",
    "    ,22620: 'GREATER BENDIGO'\n",
    "    ,22670: 'GREATER DANDENONG'\n",
    "    ,22750: 'GREATER GEELONG'\n",
    "    ,22830: 'GREATER SHEPPARTON'\n",
    "    ,22910: 'HEPBURN'\n",
    "    ,22980: 'HINDMARSH'\n",
    "    ,23110: 'HOBSONS BAY'\n",
    "    ,23190: 'HORSHAM'\n",
    "    ,23270: 'HUME'\n",
    "    ,23350: 'INDIGO'\n",
    "    ,23430: 'KINGSTON'\n",
    "    ,23670: 'KNOX'\n",
    "    ,23810: 'LATROBE'\n",
    "    ,23940: 'LODDON'\n",
    "    ,24130: 'MACEDON RANGES'\n",
    "    ,24210: 'MANNINGHAM'\n",
    "    ,24250: 'MANSFIELD'\n",
    "    ,24330: 'MARIBYRNONG'\n",
    "    ,24410: 'MAROONDAH'\n",
    "    ,24600: 'MELBOURNE'\n",
    "    ,24650: 'MELTON'\n",
    "    ,24780: 'MILDURA'\n",
    "    ,24850: 'MITCHELL'\n",
    "    ,24900: 'MOIRA'\n",
    "    ,24970: 'MONASH'\n",
    "    ,25060: 'MOONEE VALLEY'\n",
    "    ,25150: 'MOORABOOL'\n",
    "    ,25250: 'MORELAND'\n",
    "    ,25340: 'MORNINGTON PENINSULA'\n",
    "    ,25430: 'MOUNT ALEXANDER'\n",
    "    ,25490: 'MOYNE'\n",
    "    ,25620: 'MURRINDINDI'\n",
    "    ,25710: 'NILLUMBIK'\n",
    "    ,25810: 'NORTHERN GRAMPIANS'\n",
    "    ,25900: 'PORT PHILLIP'\n",
    "    ,25990: 'PYRENEES'\n",
    "    ,26080: 'QUEENSCLIFFE'\n",
    "    ,26170: 'SOUTH GIPPSLAND'\n",
    "    ,26260: 'SOUTHERN GRAMPIANS'\n",
    "    ,26350: 'STONNINGTON'\n",
    "    ,26430: 'STRATHBOGIE'\n",
    "    ,26490: 'SURF COAST'\n",
    "    ,26610: 'SWAN HILL'\n",
    "    ,26670: 'TOWONG'\n",
    "    ,29399: 'UNINCORPORATED VIC'\n",
    "    ,26700: 'WANGARATTA'\n",
    "    ,26730: 'WARRNAMBOOL'\n",
    "    ,26810: 'WELLINGTON'\n",
    "    ,26890: 'WEST WIMMERA'\n",
    "    ,26980: 'WHITEHORSE'\n",
    "    ,27070: 'WHITTLESEA'\n",
    "    ,27170: 'WODONGA'\n",
    "    ,27260: 'WYNDHAM'\n",
    "    ,27450: 'YARRA RANGES'\n",
    "    ,27350: 'YARRA'\n",
    "    ,27630: 'YARRIAMBIACK'\n",
    "    ,29499: 'NO USUAL ADDRESS'\n",
    "    ,29799: 'MIGRATORY OFFSHORE SHIPPING'}\n",
    "\n",
    "    lga_code_list = []\n",
    "\n",
    "    for index in range(len(my_lga_list)):\n",
    "\n",
    "        current_lga_name = my_lga_list[index]\n",
    "\n",
    "        flag = False\n",
    "\n",
    "        for item in lga_dict.items():\n",
    "            \n",
    "            reference_lga_code = item[0]\n",
    "            reference_lga_name = item[1]\n",
    "\n",
    "            if reference_lga_name in current_lga_name:\n",
    "                \n",
    "                lga_code_list.append(reference_lga_code)\n",
    "                flag = True\n",
    "                \n",
    "            if flag == True:\n",
    "                break\n",
    "\n",
    "        if flag == False:\n",
    "            lga_code_list.append(None)\n",
    "\n",
    "    lga_code_series = pd.Series(lga_code_list)\n",
    "    return lga_code_series"
   ]
  },
  {
   "cell_type": "markdown",
   "metadata": {},
   "source": [
    "### Appends attempt at matching codes to copy of data"
   ]
  },
  {
   "cell_type": "code",
   "execution_count": 6,
   "metadata": {},
   "outputs": [],
   "source": [
    "def append_new_codes_to_original_data(data,\n",
    "                                      new_lga_column_series):\n",
    "    data = pd.concat([data, new_lga_column_series.rename(\"LGA_CODE_SCRIPT\")], axis=1)\n",
    "    return data"
   ]
  },
  {
   "cell_type": "markdown",
   "metadata": {},
   "source": [
    "### Exports data to csv/excel format"
   ]
  },
  {
   "cell_type": "code",
   "execution_count": 15,
   "metadata": {},
   "outputs": [],
   "source": [
    "def export_new_data(new_data, export_name=\"cleaned_lga\", type=\".csv\", export_path = \"/users/danielcorcoran/desktop/\"):\n",
    "    if type != \".xlsx\" and type != \".csv\":\n",
    "        type = \".csv\"\n",
    "\n",
    "    if type == \".csv\":\n",
    "        new_data.to_csv(export_path + export_name + type, index=False)\n",
    "    elif type == \".xlsx\":\n",
    "        new_data.to_excel(export_path + export_name + type, index=False)"
   ]
  },
  {
   "cell_type": "markdown",
   "metadata": {},
   "source": [
    "## Process"
   ]
  },
  {
   "cell_type": "markdown",
   "metadata": {},
   "source": [
    "### Import data, specifying sheet name if the file has .xlsx extension"
   ]
  },
  {
   "cell_type": "code",
   "execution_count": 8,
   "metadata": {},
   "outputs": [],
   "source": [
    "data = import_csv_or_excel(sheet_name=\"Data\",\n",
    "                           filepath=\"/users/danielcorcoran/Desktop/test.xlsx\")"
   ]
  },
  {
   "cell_type": "markdown",
   "metadata": {},
   "source": [
    "### Use get_lga_name_column_as_series() to create series from data given the name of dirty lgas"
   ]
  },
  {
   "cell_type": "code",
   "execution_count": 9,
   "metadata": {},
   "outputs": [],
   "source": [
    "series = get_lga_name_column_as_series(data, dirty_lga_col_name=\"Local Government Area\")"
   ]
  },
  {
   "cell_type": "markdown",
   "metadata": {},
   "source": [
    "### Clean the series created above using clean_lga_name_list() function"
   ]
  },
  {
   "cell_type": "code",
   "execution_count": 12,
   "metadata": {},
   "outputs": [],
   "source": [
    "clean_list = clean_lga_name_list(series)"
   ]
  },
  {
   "cell_type": "markdown",
   "metadata": {},
   "source": [
    "### Create new lga code series based on clean list above"
   ]
  },
  {
   "cell_type": "code",
   "execution_count": 13,
   "metadata": {},
   "outputs": [],
   "source": [
    "new_lga_code_series = create_lga_code_series_from_list(my_lga_list=clean_list)"
   ]
  },
  {
   "cell_type": "markdown",
   "metadata": {},
   "source": [
    "### Append newly found codes to original data set"
   ]
  },
  {
   "cell_type": "code",
   "execution_count": 14,
   "metadata": {},
   "outputs": [],
   "source": [
    "new_data = append_new_codes_to_original_data(data, new_lga_code_series)"
   ]
  },
  {
   "cell_type": "markdown",
   "metadata": {},
   "source": [
    "### Export to .csv, specifying name of file (excludes extension)"
   ]
  },
  {
   "cell_type": "code",
   "execution_count": 16,
   "metadata": {},
   "outputs": [],
   "source": [
    "export_new_data(new_data, export_name=\"cleaned_lga\", type=\".xlsx\")"
   ]
  },
  {
   "cell_type": "code",
   "execution_count": null,
   "metadata": {},
   "outputs": [],
   "source": []
  }
 ],
 "metadata": {
  "kernelspec": {
   "display_name": "Python 3",
   "language": "python",
   "name": "python3"
  },
  "language_info": {
   "codemirror_mode": {
    "name": "ipython",
    "version": 3
   },
   "file_extension": ".py",
   "mimetype": "text/x-python",
   "name": "python",
   "nbconvert_exporter": "python",
   "pygments_lexer": "ipython3",
   "version": "3.6.5"
  },
  "toc": {
   "base_numbering": 1,
   "nav_menu": {},
   "number_sections": true,
   "sideBar": true,
   "skip_h1_title": false,
   "title_cell": "Table of Contents",
   "title_sidebar": "Contents",
   "toc_cell": false,
   "toc_position": {
    "height": "calc(100% - 180px)",
    "left": "10px",
    "top": "150px",
    "width": "288px"
   },
   "toc_section_display": true,
   "toc_window_display": true
  },
  "varInspector": {
   "cols": {
    "lenName": 16,
    "lenType": 16,
    "lenVar": 40
   },
   "kernels_config": {
    "python": {
     "delete_cmd_postfix": "",
     "delete_cmd_prefix": "del ",
     "library": "var_list.py",
     "varRefreshCmd": "print(var_dic_list())"
    },
    "r": {
     "delete_cmd_postfix": ") ",
     "delete_cmd_prefix": "rm(",
     "library": "var_list.r",
     "varRefreshCmd": "cat(var_dic_list()) "
    }
   },
   "types_to_exclude": [
    "module",
    "function",
    "builtin_function_or_method",
    "instance",
    "_Feature"
   ],
   "window_display": false
  }
 },
 "nbformat": 4,
 "nbformat_minor": 2
}
