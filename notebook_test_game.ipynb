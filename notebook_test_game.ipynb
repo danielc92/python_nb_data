{
 "cells": [
  {
   "cell_type": "markdown",
   "metadata": {},
   "source": [
    "# Test Game"
   ]
  },
  {
   "cell_type": "code",
   "execution_count": 1,
   "metadata": {},
   "outputs": [],
   "source": [
    "import datetime\n",
    "import random\n",
    "import time"
   ]
  },
  {
   "cell_type": "code",
   "execution_count": 2,
   "metadata": {},
   "outputs": [],
   "source": [
    "grid_length = 10\n",
    "grid_width = 10\n",
    "\n",
    "location_coordinates = []\n",
    "\n",
    "for l in range(grid_length):\n",
    "    for w in range(grid_width):\n",
    "        coord = [w, l]\n",
    "        location_coordinates.append(coord)\n",
    "\n",
    "locations_count = len(location_coordinates) - 1"
   ]
  },
  {
   "cell_type": "code",
   "execution_count": 3,
   "metadata": {},
   "outputs": [],
   "source": [
    "class Player:\n",
    "    def __init__(self, start_pos: object, name: object):\n",
    "\n",
    "        self.start_pos = start_pos\n",
    "        self.current_pos = start_pos\n",
    "        self.name = name\n",
    "\n",
    "        self.health = 100\n",
    "        self.tagged = False\n",
    "        self.alive = True\n",
    "\n",
    "        print(\"Welcome to game, player\", self.name, \"spawned at\",\n",
    "              self.start_pos)\n",
    "\n",
    "    def dirty_data(self):\n",
    "        chance = random.randint(1, 2)\n",
    "        if chance == 2:\n",
    "            self.tagged = True\n",
    "            self.health = self.health - 5\n",
    "            print(\"Oh no!\", self.name, \"has encountered some DIRTY DATA...\")\n",
    "            self.check_health()\n",
    "        else:\n",
    "            print(\"Seems there is nothing here...\")\n",
    "\n",
    "    def check_health(self):\n",
    "        if self.health <= 0:\n",
    "            print(self.name, \"has perished at location\", self.current_pos)\n",
    "            self.alive = False\n",
    "        else:\n",
    "            print(self.name, \"is alive, with\", self.health,\n",
    "                  \"points remaining.\")\n",
    "\n",
    "    def get_player_position(self):\n",
    "        print(self.name, \"is currently located at:\", self.current_pos)\n",
    "\n",
    "    def move_left(self, paces=1):\n",
    "        print(self.name,\"is currently located at\",self.current_pos,\".\")\n",
    "        print(\"Attempting to move\", self.name, \"left\", paces, \"paces.\")\n",
    "\n",
    "        if self.alive == True:\n",
    "            cloned_pos = self.current_pos\n",
    "            new_pos = [cloned_pos[0] - paces, cloned_pos[1]]\n",
    "\n",
    "            if new_pos in location_coordinates:\n",
    "                self.current_pos = new_pos\n",
    "                print(self.name, \" successfully moved to position \",\n",
    "                      self.current_pos, \".\")\n",
    "                self.dirty_data()\n",
    "            else:\n",
    "                print(\"Position is out of bounds, you cannot move there.\")\n",
    "\n",
    "        elif self.alive == False:\n",
    "            print(self.name, \"is dead and cannot be moved.\")\n",
    "\n",
    "    def move_right(self, paces=1):\n",
    "        print(self.name,\"is currently located at\",self.current_pos,\".\")\n",
    "        print(\"Attempting to move\", self.name, \"right\", paces, \"paces.\")\n",
    "        if self.alive == True:\n",
    "            \n",
    "            cloned_pos = self.current_pos\n",
    "            new_pos = [cloned_pos[0] + paces, cloned_pos[1]]\n",
    "            \n",
    "            if new_pos in location_coordinates:\n",
    "                self.current_pos = new_pos\n",
    "                print(self.name, \" successfully moved to position \",\n",
    "                      self.current_pos, \".\")\n",
    "                self.dirty_data()\n",
    "            else:\n",
    "                print(\"Position is out of bounds, you cannot move there.\")\n",
    "                \n",
    "        elif self.alive == False:\n",
    "            print(self.name, \"is dead and cannot be moved.\")\n",
    "\n",
    "    def move_up(self, paces=1):\n",
    "        print(self.name,\"is currently located at\",self.current_pos,\".\")\n",
    "        print(\"Attempting to move\", self.name, \"up\", paces, \"paces.\")\n",
    "        if self.alive == True:\n",
    "\n",
    "            cloned_pos = self.current_pos\n",
    "            new_pos = [cloned_pos[0], cloned_pos[1] + paces]\n",
    "\n",
    "            if new_pos in location_coordinates:\n",
    "                self.current_pos = new_pos\n",
    "                print(self.name, \" successfully moved to position \",\n",
    "                      self.current_pos, \".\")\n",
    "                self.dirty_data()\n",
    "            else:\n",
    "                print(\"Position is out of bounds, you cannot move there.\")\n",
    "\n",
    "        elif self.alive == False:\n",
    "            print(self.name, \"is dead and cannot be moved.\")\n",
    "\n",
    "    def move_down(self, paces=1):\n",
    "        print(self.name,\"is currently located at\",self.current_pos,\".\")\n",
    "        print(\"Attempting to move\", self.name, \"down\", paces, \"paces.\")\n",
    "        if self.alive == True:\n",
    "\n",
    "            cloned_pos = self.current_pos\n",
    "            new_pos = [cloned_pos[0], cloned_pos[1] - paces]\n",
    "\n",
    "            if new_pos in location_coordinates:\n",
    "                self.current_pos = new_pos\n",
    "                print(self.name, \" successfully moved to position \",\n",
    "                      self.current_pos, \".\")\n",
    "                self.dirty_data()\n",
    "            else:\n",
    "                print(\"Position is out of bounds, you cannot move there.\")\n",
    "\n",
    "        elif self.alive == False:\n",
    "            print(self.name, \"is dead and cannot be moved.\")"
   ]
  },
  {
   "cell_type": "code",
   "execution_count": 4,
   "metadata": {},
   "outputs": [
    {
     "name": "stdout",
     "output_type": "stream",
     "text": [
      "Welcome to game, player David Smith spawned at [4, 4]\n"
     ]
    }
   ],
   "source": [
    "player = Player(\n",
    "    start_pos=location_coordinates[random.randint(0, locations_count)],\n",
    "    name=\"David Smith\")"
   ]
  },
  {
   "cell_type": "code",
   "execution_count": 5,
   "metadata": {},
   "outputs": [
    {
     "name": "stdout",
     "output_type": "stream",
     "text": [
      "David Smith is currently located at [4, 4] .\n",
      "Attempting to move David Smith down 2 paces.\n",
      "David Smith  successfully moved to position  [4, 2] .\n",
      "Seems there is nothing here...\n"
     ]
    }
   ],
   "source": [
    "player.move_down(paces = 2)"
   ]
  },
  {
   "cell_type": "code",
   "execution_count": 6,
   "metadata": {},
   "outputs": [
    {
     "name": "stdout",
     "output_type": "stream",
     "text": [
      "David Smith is currently located at [4, 2] .\n",
      "Attempting to move David Smith up 1 paces.\n",
      "David Smith  successfully moved to position  [4, 3] .\n",
      "Oh no! David Smith has encountered some DIRTY DATA...\n",
      "David Smith is alive, with 95 points remaining.\n"
     ]
    }
   ],
   "source": [
    "player.move_up()"
   ]
  },
  {
   "cell_type": "code",
   "execution_count": 7,
   "metadata": {},
   "outputs": [
    {
     "name": "stdout",
     "output_type": "stream",
     "text": [
      "David Smith is currently located at [4, 3] .\n",
      "Attempting to move David Smith down 1 paces.\n",
      "David Smith  successfully moved to position  [4, 2] .\n",
      "Oh no! David Smith has encountered some DIRTY DATA...\n",
      "David Smith is alive, with 90 points remaining.\n",
      "David Smith is currently located at [4, 2] .\n",
      "Attempting to move David Smith down 1 paces.\n",
      "David Smith  successfully moved to position  [4, 1] .\n",
      "Oh no! David Smith has encountered some DIRTY DATA...\n",
      "David Smith is alive, with 85 points remaining.\n"
     ]
    }
   ],
   "source": [
    "player.move_down()\n",
    "player.move_down()"
   ]
  },
  {
   "cell_type": "code",
   "execution_count": 8,
   "metadata": {},
   "outputs": [
    {
     "name": "stdout",
     "output_type": "stream",
     "text": [
      "David Smith is currently located at [4, 1] .\n",
      "Attempting to move David Smith down 1 paces.\n",
      "David Smith  successfully moved to position  [4, 0] .\n",
      "Seems there is nothing here...\n"
     ]
    }
   ],
   "source": [
    "player.move_down()\n"
   ]
  },
  {
   "cell_type": "code",
   "execution_count": 9,
   "metadata": {},
   "outputs": [
    {
     "name": "stdout",
     "output_type": "stream",
     "text": [
      "David Smith is currently located at [4, 0] .\n",
      "Attempting to move David Smith down 1 paces.\n",
      "Position is out of bounds, you cannot move there.\n"
     ]
    }
   ],
   "source": [
    "player.move_down()"
   ]
  },
  {
   "cell_type": "code",
   "execution_count": 10,
   "metadata": {},
   "outputs": [
    {
     "name": "stdout",
     "output_type": "stream",
     "text": [
      "David Smith is currently located at [4, 0] .\n",
      "Attempting to move David Smith down 1 paces.\n",
      "Position is out of bounds, you cannot move there.\n"
     ]
    }
   ],
   "source": [
    "player.move_down()"
   ]
  },
  {
   "cell_type": "code",
   "execution_count": 11,
   "metadata": {},
   "outputs": [
    {
     "name": "stdout",
     "output_type": "stream",
     "text": [
      "David Smith is currently located at [4, 0] .\n",
      "Attempting to move David Smith down 1 paces.\n",
      "Position is out of bounds, you cannot move there.\n"
     ]
    }
   ],
   "source": [
    "player.move_down()"
   ]
  },
  {
   "cell_type": "code",
   "execution_count": 12,
   "metadata": {},
   "outputs": [
    {
     "name": "stdout",
     "output_type": "stream",
     "text": [
      "David Smith is currently located at [4, 0] .\n",
      "Attempting to move David Smith down 1 paces.\n",
      "Position is out of bounds, you cannot move there.\n"
     ]
    }
   ],
   "source": [
    "player.move_down()"
   ]
  },
  {
   "cell_type": "code",
   "execution_count": 13,
   "metadata": {
    "scrolled": true
   },
   "outputs": [
    {
     "name": "stdout",
     "output_type": "stream",
     "text": [
      "David Smith is currently located at [4, 0] .\n",
      "Attempting to move David Smith down 1 paces.\n",
      "Position is out of bounds, you cannot move there.\n"
     ]
    }
   ],
   "source": [
    "player.move_down()"
   ]
  },
  {
   "cell_type": "code",
   "execution_count": 14,
   "metadata": {},
   "outputs": [
    {
     "name": "stdout",
     "output_type": "stream",
     "text": [
      "David Smith is currently located at [4, 0] .\n",
      "Attempting to move David Smith left 1 paces.\n",
      "David Smith  successfully moved to position  [3, 0] .\n",
      "Seems there is nothing here...\n"
     ]
    }
   ],
   "source": [
    "player.move_left()"
   ]
  },
  {
   "cell_type": "code",
   "execution_count": 15,
   "metadata": {},
   "outputs": [
    {
     "name": "stdout",
     "output_type": "stream",
     "text": [
      "David Smith is currently located at [3, 0] .\n",
      "Attempting to move David Smith left 1 paces.\n",
      "David Smith  successfully moved to position  [2, 0] .\n",
      "Oh no! David Smith has encountered some DIRTY DATA...\n",
      "David Smith is alive, with 80 points remaining.\n"
     ]
    }
   ],
   "source": [
    "player.move_left()"
   ]
  },
  {
   "cell_type": "code",
   "execution_count": 16,
   "metadata": {},
   "outputs": [
    {
     "name": "stdout",
     "output_type": "stream",
     "text": [
      "David Smith is currently located at [2, 0] .\n",
      "Attempting to move David Smith up 1 paces.\n",
      "David Smith  successfully moved to position  [2, 1] .\n",
      "Oh no! David Smith has encountered some DIRTY DATA...\n",
      "David Smith is alive, with 75 points remaining.\n",
      "David Smith is currently located at [2, 1] .\n",
      "Attempting to move David Smith up 1 paces.\n",
      "David Smith  successfully moved to position  [2, 2] .\n",
      "Oh no! David Smith has encountered some DIRTY DATA...\n",
      "David Smith is alive, with 70 points remaining.\n",
      "David Smith is currently located at [2, 2] .\n",
      "Attempting to move David Smith up 1 paces.\n",
      "David Smith  successfully moved to position  [2, 3] .\n",
      "Seems there is nothing here...\n",
      "David Smith is currently located at [2, 3] .\n",
      "Attempting to move David Smith up 1 paces.\n",
      "David Smith  successfully moved to position  [2, 4] .\n",
      "Oh no! David Smith has encountered some DIRTY DATA...\n",
      "David Smith is alive, with 65 points remaining.\n"
     ]
    }
   ],
   "source": [
    "player.move_up()\n",
    "player.move_up()\n",
    "player.move_up()\n",
    "player.move_up()"
   ]
  },
  {
   "cell_type": "code",
   "execution_count": 17,
   "metadata": {},
   "outputs": [
    {
     "name": "stdout",
     "output_type": "stream",
     "text": [
      "David Smith is currently located at [2, 4] .\n",
      "Attempting to move David Smith up 1 paces.\n",
      "David Smith  successfully moved to position  [2, 5] .\n",
      "Oh no! David Smith has encountered some DIRTY DATA...\n",
      "David Smith is alive, with 60 points remaining.\n",
      "David Smith is currently located at [2, 5] .\n",
      "Attempting to move David Smith up 1 paces.\n",
      "David Smith  successfully moved to position  [2, 6] .\n",
      "Seems there is nothing here...\n",
      "David Smith is currently located at [2, 6] .\n",
      "Attempting to move David Smith up 1 paces.\n",
      "David Smith  successfully moved to position  [2, 7] .\n",
      "Oh no! David Smith has encountered some DIRTY DATA...\n",
      "David Smith is alive, with 55 points remaining.\n"
     ]
    }
   ],
   "source": [
    "player.move_up()\n",
    "player.move_up()\n",
    "player.move_up()"
   ]
  },
  {
   "cell_type": "code",
   "execution_count": 18,
   "metadata": {},
   "outputs": [
    {
     "name": "stdout",
     "output_type": "stream",
     "text": [
      "David Smith is currently located at [2, 7] .\n",
      "Attempting to move David Smith right 1 paces.\n",
      "David Smith  successfully moved to position  [3, 7] .\n",
      "Seems there is nothing here...\n",
      "David Smith is currently located at [3, 7] .\n",
      "Attempting to move David Smith right 1 paces.\n",
      "David Smith  successfully moved to position  [4, 7] .\n",
      "Oh no! David Smith has encountered some DIRTY DATA...\n",
      "David Smith is alive, with 50 points remaining.\n",
      "David Smith is currently located at [4, 7] .\n",
      "Attempting to move David Smith right 1 paces.\n",
      "David Smith  successfully moved to position  [5, 7] .\n",
      "Oh no! David Smith has encountered some DIRTY DATA...\n",
      "David Smith is alive, with 45 points remaining.\n",
      "David Smith is currently located at [5, 7] .\n",
      "Attempting to move David Smith right 1 paces.\n",
      "David Smith  successfully moved to position  [6, 7] .\n",
      "Oh no! David Smith has encountered some DIRTY DATA...\n",
      "David Smith is alive, with 40 points remaining.\n",
      "David Smith is currently located at [6, 7] .\n",
      "Attempting to move David Smith right 1 paces.\n",
      "David Smith  successfully moved to position  [7, 7] .\n",
      "Seems there is nothing here...\n",
      "David Smith is currently located at [7, 7] .\n",
      "Attempting to move David Smith right 1 paces.\n",
      "David Smith  successfully moved to position  [8, 7] .\n",
      "Seems there is nothing here...\n",
      "David Smith is currently located at [8, 7] .\n",
      "Attempting to move David Smith right 1 paces.\n",
      "David Smith  successfully moved to position  [9, 7] .\n",
      "Oh no! David Smith has encountered some DIRTY DATA...\n",
      "David Smith is alive, with 35 points remaining.\n",
      "David Smith is currently located at [9, 7] .\n",
      "Attempting to move David Smith right 1 paces.\n",
      "Position is out of bounds, you cannot move there.\n"
     ]
    }
   ],
   "source": [
    "player.move_right()\n",
    "player.move_right()\n",
    "player.move_right()\n",
    "player.move_right()\n",
    "player.move_right()\n",
    "player.move_right()\n",
    "player.move_right()\n",
    "player.move_right()"
   ]
  }
 ],
 "metadata": {
  "kernelspec": {
   "display_name": "Python 3",
   "language": "python",
   "name": "python3"
  },
  "language_info": {
   "codemirror_mode": {
    "name": "ipython",
    "version": 3
   },
   "file_extension": ".py",
   "mimetype": "text/x-python",
   "name": "python",
   "nbconvert_exporter": "python",
   "pygments_lexer": "ipython3",
   "version": "3.6.5"
  },
  "toc": {
   "base_numbering": 1,
   "nav_menu": {},
   "number_sections": true,
   "sideBar": true,
   "skip_h1_title": false,
   "title_cell": "Table of Contents",
   "title_sidebar": "Contents",
   "toc_cell": false,
   "toc_position": {},
   "toc_section_display": true,
   "toc_window_display": false
  },
  "varInspector": {
   "cols": {
    "lenName": 16,
    "lenType": 16,
    "lenVar": 40
   },
   "kernels_config": {
    "python": {
     "delete_cmd_postfix": "",
     "delete_cmd_prefix": "del ",
     "library": "var_list.py",
     "varRefreshCmd": "print(var_dic_list())"
    },
    "r": {
     "delete_cmd_postfix": ") ",
     "delete_cmd_prefix": "rm(",
     "library": "var_list.r",
     "varRefreshCmd": "cat(var_dic_list()) "
    }
   },
   "position": {
    "height": "466px",
    "left": "830px",
    "right": "20px",
    "top": "120px",
    "width": "350px"
   },
   "types_to_exclude": [
    "module",
    "function",
    "builtin_function_or_method",
    "instance",
    "_Feature"
   ],
   "window_display": false
  }
 },
 "nbformat": 4,
 "nbformat_minor": 2
}
